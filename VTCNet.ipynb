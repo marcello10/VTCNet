{
 "cells": [
  {
   "cell_type": "code",
   "execution_count": 2,
   "metadata": {
    "execution": {
     "iopub.execute_input": "2024-06-02T16:44:52.005845Z",
     "iopub.status.busy": "2024-06-02T16:44:52.005481Z",
     "iopub.status.idle": "2024-06-02T16:44:55.841360Z",
     "shell.execute_reply": "2024-06-02T16:44:55.840533Z",
     "shell.execute_reply.started": "2024-06-02T16:44:52.005815Z"
    },
    "trusted": true
   },
   "outputs": [],
   "source": [
    "import os\n",
    "import numpy as np\n",
    "from sklearn.model_selection import StratifiedKFold, train_test_split\n",
    "from torch.utils.data import DataLoader\n",
    "from torch.nn import DataParallel\n",
    "import torch\n",
    "import torch.nn as nn\n",
    "from torch.cuda.amp import GradScaler\n",
    "from torchvision.transforms import autoaugment, InterpolationMode\n",
    "import os\n",
    "import numpy as np\n",
    "from PIL import Image\n",
    "import torch\n",
    "from torch.utils.data import Dataset, DataLoader\n",
    "from torchvision import transforms\n",
    "from sklearn.model_selection import StratifiedKFold, train_test_split\n",
    "import torch.optim as optim\n",
    "from torch.cuda.amp import autocast, GradScaler\n",
    "from torch.nn.parallel import DataParallel\n",
    "import torch.nn as nn\n",
    "from tqdm import tqdm\n",
    "from sklearn.metrics import accuracy_score, average_precision_score,precision_score,f1_score,recall_score"
   ]
  },
  {
   "cell_type": "code",
   "execution_count": 3,
   "metadata": {
    "execution": {
     "iopub.execute_input": "2024-06-02T16:44:55.844770Z",
     "iopub.status.busy": "2024-06-02T16:44:55.843354Z",
     "iopub.status.idle": "2024-06-02T16:44:55.859468Z",
     "shell.execute_reply": "2024-06-02T16:44:55.858544Z",
     "shell.execute_reply.started": "2024-06-02T16:44:55.844741Z"
    },
    "trusted": true
   },
   "outputs": [],
   "source": [
    "import torch\n",
    "from torch.utils.data import Dataset\n",
    "from PIL import Image\n",
    "\n",
    "class RetainRandomStateSettings:\n",
    "    def __init__(self, tolerance: float = 1e-2):\n",
    "        self.retention = tolerance\n",
    "        self.__last_loss = float('inf')\n",
    "        self.__initial_epoch_rng_state = torch.get_rng_state()\n",
    "\n",
    "    def step(self):\n",
    "        pass\n",
    "\n",
    "class TolerateLossEpochsPeriod(RetainRandomStateSettings):\n",
    "    def __init__(self, tolerance: float = 1e-2):\n",
    "        super().__init__(tolerance)\n",
    "        self.step = self.__update_epoch_at_first\n",
    "\n",
    "    def __update_epoch_normally(self, loss):\n",
    "        super().step()\n",
    "        if abs(self.__last_loss - loss) < self.retention:\n",
    "            print(f'|{self.__last_loss} - {loss}| < {self.retention}')\n",
    "            print('new rng')\n",
    "            self.__initial_epoch_rng_state = torch.get_rng_state()\n",
    "        self.__last_loss = loss\n",
    "        torch.set_rng_state(self.__initial_epoch_rng_state)\n",
    "\n",
    "    def __update_epoch_at_first(self, loss):\n",
    "        self.__initial_epoch_rng_state = torch.get_rng_state()\n",
    "        self.step = self.__update_epoch_next\n",
    "        \n",
    "    def __update_epoch_next(self, loss):\n",
    "        super().step()\n",
    "        self.__last_loss = loss\n",
    "        torch.set_rng_state(self.__initial_epoch_rng_state)\n",
    "        self.step = self.__update_epoch_normally\n",
    "\n",
    "class MyDataset(Dataset):\n",
    "    def __init__(self, imgs, labels, transform=None, target_transform=None, augment_times=1, tolerance: float = 1e-2):\n",
    "        self.imgs = imgs\n",
    "        self.labels = labels\n",
    "        self.transform = transform\n",
    "        self.target_transform = target_transform\n",
    "        self.augment_times = augment_times\n",
    "        self.loss_tolerance = TolerateLossEpochsPeriod(tolerance)\n",
    "\n",
    "    def __len__(self):\n",
    "        return len(self.imgs)\n",
    "\n",
    "    def __getitem__(self, idx):\n",
    "        if torch.is_tensor(idx):\n",
    "            idx = idx.tolist()\n",
    "        path = self.imgs[idx]\n",
    "        target = self.labels[idx]\n",
    "        try:\n",
    "            img = Image.open(path).convert('RGB')\n",
    "            if not isinstance(img, Image.Image):\n",
    "                raise TypeError(f\"Image at index {idx} is of type {type(img)}, expected PIL Image.\")\n",
    "        except Exception as e:\n",
    "            print(f\"Error loading image at index {idx}: {e}\")\n",
    "            return None, None\n",
    "        \n",
    "        if self.transform:\n",
    "            img = self.transform(img)\n",
    "        if self.target_transform is not None:\n",
    "            target = self.target_transform(target)\n",
    "        return img, target\n",
    "\n",
    "    def update_loss(self, loss):\n",
    "        self.loss_tolerance.step(loss)\n"
   ]
  },
  {
   "cell_type": "code",
   "execution_count": 4,
   "metadata": {
    "execution": {
     "iopub.execute_input": "2024-06-02T16:44:55.860944Z",
     "iopub.status.busy": "2024-06-02T16:44:55.860647Z",
     "iopub.status.idle": "2024-06-02T16:44:55.875853Z",
     "shell.execute_reply": "2024-06-02T16:44:55.874869Z",
     "shell.execute_reply.started": "2024-06-02T16:44:55.860896Z"
    },
    "trusted": true
   },
   "outputs": [],
   "source": [
    "class ExceptableTrivialAugmentWide(autoaugment.TrivialAugmentWide):\n",
    "    def __init__(\n",
    "        self,\n",
    "        num_magnitude_bins: int = 31,\n",
    "        interpolation: InterpolationMode = InterpolationMode.NEAREST,\n",
    "        fill = None,\n",
    "        excepting = {}\n",
    "    ) -> None:\n",
    "        super().__init__(num_magnitude_bins,interpolation,fill)\n",
    "        self.excepting = excepting\n",
    "\n",
    "    def _augmentation_space(self, num_bins: int):\n",
    "        result = super()._augmentation_space(num_bins)\n",
    "        return {key: value for key, value in result.items() if key not in self.excepting}"
   ]
  },
  {
   "cell_type": "code",
   "execution_count": 5,
   "metadata": {
    "execution": {
     "iopub.execute_input": "2024-06-02T16:44:55.878156Z",
     "iopub.status.busy": "2024-06-02T16:44:55.877873Z",
     "iopub.status.idle": "2024-06-02T16:44:55.903240Z",
     "shell.execute_reply": "2024-06-02T16:44:55.902357Z",
     "shell.execute_reply.started": "2024-06-02T16:44:55.878132Z"
    },
    "trusted": true
   },
   "outputs": [],
   "source": [
    "num_classes = 5       # Número total de saída de categorias\n",
    "patch_size = 16       # O tamanho da imagem de entrada a ser segmentada, indicando o tamanho de cada pequeno bloco após a segmentação.\n",
    "hidden_size = 512     # O tamanho da dimensão da camada oculta\n",
    "num_layers = 10       # Número de camadas no codificador\n",
    "dropout_prob = 0.25    # Dropout操作的概率，用于防止过拟合\n",
    "batch_size =128     # Tamanho do lote\n",
    "num_epochs = 100    # 训练轮数\n",
    "learning_rate = 1e-4  # 学习率\n",
    "device = torch.device('cuda:0' if torch.cuda.is_available() else 'cpu')"
   ]
  },
  {
   "cell_type": "code",
   "execution_count": 6,
   "metadata": {
    "execution": {
     "iopub.execute_input": "2024-06-02T16:44:55.904686Z",
     "iopub.status.busy": "2024-06-02T16:44:55.904404Z",
     "iopub.status.idle": "2024-06-02T16:44:55.958389Z",
     "shell.execute_reply": "2024-06-02T16:44:55.957642Z",
     "shell.execute_reply.started": "2024-06-02T16:44:55.904662Z"
    },
    "trusted": true
   },
   "outputs": [],
   "source": [
    "import torch\n",
    "import torch.nn.functional as F\n",
    "import numpy as np\n",
    "from torch import nn\n",
    "import warnings\n",
    "\n",
    "\n",
    "_BATCH_NORM_PARAMS = {\n",
    "    'eps': 0.001,\n",
    "    'momentum': 0.9997,\n",
    "    'affine': True,\n",
    "}\n",
    "\n",
    "\n",
    "def autopad(k, p=None, d=1):  # kernel, padding, dilation\n",
    "    # Pad to 'same' shape outputs\n",
    "    if d > 1:\n",
    "        k = d * (k - 1) + 1 if isinstance(k,\n",
    "                                          int) else [d * (x - 1) + 1 for x in k]  # actual kernel-size\n",
    "    if p is None:\n",
    "        p = k // 2 if isinstance(k, int) else [x // 2 for x in k]  # auto-pad\n",
    "    return p\n",
    "\n",
    "def fixed_padding(inputs, kernel_size, rate=1):\n",
    "    \"\"\"Pads the input along the spatial dimensions independently of input size.\n",
    "    \n",
    "    Args:\n",
    "        inputs: A tensor of size [batch, height_in, width_in, channels].\n",
    "        kernel_size: The kernel to be used in the conv2d or max_pool2d \n",
    "            operation. Should be a positive integer.\n",
    "        rate: An integer, rate for atrous convolution.\n",
    "        \n",
    "    Returns:\n",
    "        padded_inputs: A tensor of size [batch, height_out, width_out, \n",
    "            channels] with the input, either intact (if kernel_size == 1) or \n",
    "            padded (if kernel_size > 1).\n",
    "    \"\"\"\n",
    "    kernel_size_effective = kernel_size + (kernel_size - 1) * (rate - 1)\n",
    "    pad_total = kernel_size_effective - 1\n",
    "    pad_beg = pad_total // 2\n",
    "    pad_end = pad_total - pad_beg\n",
    "    padded_inputs = torch.nn.functional.pad(\n",
    "        inputs, pad=(pad_beg, pad_end, pad_beg, pad_end))\n",
    "    return padded_inputs\n",
    "\n",
    "\n",
    "class SeparableConv2d(torch.nn.Module):\n",
    "    \"\"\"Strided 2-D separable convolution with 'SAME' padding.\"\"\"\n",
    "    \n",
    "    def __init__(self, in_channels, out_channels, kernel_size=1, \n",
    "                 stride=1, groups=1, depth_multiplier=1, rate=1, use_explicit_padding=True, \n",
    "                 activation_func=None, **kwargs):\n",
    "        \"\"\"Constructor.\n",
    "        \n",
    "        If stride > 1 and use_explicit_padding is True, then we do explicit\n",
    "        zero-padding, followed by conv2d with 'VALID' padding.\n",
    "        \n",
    "        Args:\n",
    "            in_channels: An integer, the number of input filters.\n",
    "            out_channels: An integer, the number of output filters.\n",
    "            kernel_size: An integer with the kernel_size of the filters.\n",
    "            depth_multiplier: The number of depthwise convolution output\n",
    "                channels for each input channel. The total number of depthwise\n",
    "                convolution output channels will be equal to `num_filters_in *\n",
    "                depth_multiplier`.\n",
    "            stride: An integer, the output stride.\n",
    "            rate: An integer, rate for atrous convolution.\n",
    "            use_explicit_padding: If True, use explicit padding to make the\n",
    "                model fully compatible with the open source version, otherwise\n",
    "                use the nattive Pytorch 'SAME' padding.\n",
    "            activation_func: Activation function.\n",
    "            **kwargs: Additional keyword arguments to pass to torch.nn.Conv2d.\n",
    "        \"\"\"\n",
    "        super(SeparableConv2d, self).__init__()\n",
    "        self.__kernel_size = kernel_size\n",
    "        self.__rate = rate\n",
    "        self.__without_padding = stride == 1 or not use_explicit_padding\n",
    "        \n",
    "        out_channels_depthwise = in_channels * depth_multiplier\n",
    "        if self.__without_padding:\n",
    "            # Separable convolution for padding 'SAME'\n",
    "            # Here, we assume that floor(padding) = padding\n",
    "            padding = (kernel_size - 1) * rate // 2\n",
    "            self.conv_depthwise = torch.nn.Conv2d(in_channels, \n",
    "                                                   out_channels_depthwise,\n",
    "                                                   kernel_size=kernel_size, \n",
    "                                                   stride=stride, \n",
    "                                                   dilation=rate,\n",
    "                                                   groups=in_channels,\n",
    "                                                   padding=padding,\n",
    "                                                   bias=False,\n",
    "                                                   **kwargs)\n",
    "        else:\n",
    "            # Separable convolution for padding 'VALID'\n",
    "            self.conv_depthwise = torch.nn.Conv2d(in_channels,\n",
    "                                                   out_channels_depthwise,\n",
    "                                                   kernel_size=kernel_size, \n",
    "                                                   stride=stride,\n",
    "                                                   dilation=rate,\n",
    "                                                   groups=in_channels,\n",
    "                                                   bias=False,\n",
    "                                                   **kwargs)\n",
    "        self.batch_norm_depthwise = torch.nn.BatchNorm2d(\n",
    "            out_channels_depthwise, **_BATCH_NORM_PARAMS)\n",
    "        self.conv_pointwise = torch.nn.Conv2d(out_channels_depthwise,\n",
    "                                               out_channels,\n",
    "                                               kernel_size=1, \n",
    "                                               stride=1,\n",
    "                                               groups=groups,\n",
    "                                               bias=False,\n",
    "                                               **kwargs)\n",
    "        self.batch_norm_pointwise = torch.nn.BatchNorm2d(\n",
    "            out_channels, **_BATCH_NORM_PARAMS)\n",
    "        self.activation_func = activation_func\n",
    "    \n",
    "    def forward(self, x):\n",
    "        \"\"\"\n",
    "        Input: [batch, height_in, width_in, channels]\n",
    "        Output: [batch, height_out, width_out, channels]\n",
    "        \"\"\"\n",
    "        if not self.__without_padding:\n",
    "            x = fixed_padding(x, self.__kernel_size, self.__rate)\n",
    "        x = self.conv_depthwise(x)\n",
    "        x = self.batch_norm_depthwise(x)\n",
    "        if self.activation_func is not None:\n",
    "            x = self.activation_func(x)\n",
    "        x = self.conv_pointwise(x)\n",
    "        x = self.batch_norm_pointwise(x)\n",
    "        if self.activation_func is not None:\n",
    "            x = self.activation_func(x)\n",
    "        return x\n",
    "\n",
    "\n",
    "class Focus(nn.Module):\n",
    "    # Focus wh information into c-space\n",
    "    # ch_in, ch_out, kernel, stride, padding, groups\n",
    "    def __init__(self, c1, c2, k=1, s=1, p=None, g=1, n=1, act=True):\n",
    "        super().__init__()\n",
    "        self.n = n\n",
    "        self.conv = None\n",
    "        expected_in_channels = c1 * (4**n)\n",
    "        if expected_in_channels != c2:\n",
    "            self.conv = Conv(expected_in_channels, c2, k, s, p, g, act=act)\n",
    "\n",
    "    def forward(self, x):  # x(b,c,w,h) -> y(b,c*4^n,w/2^n,h/2^n)\n",
    "        for _ in range(self.n):\n",
    "            x = torch.cat((x[..., ::2, ::2], x[..., 1::2, ::2],\n",
    "                          x[..., ::2, 1::2], x[..., 1::2, 1::2]), 1)\n",
    "        if self.conv is not None:\n",
    "            x = self.conv(x)\n",
    "        return x\n",
    "\n",
    "\n",
    "class Conv(nn.Module):\n",
    "    # Standard convolution with args(ch_in, ch_out, kernel, stride, padding, groups, dilation, activation)\n",
    "    default_act = nn.SiLU()  # default activation\n",
    "\n",
    "    def __init__(self, c1, c2, k=1, s=1, p=None, g=1, d=1, act=True):\n",
    "        super().__init__()\n",
    "        self.conv = nn.Conv2d(c1, c2, k, s, autopad(\n",
    "            k, p, d), groups=g, dilation=d, bias=False)\n",
    "        self.bn = nn.BatchNorm2d(c2)\n",
    "        self.act = self.default_act if act is True else act if isinstance(\n",
    "            act, nn.Module) else nn.Identity()\n",
    "\n",
    "    def forward(self, x):\n",
    "        return self.act(self.bn(self.conv(x)))\n",
    "\n",
    "    def forward_fuse(self, x):\n",
    "        return self.act(self.conv(x))\n",
    "\n",
    "\n",
    "class SeparableBottleneck(nn.Module):\n",
    "    # Standard bottleneck\n",
    "    # ch_in, ch_out, shortcut, groups, expansion\n",
    "    def __init__(self, c1, c2, shortcut=True, g=1, e=0.5):\n",
    "        super().__init__()\n",
    "        c_ = int(c2 * e)  # hidden channels\n",
    "        self.cv1 = SeparableConv2d(c1, c_, 1, 1)\n",
    "        self.cv2 = SeparableConv2d(c_, c2, 3, 1, groups=g)\n",
    "        self.add = shortcut and c1 == c2\n",
    "\n",
    "    def forward(self, x):\n",
    "        return x + self.cv2(self.cv1(x)) if self.add else self.cv2(self.cv1(x))\n",
    "\n",
    "\n",
    "class SeparableC3(nn.Module):\n",
    "    # CSP Bottleneck with 3 convolutions\n",
    "    # ch_in, ch_out, number, shortcut, groups, expansion\n",
    "    def __init__(self, c1, c2, n=1, shortcut=True, g=1, e=0.5):\n",
    "        super().__init__()\n",
    "        c_ = int(c2 * e)  # hidden channels\n",
    "        self.cv1 = SeparableConv2d(c1, c_, 1, 1)\n",
    "        self.cv2 = Conv(c1, c_, 1, 1)\n",
    "        self.cv3 = SeparableConv2d(2 * c_, c2, 1)  # optional act=FReLU(c2)\n",
    "        self.m = nn.Sequential(\n",
    "            *(SeparableBottleneck(c_, c_, shortcut, g, e=1.0) for _ in range(n)))\n",
    "\n",
    "    def forward(self, x):\n",
    "        return self.cv3(torch.cat((self.m(self.cv1(x)), self.cv2(x)), 1))\n",
    "\n",
    "\n",
    "class SPPF(nn.Module):\n",
    "    # Spatial Pyramid Pooling - Fast (SPPF) layer for YOLOv5 by Glenn Jocher\n",
    "    def __init__(self, c1, c2, k=5):  # equivalent to SPP(k=(5, 9, 13))\n",
    "        super().__init__()\n",
    "        c_ = c1 // 2  # hidden channels\n",
    "        self.cv1 = Conv(c1, c_, 1, 1)\n",
    "        self.cv2 = Conv(c_ * 4, c2, 1, 1)\n",
    "        self.m = nn.MaxPool2d(kernel_size=k, stride=1, padding=k // 2)\n",
    "\n",
    "    def forward(self, x):\n",
    "        x = self.cv1(x)\n",
    "        with warnings.catch_warnings():\n",
    "            # suppress torch 1.9.0 max_pool2d() warning\n",
    "            warnings.simplefilter('ignore')\n",
    "            y1 = self.m(x)\n",
    "            y2 = self.m(y1)\n",
    "            return self.cv2(torch.cat((x, y1, y2, self.m(y2)), 1))\n",
    "\n",
    "\n",
    "class SingleEncoderModule(nn.Module):\n",
    "    def __init__(self, in_channels: int, out_channels: int, n: int = 1, has_leading_max_pool: bool = True):\n",
    "        super(SingleEncoderModule, self).__init__()\n",
    "        layers: list[nn.Module] = []\n",
    "        if has_leading_max_pool:\n",
    "            layers.append(nn.MaxPool2d(kernel_size=2, stride=2))\n",
    "        layers += [\n",
    "            Conv(in_channels, out_channels, 3, 1),\n",
    "            SeparableC3(out_channels, out_channels, n)\n",
    "        ]\n",
    "        self.layers = nn.Sequential(*layers)\n",
    "\n",
    "    def forward(self, x):\n",
    "        x = self.layers(x)\n",
    "        return x\n",
    "    \n",
    "class SPPSingleEncoderModule(SingleEncoderModule):\n",
    "    def __init__(self, in_channels: int, out_channels: int, n: int = 1, has_leading_max_pool: bool = True):\n",
    "        super().__init__(in_channels, out_channels, n, has_leading_max_pool)\n",
    "        layers = list(self.layers.children())\n",
    "        layers.insert(len(layers)-1,SPPF(out_channels, out_channels))\n",
    "        self.layers = nn.Sequential(*layers)\n",
    "\n",
    "class ViTModule(nn.Module):\n",
    "    def __init__(self, channels_in, channels_out, patch_size, num_layers, num_heads,fropout=dropout_prob):\n",
    "        super(ViTModule, self).__init__()\n",
    "        self.channels_out = channels_out\n",
    "        self.patch_embedding = None\n",
    "        if channels_in != channels_out:\n",
    "            self.patch_embedding = nn.Sequential(\n",
    "                nn.Conv2d(channels_in, channels_out,\n",
    "                          kernel_size=patch_size, stride=patch_size),\n",
    "                nn.BatchNorm2d(channels_out),\n",
    "                nn.GELU(),\n",
    "                nn.Conv2d(channels_out, channels_out,\n",
    "                          kernel_size=3, stride=1, padding=1),\n",
    "                nn.BatchNorm2d(channels_out),\n",
    "                nn.GELU()\n",
    "            )\n",
    "\n",
    "        self.transformer_encoder = nn.TransformerEncoder(\n",
    "            nn.TransformerEncoderLayer(\n",
    "                d_model=channels_out, nhead=num_heads,dropout=dropout_prob\n",
    "                ,batch_first=True),\n",
    "            num_layers=num_layers\n",
    "        )\n",
    "\n",
    "    def forward(self, x: torch.Tensor):\n",
    "        if self.patch_embedding is not None:\n",
    "            x = self.patch_embedding(x)\n",
    "        b, _, w, h = x.shape\n",
    "        x = x.flatten(2).permute(2, 0, 1)\n",
    "        x = self.transformer_encoder(x)\n",
    "\n",
    "        x = x.permute(1, 2, 0).reshape(b, self.channels_out, w, h)\n",
    "        return x\n",
    "\n",
    "\n",
    "class VTCNet(nn.Module):\n",
    "    def __init__(self, num_classes: int = 1):\n",
    "        super(VTCNet, self).__init__()\n",
    "        # self.batch_norm = nn.BatchNorm2d(3)\n",
    "\n",
    "        self.focus = Focus(3, 12)\n",
    "        self.vit = ViTModule(12, 1024, patch_size=16, num_layers=3, num_heads=8)\n",
    "\n",
    "        self.encoders = nn.Sequential(\n",
    "            SingleEncoderModule(12, 64, has_leading_max_pool=False),\n",
    "            SingleEncoderModule(64, 128, 2),\n",
    "            SingleEncoderModule(128, 256, 3),\n",
    "            SingleEncoderModule(256, 512),\n",
    "            SPPSingleEncoderModule(512, 512)\n",
    "        )\n",
    "\n",
    "        self.classifier = nn.Sequential(\n",
    "            nn.Conv2d(512+1024, num_classes, 1 , 1),\n",
    "            nn.BatchNorm2d(num_classes),\n",
    "            nn.GELU()\n",
    "        )\n",
    "        \n",
    "        self.avg_pool = nn.AdaptiveMaxPool2d(1)\n",
    "\n",
    "    def forward(self, x: torch.Tensor):\n",
    "        x = x.view(-1, *(x.shape[-3:]))\n",
    "        # x = self.batch_norm(x)\n",
    "        x = self.focus(x)\n",
    "        encoded = self.encoders(x)\n",
    "        x = self.vit(x)\n",
    "        # x=encoded\n",
    "        x = torch.concat([x, encoded], dim=1)\n",
    "        del encoded\n",
    "        x = self.classifier(x)\n",
    "        x = self.avg_pool(x).flatten(2)\n",
    "        x = x.squeeze(dim=2)\n",
    "        return x\n",
    "\n",
    "    def save_weights(self, path: str):\n",
    "        torch.save(self.state_dict(), path)\n",
    "\n",
    "    def load_weights(self, path: str):\n",
    "        self.load_state_dict(torch.load(path))\n"
   ]
  },
  {
   "cell_type": "code",
   "execution_count": 7,
   "metadata": {
    "execution": {
     "iopub.execute_input": "2024-06-02T16:44:55.959725Z",
     "iopub.status.busy": "2024-06-02T16:44:55.959420Z",
     "iopub.status.idle": "2024-06-02T16:44:55.971202Z",
     "shell.execute_reply": "2024-06-02T16:44:55.970424Z",
     "shell.execute_reply.started": "2024-06-02T16:44:55.959701Z"
    },
    "trusted": true
   },
   "outputs": [],
   "source": [
    "def initialize_weights(model):\n",
    "    for m in model.modules():\n",
    "        t = type(m)\n",
    "        if t is nn.Conv2d:\n",
    "            nn.init.kaiming_normal_(m.weight, mode='fan_out', nonlinearity='relu')\n",
    "        elif t is nn.BatchNorm2d:\n",
    "            m.eps = 1e-3\n",
    "            m.momentum = 0.03\n",
    "        elif t in [nn.Hardswish, nn.LeakyReLU, nn.ReLU, nn.ReLU6, nn.SiLU]:\n",
    "            m.inplace = True"
   ]
  },
  {
   "cell_type": "code",
   "execution_count": 8,
   "metadata": {
    "execution": {
     "iopub.execute_input": "2024-06-02T16:44:55.973034Z",
     "iopub.status.busy": "2024-06-02T16:44:55.972279Z",
     "iopub.status.idle": "2024-06-02T16:44:55.981325Z",
     "shell.execute_reply": "2024-06-02T16:44:55.980397Z",
     "shell.execute_reply.started": "2024-06-02T16:44:55.973007Z"
    },
    "trusted": true
   },
   "outputs": [],
   "source": [
    "import numpy as np\n",
    "from collections.abc import Iterable\n",
    "from numpy._typing import DTypeLike\n",
    "\n",
    "def apply_from_axis(func, arr: np.ndarray, axis = 0, otypes: Iterable[DTypeLike] = ...):\n",
    "    slices = (slice(None,None,None),)*(axis)\n",
    "    if len(otypes) > 1:\n",
    "        return tuple(np.array(item,dtype=otypes[i]) for i,item in enumerate(zip(*[func(arr[slices+(i,)]) for i in range(arr.shape[axis])])))\n",
    "    else:\n",
    "        return np.array([func(arr[slices+(i,)]) for i in range(arr.shape[axis])],otypes[0],copy=False)\n",
    "\n",
    "np.apply_from_axis = apply_from_axis"
   ]
  },
  {
   "cell_type": "code",
   "execution_count": 9,
   "metadata": {
    "execution": {
     "iopub.execute_input": "2024-06-02T16:44:55.982954Z",
     "iopub.status.busy": "2024-06-02T16:44:55.982671Z",
     "iopub.status.idle": "2024-06-02T18:12:18.960050Z",
     "shell.execute_reply": "2024-06-02T18:12:18.959068Z",
     "shell.execute_reply.started": "2024-06-02T16:44:55.982925Z"
    },
    "trusted": true
   },
   "outputs": [],
   "source": [
    "import matplotlib.pyplot as plt\n",
    "import numpy as np\n",
    "import seaborn as sns\n",
    "from sklearn.metrics import confusion_matrix, precision_score, recall_score, f1_score\n",
    "import torch\n",
    "from torch.utils.data import DataLoader\n",
    "from sklearn.model_selection import StratifiedKFold, train_test_split\n",
    "from torchvision import transforms\n",
    "import torch.nn as nn\n",
    "from tqdm import tqdm\n",
    "import os\n"
   ]
  },
  {
   "cell_type": "code",
   "execution_count": 10,
   "metadata": {},
   "outputs": [
    {
     "name": "stdout",
     "output_type": "stream",
     "text": [
      "Fold 1\n",
      "Epoch 1/100\n"
     ]
    },
    {
     "name": "stderr",
     "output_type": "stream",
     "text": [
      "100%|██████████| 6/6 [00:02<00:00,  2.34it/s]\n"
     ]
    },
    {
     "name": "stdout",
     "output_type": "stream",
     "text": [
      "Train Loss: 0.6925585247294107\n",
      "Train Acc (696): 57.04022988505747%\n",
      "------Weighted------\n",
      "Weighted precision: 0.6593\n",
      "Weighted recall: 0.5704\n",
      "Weighted f1-score: 0.5957\n",
      "------Macro------\n",
      "Macro precision: 0.5490\n",
      "Macro recall: 0.5627\n",
      "Macro f1-score: 0.5330\n"
     ]
    },
    {
     "name": "stderr",
     "output_type": "stream",
     "text": [
      "100%|██████████| 1/1 [00:00<00:00,  5.50it/s]\n"
     ]
    },
    {
     "name": "stdout",
     "output_type": "stream",
     "text": [
      "Val Loss: 0.946024404296875\n",
      "Val Acc (37): 64.86486486486487%\n",
      "------Weighted------\n",
      "Weighted precision: 0.5785\n",
      "Weighted recall: 0.6486\n",
      "Weighted f1-score: 0.6050\n",
      "------Macro------\n",
      "Macro precision: 0.4594\n",
      "Macro recall: 0.4759\n",
      "Macro f1-score: 0.4565\n",
      "Training Loss: 0.6925585247294107, Training Accuracy: 57.04022988505747%\n",
      "Validation Loss: 0.946024404296875, Validation Accuracy: 64.86486486486487%\n",
      "Epoch 2/100\n"
     ]
    },
    {
     "name": "stderr",
     "output_type": "stream",
     "text": [
      "100%|██████████| 6/6 [00:01<00:00,  3.24it/s]\n"
     ]
    },
    {
     "name": "stdout",
     "output_type": "stream",
     "text": [
      "Train Loss: 0.45353556446393334\n",
      "Train Acc (696): 80.60344827586206%\n",
      "------Weighted------\n",
      "Weighted precision: 0.8377\n",
      "Weighted recall: 0.8060\n",
      "Weighted f1-score: 0.7630\n",
      "------Macro------\n",
      "Macro precision: 0.8775\n",
      "Macro recall: 0.6347\n",
      "Macro f1-score: 0.6544\n"
     ]
    },
    {
     "name": "stderr",
     "output_type": "stream",
     "text": [
      "100%|██████████| 1/1 [00:00<00:00, 14.60it/s]\n"
     ]
    },
    {
     "name": "stdout",
     "output_type": "stream",
     "text": [
      "Val Loss: 0.628145085105896\n",
      "Val Acc (37): 70.27027027027027%\n",
      "------Weighted------\n",
      "Weighted precision: 0.6267\n",
      "Weighted recall: 0.7027\n",
      "Weighted f1-score: 0.6397\n",
      "------Macro------\n",
      "Macro precision: 0.5343\n",
      "Macro recall: 0.5130\n",
      "Macro f1-score: 0.4868\n",
      "Training Loss: 0.45353556446393334, Training Accuracy: 80.60344827586206%\n",
      "Validation Loss: 0.628145085105896, Validation Accuracy: 70.27027027027027%\n",
      "Epoch 3/100\n"
     ]
    },
    {
     "name": "stderr",
     "output_type": "stream",
     "text": [
      "100%|██████████| 6/6 [00:01<00:00,  3.25it/s]\n"
     ]
    },
    {
     "name": "stdout",
     "output_type": "stream",
     "text": [
      "Train Loss: 0.33982304008960723\n",
      "Train Acc (696): 86.92528735632185%\n",
      "------Weighted------\n",
      "Weighted precision: 0.8733\n",
      "Weighted recall: 0.8693\n",
      "Weighted f1-score: 0.8582\n",
      "------Macro------\n",
      "Macro precision: 0.8830\n",
      "Macro recall: 0.7707\n",
      "Macro f1-score: 0.8052\n"
     ]
    },
    {
     "name": "stderr",
     "output_type": "stream",
     "text": [
      "100%|██████████| 1/1 [00:00<00:00, 12.51it/s]\n"
     ]
    },
    {
     "name": "stdout",
     "output_type": "stream",
     "text": [
      "Val Loss: 0.5984810454940795\n",
      "Val Acc (37): 56.75675675675676%\n",
      "------Weighted------\n",
      "Weighted precision: 0.5930\n",
      "Weighted recall: 0.5676\n",
      "Weighted f1-score: 0.5789\n",
      "------Macro------\n",
      "Macro precision: 0.4850\n",
      "Macro recall: 0.4833\n",
      "Macro f1-score: 0.4825\n",
      "Training Loss: 0.33982304008960723, Training Accuracy: 86.92528735632185%\n",
      "Validation Loss: 0.5984810454940795, Validation Accuracy: 56.75675675675676%\n",
      "Epoch 4/100\n"
     ]
    },
    {
     "name": "stderr",
     "output_type": "stream",
     "text": [
      "100%|██████████| 6/6 [00:01<00:00,  3.25it/s]\n"
     ]
    },
    {
     "name": "stdout",
     "output_type": "stream",
     "text": [
      "Train Loss: 0.23048494405706724\n",
      "Train Acc (696): 94.54022988505747%\n",
      "------Weighted------\n",
      "Weighted precision: 0.9459\n",
      "Weighted recall: 0.9454\n",
      "Weighted f1-score: 0.9441\n",
      "------Macro------\n",
      "Macro precision: 0.9491\n",
      "Macro recall: 0.9085\n",
      "Macro f1-score: 0.9263\n"
     ]
    },
    {
     "name": "stderr",
     "output_type": "stream",
     "text": [
      "100%|██████████| 1/1 [00:00<00:00, 11.53it/s]\n"
     ]
    },
    {
     "name": "stdout",
     "output_type": "stream",
     "text": [
      "Val Loss: 0.5858653051948547\n",
      "Val Acc (37): 62.16216216216216%\n",
      "------Weighted------\n",
      "Weighted precision: 0.6447\n",
      "Weighted recall: 0.6216\n",
      "Weighted f1-score: 0.6315\n",
      "------Macro------\n",
      "Macro precision: 0.5467\n",
      "Macro recall: 0.5519\n",
      "Macro f1-score: 0.5472\n",
      "Training Loss: 0.23048494405706724, Training Accuracy: 94.54022988505747%\n",
      "Validation Loss: 0.5858653051948547, Validation Accuracy: 62.16216216216216%\n",
      "Epoch 5/100\n"
     ]
    },
    {
     "name": "stderr",
     "output_type": "stream",
     "text": [
      "100%|██████████| 6/6 [00:01<00:00,  3.29it/s]\n"
     ]
    },
    {
     "name": "stdout",
     "output_type": "stream",
     "text": [
      "Train Loss: 0.1544421106294791\n",
      "Train Acc (696): 96.55172413793103%\n",
      "------Weighted------\n",
      "Weighted precision: 0.9661\n",
      "Weighted recall: 0.9655\n",
      "Weighted f1-score: 0.9649\n",
      "------Macro------\n",
      "Macro precision: 0.9711\n",
      "Macro recall: 0.9397\n",
      "Macro f1-score: 0.9540\n"
     ]
    },
    {
     "name": "stderr",
     "output_type": "stream",
     "text": [
      "100%|██████████| 1/1 [00:00<00:00, 13.25it/s]\n"
     ]
    },
    {
     "name": "stdout",
     "output_type": "stream",
     "text": [
      "Val Loss: 0.6127906901931762\n",
      "Val Acc (37): 64.86486486486487%\n",
      "------Weighted------\n",
      "Weighted precision: 0.7316\n",
      "Weighted recall: 0.6486\n",
      "Weighted f1-score: 0.6680\n",
      "------Macro------\n",
      "Macro precision: 0.6309\n",
      "Macro recall: 0.6648\n",
      "Macro f1-score: 0.6210\n",
      "Training Loss: 0.1544421106294791, Training Accuracy: 96.55172413793103%\n",
      "Validation Loss: 0.6127906901931762, Validation Accuracy: 64.86486486486487%\n",
      "Epoch 6/100\n"
     ]
    },
    {
     "name": "stderr",
     "output_type": "stream",
     "text": [
      "100%|██████████| 6/6 [00:01<00:00,  3.32it/s]\n"
     ]
    },
    {
     "name": "stdout",
     "output_type": "stream",
     "text": [
      "Train Loss: 0.10506645487904549\n",
      "Train Acc (696): 98.41954022988506%\n",
      "------Weighted------\n",
      "Weighted precision: 0.9843\n",
      "Weighted recall: 0.9842\n",
      "Weighted f1-score: 0.9841\n",
      "------Macro------\n",
      "Macro precision: 0.9857\n",
      "Macro recall: 0.9735\n",
      "Macro f1-score: 0.9794\n"
     ]
    },
    {
     "name": "stderr",
     "output_type": "stream",
     "text": [
      "100%|██████████| 1/1 [00:00<00:00, 10.54it/s]\n"
     ]
    },
    {
     "name": "stdout",
     "output_type": "stream",
     "text": [
      "Val Loss: 0.5820878012275695\n",
      "Val Acc (37): 64.86486486486487%\n",
      "------Weighted------\n",
      "Weighted precision: 0.6817\n",
      "Weighted recall: 0.6486\n",
      "Weighted f1-score: 0.6612\n",
      "------Macro------\n",
      "Macro precision: 0.5881\n",
      "Macro recall: 0.6019\n",
      "Macro f1-score: 0.5899\n",
      "Training Loss: 0.10506645487904549, Training Accuracy: 98.41954022988506%\n",
      "Validation Loss: 0.5820878012275695, Validation Accuracy: 64.86486486486487%\n",
      "|0.1544421106294791 - 0.10506645487904549| < 0.07\n",
      "new rng\n",
      "Epoch 7/100\n"
     ]
    },
    {
     "name": "stderr",
     "output_type": "stream",
     "text": [
      "100%|██████████| 6/6 [00:01<00:00,  3.26it/s]\n"
     ]
    },
    {
     "name": "stdout",
     "output_type": "stream",
     "text": [
      "Train Loss: 0.319221091987292\n",
      "Train Acc (696): 87.64367816091954%\n",
      "------Weighted------\n",
      "Weighted precision: 0.8741\n",
      "Weighted recall: 0.8764\n",
      "Weighted f1-score: 0.8748\n",
      "------Macro------\n",
      "Macro precision: 0.8461\n",
      "Macro recall: 0.8283\n",
      "Macro f1-score: 0.8365\n"
     ]
    },
    {
     "name": "stderr",
     "output_type": "stream",
     "text": [
      "100%|██████████| 1/1 [00:00<00:00, 13.69it/s]\n",
      "c:\\Users\\Marcelo\\AppData\\Local\\anaconda3\\envs\\pytorch_env\\Lib\\site-packages\\sklearn\\metrics\\_classification.py:1531: UndefinedMetricWarning: Precision is ill-defined and being set to 0.0 in labels with no predicted samples. Use `zero_division` parameter to control this behavior.\n",
      "  _warn_prf(average, modifier, f\"{metric.capitalize()} is\", len(result))\n",
      "c:\\Users\\Marcelo\\AppData\\Local\\anaconda3\\envs\\pytorch_env\\Lib\\site-packages\\sklearn\\metrics\\_classification.py:1531: UndefinedMetricWarning: Precision is ill-defined and being set to 0.0 in labels with no predicted samples. Use `zero_division` parameter to control this behavior.\n",
      "  _warn_prf(average, modifier, f\"{metric.capitalize()} is\", len(result))\n"
     ]
    },
    {
     "name": "stdout",
     "output_type": "stream",
     "text": [
      "Val Loss: 0.5928398234939575\n",
      "Val Acc (37): 72.97297297297297%\n",
      "------Weighted------\n",
      "Weighted precision: 0.5325\n",
      "Weighted recall: 0.7297\n",
      "Weighted f1-score: 0.6157\n",
      "------Macro------\n",
      "Macro precision: 0.3649\n",
      "Macro recall: 0.5000\n",
      "Macro f1-score: 0.4219\n",
      "Training Loss: 0.319221091987292, Training Accuracy: 87.64367816091954%\n",
      "Validation Loss: 0.5928398234939575, Validation Accuracy: 72.97297297297297%\n",
      "Epoch 8/100\n"
     ]
    },
    {
     "name": "stderr",
     "output_type": "stream",
     "text": [
      "100%|██████████| 6/6 [00:01<00:00,  3.18it/s]\n"
     ]
    },
    {
     "name": "stdout",
     "output_type": "stream",
     "text": [
      "Train Loss: 0.17503051605979603\n",
      "Train Acc (696): 93.39080459770115%\n",
      "------Weighted------\n",
      "Weighted precision: 0.9386\n",
      "Weighted recall: 0.9339\n",
      "Weighted f1-score: 0.9308\n",
      "------Macro------\n",
      "Macro precision: 0.9560\n",
      "Macro recall: 0.8761\n",
      "Macro f1-score: 0.9071\n"
     ]
    },
    {
     "name": "stderr",
     "output_type": "stream",
     "text": [
      "100%|██████████| 1/1 [00:00<00:00, 12.11it/s]\n"
     ]
    },
    {
     "name": "stdout",
     "output_type": "stream",
     "text": [
      "Val Loss: 0.5688986046409606\n",
      "Val Acc (37): 70.27027027027027%\n",
      "------Weighted------\n",
      "Weighted precision: 0.6935\n",
      "Weighted recall: 0.7027\n",
      "Weighted f1-score: 0.6976\n",
      "------Macro------\n",
      "Macro precision: 0.6151\n",
      "Macro recall: 0.6074\n",
      "Macro f1-score: 0.6105\n",
      "Training Loss: 0.17503051605979603, Training Accuracy: 93.39080459770115%\n",
      "Validation Loss: 0.5688986046409606, Validation Accuracy: 70.27027027027027%\n",
      "Epoch 9/100\n"
     ]
    },
    {
     "name": "stderr",
     "output_type": "stream",
     "text": [
      "100%|██████████| 6/6 [00:01<00:00,  3.22it/s]\n"
     ]
    },
    {
     "name": "stdout",
     "output_type": "stream",
     "text": [
      "Train Loss: 0.09838202617724738\n",
      "Train Acc (696): 99.42528735632185%\n",
      "------Weighted------\n",
      "Weighted precision: 0.9943\n",
      "Weighted recall: 0.9943\n",
      "Weighted f1-score: 0.9942\n",
      "------Macro------\n",
      "Macro precision: 0.9961\n",
      "Macro recall: 0.9891\n",
      "Macro f1-score: 0.9925\n"
     ]
    },
    {
     "name": "stderr",
     "output_type": "stream",
     "text": [
      "100%|██████████| 1/1 [00:00<00:00, 13.80it/s]\n"
     ]
    },
    {
     "name": "stdout",
     "output_type": "stream",
     "text": [
      "Val Loss: 0.5555073483085632\n",
      "Val Acc (37): 67.56756756756756%\n",
      "------Weighted------\n",
      "Weighted precision: 0.6315\n",
      "Weighted recall: 0.6757\n",
      "Weighted f1-score: 0.6463\n",
      "------Macro------\n",
      "Macro precision: 0.5376\n",
      "Macro recall: 0.5259\n",
      "Macro f1-score: 0.5216\n",
      "Training Loss: 0.09838202617724738, Training Accuracy: 99.42528735632185%\n",
      "Validation Loss: 0.5555073483085632, Validation Accuracy: 67.56756756756756%\n",
      "Epoch 10/100\n"
     ]
    },
    {
     "name": "stderr",
     "output_type": "stream",
     "text": [
      "100%|██████████| 6/6 [00:01<00:00,  3.24it/s]\n"
     ]
    },
    {
     "name": "stdout",
     "output_type": "stream",
     "text": [
      "Train Loss: 0.07162321318844954\n",
      "Train Acc (696): 99.71264367816092%\n",
      "------Weighted------\n",
      "Weighted precision: 0.9971\n",
      "Weighted recall: 0.9971\n",
      "Weighted f1-score: 0.9971\n",
      "------Macro------\n",
      "Macro precision: 0.9981\n",
      "Macro recall: 0.9945\n",
      "Macro f1-score: 0.9963\n"
     ]
    },
    {
     "name": "stderr",
     "output_type": "stream",
     "text": [
      "100%|██████████| 1/1 [00:00<00:00, 10.28it/s]\n"
     ]
    },
    {
     "name": "stdout",
     "output_type": "stream",
     "text": [
      "Val Loss: 0.5691497190093994\n",
      "Val Acc (37): 70.27027027027027%\n",
      "------Weighted------\n",
      "Weighted precision: 0.6267\n",
      "Weighted recall: 0.7027\n",
      "Weighted f1-score: 0.6397\n",
      "------Macro------\n",
      "Macro precision: 0.5343\n",
      "Macro recall: 0.5130\n",
      "Macro f1-score: 0.4868\n",
      "Training Loss: 0.07162321318844954, Training Accuracy: 99.71264367816092%\n",
      "Validation Loss: 0.5691497190093994, Validation Accuracy: 70.27027027027027%\n",
      "|0.09838202617724738 - 0.07162321318844954| < 0.07\n",
      "new rng\n",
      "Epoch 11/100\n"
     ]
    },
    {
     "name": "stderr",
     "output_type": "stream",
     "text": [
      "100%|██████████| 6/6 [00:01<00:00,  3.11it/s]\n"
     ]
    },
    {
     "name": "stdout",
     "output_type": "stream",
     "text": [
      "Train Loss: 0.2645541108862559\n",
      "Train Acc (696): 89.36781609195403%\n",
      "------Weighted------\n",
      "Weighted precision: 0.8918\n",
      "Weighted recall: 0.8937\n",
      "Weighted f1-score: 0.8902\n",
      "------Macro------\n",
      "Macro precision: 0.8818\n",
      "Macro recall: 0.8347\n",
      "Macro f1-score: 0.8542\n"
     ]
    },
    {
     "name": "stderr",
     "output_type": "stream",
     "text": [
      "100%|██████████| 1/1 [00:00<00:00, 13.31it/s]\n"
     ]
    },
    {
     "name": "stdout",
     "output_type": "stream",
     "text": [
      "Val Loss: 0.5849200947380065\n",
      "Val Acc (37): 67.56756756756756%\n",
      "------Weighted------\n",
      "Weighted precision: 0.6315\n",
      "Weighted recall: 0.6757\n",
      "Weighted f1-score: 0.6463\n",
      "------Macro------\n",
      "Macro precision: 0.5376\n",
      "Macro recall: 0.5259\n",
      "Macro f1-score: 0.5216\n",
      "Training Loss: 0.2645541108862559, Training Accuracy: 89.36781609195403%\n",
      "Validation Loss: 0.5849200947380065, Validation Accuracy: 67.56756756756756%\n",
      "Epoch 12/100\n"
     ]
    },
    {
     "name": "stderr",
     "output_type": "stream",
     "text": [
      "100%|██████████| 6/6 [00:01<00:00,  3.18it/s]\n"
     ]
    },
    {
     "name": "stdout",
     "output_type": "stream",
     "text": [
      "Train Loss: 0.1011279090956847\n",
      "Train Acc (696): 98.27586206896552%\n",
      "------Weighted------\n",
      "Weighted precision: 0.9828\n",
      "Weighted recall: 0.9828\n",
      "Weighted f1-score: 0.9826\n",
      "------Macro------\n",
      "Macro precision: 0.9847\n",
      "Macro recall: 0.9707\n",
      "Macro f1-score: 0.9774\n"
     ]
    },
    {
     "name": "stderr",
     "output_type": "stream",
     "text": [
      "100%|██████████| 1/1 [00:00<00:00, 10.46it/s]\n"
     ]
    },
    {
     "name": "stdout",
     "output_type": "stream",
     "text": [
      "Val Loss: 0.5590289099311828\n",
      "Val Acc (37): 70.27027027027027%\n",
      "------Weighted------\n",
      "Weighted precision: 0.6554\n",
      "Weighted recall: 0.7027\n",
      "Weighted f1-score: 0.6658\n",
      "------Macro------\n",
      "Macro precision: 0.5750\n",
      "Macro recall: 0.5444\n",
      "Macro f1-score: 0.5401\n",
      "Training Loss: 0.1011279090956847, Training Accuracy: 98.27586206896552%\n",
      "Validation Loss: 0.5590289099311828, Validation Accuracy: 70.27027027027027%\n",
      "Epoch 13/100\n"
     ]
    },
    {
     "name": "stderr",
     "output_type": "stream",
     "text": [
      "100%|██████████| 6/6 [00:01<00:00,  3.14it/s]\n"
     ]
    },
    {
     "name": "stdout",
     "output_type": "stream",
     "text": [
      "Train Loss: 0.07173257467309634\n",
      "Train Acc (696): 99.56896551724138%\n",
      "------Weighted------\n",
      "Weighted precision: 0.9957\n",
      "Weighted recall: 0.9957\n",
      "Weighted f1-score: 0.9957\n",
      "------Macro------\n",
      "Macro precision: 0.9971\n",
      "Macro recall: 0.9918\n",
      "Macro f1-score: 0.9944\n"
     ]
    },
    {
     "name": "stderr",
     "output_type": "stream",
     "text": [
      "100%|██████████| 1/1 [00:00<00:00, 13.64it/s]\n"
     ]
    },
    {
     "name": "stdout",
     "output_type": "stream",
     "text": [
      "Val Loss: 0.5513158304786682\n",
      "Val Acc (37): 72.97297297297297%\n",
      "------Weighted------\n",
      "Weighted precision: 0.6880\n",
      "Weighted recall: 0.7297\n",
      "Weighted f1-score: 0.6853\n",
      "------Macro------\n",
      "Macro precision: 0.6288\n",
      "Macro recall: 0.5630\n",
      "Macro f1-score: 0.5595\n",
      "Training Loss: 0.07173257467309634, Training Accuracy: 99.56896551724138%\n",
      "Validation Loss: 0.5513158304786682, Validation Accuracy: 72.97297297297297%\n",
      "|0.1011279090956847 - 0.07173257467309634| < 0.07\n",
      "new rng\n",
      "Epoch 14/100\n"
     ]
    },
    {
     "name": "stderr",
     "output_type": "stream",
     "text": [
      "100%|██████████| 6/6 [00:01<00:00,  3.24it/s]\n"
     ]
    },
    {
     "name": "stdout",
     "output_type": "stream",
     "text": [
      "Train Loss: 0.23027108631690343\n",
      "Train Acc (696): 92.24137931034483%\n",
      "------Weighted------\n",
      "Weighted precision: 0.9214\n",
      "Weighted recall: 0.9224\n",
      "Weighted f1-score: 0.9209\n",
      "------Macro------\n",
      "Macro precision: 0.9131\n",
      "Macro recall: 0.8823\n",
      "Macro f1-score: 0.8962\n"
     ]
    },
    {
     "name": "stderr",
     "output_type": "stream",
     "text": [
      "100%|██████████| 1/1 [00:00<00:00, 11.89it/s]\n"
     ]
    },
    {
     "name": "stdout",
     "output_type": "stream",
     "text": [
      "Val Loss: 0.5717331035232543\n",
      "Val Acc (37): 70.27027027027027%\n",
      "------Weighted------\n",
      "Weighted precision: 0.6267\n",
      "Weighted recall: 0.7027\n",
      "Weighted f1-score: 0.6397\n",
      "------Macro------\n",
      "Macro precision: 0.5343\n",
      "Macro recall: 0.5130\n",
      "Macro f1-score: 0.4868\n",
      "Training Loss: 0.23027108631690343, Training Accuracy: 92.24137931034483%\n",
      "Validation Loss: 0.5717331035232543, Validation Accuracy: 70.27027027027027%\n",
      "Epoch 15/100\n"
     ]
    },
    {
     "name": "stderr",
     "output_type": "stream",
     "text": [
      "100%|██████████| 6/6 [00:01<00:00,  3.20it/s]\n"
     ]
    },
    {
     "name": "stdout",
     "output_type": "stream",
     "text": [
      "Train Loss: 0.09763475902040801\n",
      "Train Acc (696): 98.41954022988506%\n",
      "------Weighted------\n",
      "Weighted precision: 0.9844\n",
      "Weighted recall: 0.9842\n",
      "Weighted f1-score: 0.9841\n",
      "------Macro------\n",
      "Macro precision: 0.9875\n",
      "Macro recall: 0.9717\n",
      "Macro f1-score: 0.9793\n"
     ]
    },
    {
     "name": "stderr",
     "output_type": "stream",
     "text": [
      "100%|██████████| 1/1 [00:00<00:00, 13.04it/s]\n"
     ]
    },
    {
     "name": "stdout",
     "output_type": "stream",
     "text": [
      "Val Loss: 0.568336711654663\n",
      "Val Acc (37): 67.56756756756756%\n",
      "------Weighted------\n",
      "Weighted precision: 0.6315\n",
      "Weighted recall: 0.6757\n",
      "Weighted f1-score: 0.6463\n",
      "------Macro------\n",
      "Macro precision: 0.5376\n",
      "Macro recall: 0.5259\n",
      "Macro f1-score: 0.5216\n",
      "Training Loss: 0.09763475902040801, Training Accuracy: 98.41954022988506%\n",
      "Validation Loss: 0.568336711654663, Validation Accuracy: 67.56756756756756%\n",
      "Epoch 16/100\n"
     ]
    },
    {
     "name": "stderr",
     "output_type": "stream",
     "text": [
      "100%|██████████| 6/6 [00:01<00:00,  3.22it/s]\n"
     ]
    },
    {
     "name": "stdout",
     "output_type": "stream",
     "text": [
      "Train Loss: 0.06252130639712015\n",
      "Train Acc (696): 100.0%\n",
      "------Weighted------\n",
      "Weighted precision: 1.0000\n",
      "Weighted recall: 1.0000\n",
      "Weighted f1-score: 1.0000\n",
      "------Macro------\n",
      "Macro precision: 1.0000\n",
      "Macro recall: 1.0000\n",
      "Macro f1-score: 1.0000\n"
     ]
    },
    {
     "name": "stderr",
     "output_type": "stream",
     "text": [
      "100%|██████████| 1/1 [00:00<00:00, 12.54it/s]\n"
     ]
    },
    {
     "name": "stdout",
     "output_type": "stream",
     "text": [
      "Val Loss: 0.566687987575531\n",
      "Val Acc (37): 67.56756756756756%\n",
      "------Weighted------\n",
      "Weighted precision: 0.6315\n",
      "Weighted recall: 0.6757\n",
      "Weighted f1-score: 0.6463\n",
      "------Macro------\n",
      "Macro precision: 0.5376\n",
      "Macro recall: 0.5259\n",
      "Macro f1-score: 0.5216\n",
      "Training Loss: 0.06252130639712015, Training Accuracy: 100.0%\n",
      "Validation Loss: 0.566687987575531, Validation Accuracy: 67.56756756756756%\n",
      "|0.09763475902040801 - 0.06252130639712015| < 0.07\n",
      "new rng\n",
      "Epoch 17/100\n"
     ]
    },
    {
     "name": "stderr",
     "output_type": "stream",
     "text": [
      "100%|██████████| 6/6 [00:01<00:00,  3.21it/s]\n"
     ]
    },
    {
     "name": "stdout",
     "output_type": "stream",
     "text": [
      "Train Loss: 0.24641794981718065\n",
      "Train Acc (696): 91.0919540229885%\n",
      "------Weighted------\n",
      "Weighted precision: 0.9095\n",
      "Weighted recall: 0.9109\n",
      "Weighted f1-score: 0.9090\n",
      "------Macro------\n",
      "Macro precision: 0.8986\n",
      "Macro recall: 0.8658\n",
      "Macro f1-score: 0.8803\n"
     ]
    },
    {
     "name": "stderr",
     "output_type": "stream",
     "text": [
      "100%|██████████| 1/1 [00:00<00:00, 13.85it/s]\n",
      "c:\\Users\\Marcelo\\AppData\\Local\\anaconda3\\envs\\pytorch_env\\Lib\\site-packages\\sklearn\\metrics\\_classification.py:1531: UndefinedMetricWarning: Precision is ill-defined and being set to 0.0 in labels with no predicted samples. Use `zero_division` parameter to control this behavior.\n",
      "  _warn_prf(average, modifier, f\"{metric.capitalize()} is\", len(result))\n",
      "c:\\Users\\Marcelo\\AppData\\Local\\anaconda3\\envs\\pytorch_env\\Lib\\site-packages\\sklearn\\metrics\\_classification.py:1531: UndefinedMetricWarning: Precision is ill-defined and being set to 0.0 in labels with no predicted samples. Use `zero_division` parameter to control this behavior.\n",
      "  _warn_prf(average, modifier, f\"{metric.capitalize()} is\", len(result))\n"
     ]
    },
    {
     "name": "stdout",
     "output_type": "stream",
     "text": [
      "Val Loss: 0.7174116833305358\n",
      "Val Acc (37): 72.97297297297297%\n",
      "------Weighted------\n",
      "Weighted precision: 0.5325\n",
      "Weighted recall: 0.7297\n",
      "Weighted f1-score: 0.6157\n",
      "------Macro------\n",
      "Macro precision: 0.3649\n",
      "Macro recall: 0.5000\n",
      "Macro f1-score: 0.4219\n",
      "Training Loss: 0.24641794981718065, Training Accuracy: 91.0919540229885%\n",
      "Validation Loss: 0.7174116833305358, Validation Accuracy: 72.97297297297297%\n",
      "Epoch 18/100\n"
     ]
    },
    {
     "name": "stderr",
     "output_type": "stream",
     "text": [
      "100%|██████████| 6/6 [00:01<00:00,  3.24it/s]\n"
     ]
    },
    {
     "name": "stdout",
     "output_type": "stream",
     "text": [
      "Train Loss: 0.09793102887431782\n",
      "Train Acc (696): 99.13793103448276%\n",
      "------Weighted------\n",
      "Weighted precision: 0.9915\n",
      "Weighted recall: 0.9914\n",
      "Weighted f1-score: 0.9913\n",
      "------Macro------\n",
      "Macro precision: 0.9942\n",
      "Macro recall: 0.9836\n",
      "Macro f1-score: 0.9888\n"
     ]
    },
    {
     "name": "stderr",
     "output_type": "stream",
     "text": [
      "100%|██████████| 1/1 [00:00<00:00, 12.94it/s]\n"
     ]
    },
    {
     "name": "stdout",
     "output_type": "stream",
     "text": [
      "Val Loss: 0.5805466039276123\n",
      "Val Acc (37): 75.67567567567568%\n",
      "------Weighted------\n",
      "Weighted precision: 0.7382\n",
      "Weighted recall: 0.7568\n",
      "Weighted f1-score: 0.7052\n",
      "------Macro------\n",
      "Macro precision: 0.7157\n",
      "Macro recall: 0.5815\n",
      "Macro f1-score: 0.5801\n",
      "Training Loss: 0.09793102887431782, Training Accuracy: 99.13793103448276%\n",
      "Validation Loss: 0.5805466039276123, Validation Accuracy: 75.67567567567568%\n",
      "Epoch 19/100\n"
     ]
    },
    {
     "name": "stderr",
     "output_type": "stream",
     "text": [
      "100%|██████████| 6/6 [00:02<00:00,  3.00it/s]\n"
     ]
    },
    {
     "name": "stdout",
     "output_type": "stream",
     "text": [
      "Train Loss: 0.05930684590995312\n",
      "Train Acc (696): 99.85632183908046%\n",
      "------Weighted------\n",
      "Weighted precision: 0.9986\n",
      "Weighted recall: 0.9986\n",
      "Weighted f1-score: 0.9986\n",
      "------Macro------\n",
      "Macro precision: 0.9990\n",
      "Macro recall: 0.9973\n",
      "Macro f1-score: 0.9981\n"
     ]
    },
    {
     "name": "stderr",
     "output_type": "stream",
     "text": [
      "100%|██████████| 1/1 [00:00<00:00, 10.28it/s]\n"
     ]
    },
    {
     "name": "stdout",
     "output_type": "stream",
     "text": [
      "Val Loss: 0.5197439653968811\n",
      "Val Acc (37): 72.97297297297297%\n",
      "------Weighted------\n",
      "Weighted precision: 0.6880\n",
      "Weighted recall: 0.7297\n",
      "Weighted f1-score: 0.6853\n",
      "------Macro------\n",
      "Macro precision: 0.6288\n",
      "Macro recall: 0.5630\n",
      "Macro f1-score: 0.5595\n",
      "Training Loss: 0.05930684590995312, Training Accuracy: 99.85632183908046%\n",
      "Validation Loss: 0.5197439653968811, Validation Accuracy: 72.97297297297297%\n",
      "|0.09793102887431782 - 0.05930684590995312| < 0.07\n",
      "new rng\n",
      "Epoch 20/100\n"
     ]
    },
    {
     "name": "stderr",
     "output_type": "stream",
     "text": [
      "100%|██████████| 6/6 [00:02<00:00,  2.81it/s]\n"
     ]
    },
    {
     "name": "stdout",
     "output_type": "stream",
     "text": [
      "Train Loss: 0.23440056316216787\n",
      "Train Acc (696): 92.52873563218391%\n",
      "------Weighted------\n",
      "Weighted precision: 0.9244\n",
      "Weighted recall: 0.9253\n",
      "Weighted f1-score: 0.9238\n",
      "------Macro------\n",
      "Macro precision: 0.9171\n",
      "Macro recall: 0.8860\n",
      "Macro f1-score: 0.9000\n"
     ]
    },
    {
     "name": "stderr",
     "output_type": "stream",
     "text": [
      "100%|██████████| 1/1 [00:00<00:00, 10.18it/s]\n"
     ]
    },
    {
     "name": "stdout",
     "output_type": "stream",
     "text": [
      "Val Loss: 0.5701239569282531\n",
      "Val Acc (37): 72.97297297297297%\n",
      "------Weighted------\n",
      "Weighted precision: 0.6772\n",
      "Weighted recall: 0.7297\n",
      "Weighted f1-score: 0.6571\n",
      "------Macro------\n",
      "Macro precision: 0.6214\n",
      "Macro recall: 0.5315\n",
      "Macro f1-score: 0.5027\n",
      "Training Loss: 0.23440056316216787, Training Accuracy: 92.52873563218391%\n",
      "Validation Loss: 0.5701239569282531, Validation Accuracy: 72.97297297297297%\n",
      "Epoch 21/100\n"
     ]
    },
    {
     "name": "stderr",
     "output_type": "stream",
     "text": [
      "100%|██████████| 6/6 [00:01<00:00,  3.10it/s]\n"
     ]
    },
    {
     "name": "stdout",
     "output_type": "stream",
     "text": [
      "Train Loss: 0.08769522008458774\n",
      "Train Acc (696): 98.85057471264368%\n",
      "------Weighted------\n",
      "Weighted precision: 0.9885\n",
      "Weighted recall: 0.9885\n",
      "Weighted f1-score: 0.9885\n",
      "------Macro------\n",
      "Macro precision: 0.9886\n",
      "Macro recall: 0.9817\n",
      "Macro f1-score: 0.9851\n"
     ]
    },
    {
     "name": "stderr",
     "output_type": "stream",
     "text": [
      "100%|██████████| 1/1 [00:00<00:00, 12.35it/s]\n"
     ]
    },
    {
     "name": "stdout",
     "output_type": "stream",
     "text": [
      "Val Loss: 0.5662469728088378\n",
      "Val Acc (37): 72.97297297297297%\n",
      "------Weighted------\n",
      "Weighted precision: 0.6772\n",
      "Weighted recall: 0.7297\n",
      "Weighted f1-score: 0.6571\n",
      "------Macro------\n",
      "Macro precision: 0.6214\n",
      "Macro recall: 0.5315\n",
      "Macro f1-score: 0.5027\n",
      "Training Loss: 0.08769522008458774, Training Accuracy: 98.85057471264368%\n",
      "Validation Loss: 0.5662469728088378, Validation Accuracy: 72.97297297297297%\n",
      "Epoch 22/100\n"
     ]
    },
    {
     "name": "stderr",
     "output_type": "stream",
     "text": [
      "100%|██████████| 6/6 [00:01<00:00,  3.14it/s]\n"
     ]
    },
    {
     "name": "stdout",
     "output_type": "stream",
     "text": [
      "Train Loss: 0.058049757253726325\n",
      "Train Acc (696): 100.0%\n",
      "------Weighted------\n",
      "Weighted precision: 1.0000\n",
      "Weighted recall: 1.0000\n",
      "Weighted f1-score: 1.0000\n",
      "------Macro------\n",
      "Macro precision: 1.0000\n",
      "Macro recall: 1.0000\n",
      "Macro f1-score: 1.0000\n"
     ]
    },
    {
     "name": "stderr",
     "output_type": "stream",
     "text": [
      "100%|██████████| 1/1 [00:00<00:00, 11.48it/s]\n"
     ]
    },
    {
     "name": "stdout",
     "output_type": "stream",
     "text": [
      "Val Loss: 0.5352771146392822\n",
      "Val Acc (37): 70.27027027027027%\n",
      "------Weighted------\n",
      "Weighted precision: 0.6554\n",
      "Weighted recall: 0.7027\n",
      "Weighted f1-score: 0.6658\n",
      "------Macro------\n",
      "Macro precision: 0.5750\n",
      "Macro recall: 0.5444\n",
      "Macro f1-score: 0.5401\n",
      "Training Loss: 0.058049757253726325, Training Accuracy: 100.0%\n",
      "Validation Loss: 0.5352771146392822, Validation Accuracy: 70.27027027027027%\n",
      "|0.08769522008458774 - 0.058049757253726325| < 0.07\n",
      "new rng\n",
      "Epoch 23/100\n"
     ]
    },
    {
     "name": "stderr",
     "output_type": "stream",
     "text": [
      "100%|██████████| 6/6 [00:01<00:00,  3.04it/s]\n"
     ]
    },
    {
     "name": "stdout",
     "output_type": "stream",
     "text": [
      "Train Loss: 0.17724579594691595\n",
      "Train Acc (696): 93.82183908045977%\n",
      "------Weighted------\n",
      "Weighted precision: 0.9376\n",
      "Weighted recall: 0.9382\n",
      "Weighted f1-score: 0.9376\n",
      "------Macro------\n",
      "Macro precision: 0.9277\n",
      "Macro recall: 0.9106\n",
      "Macro f1-score: 0.9187\n"
     ]
    },
    {
     "name": "stderr",
     "output_type": "stream",
     "text": [
      "100%|██████████| 1/1 [00:00<00:00, 14.90it/s]\n"
     ]
    },
    {
     "name": "stdout",
     "output_type": "stream",
     "text": [
      "Val Loss: 0.5554751618003845\n",
      "Val Acc (37): 75.67567567567568%\n",
      "------Weighted------\n",
      "Weighted precision: 0.8176\n",
      "Weighted recall: 0.7568\n",
      "Weighted f1-score: 0.6746\n",
      "------Macro------\n",
      "Macro precision: 0.8750\n",
      "Macro recall: 0.5500\n",
      "Macro f1-score: 0.5195\n",
      "Training Loss: 0.17724579594691595, Training Accuracy: 93.82183908045977%\n",
      "Validation Loss: 0.5554751618003845, Validation Accuracy: 75.67567567567568%\n",
      "Epoch 24/100\n"
     ]
    },
    {
     "name": "stderr",
     "output_type": "stream",
     "text": [
      "100%|██████████| 6/6 [00:02<00:00,  2.86it/s]\n"
     ]
    },
    {
     "name": "stdout",
     "output_type": "stream",
     "text": [
      "Train Loss: 0.07915696647922198\n",
      "Train Acc (696): 98.5632183908046%\n",
      "------Weighted------\n",
      "Weighted precision: 0.9858\n",
      "Weighted recall: 0.9856\n",
      "Weighted f1-score: 0.9855\n",
      "------Macro------\n",
      "Macro precision: 0.9885\n",
      "Macro recall: 0.9744\n",
      "Macro f1-score: 0.9812\n"
     ]
    },
    {
     "name": "stderr",
     "output_type": "stream",
     "text": [
      "100%|██████████| 1/1 [00:00<00:00, 13.54it/s]\n"
     ]
    },
    {
     "name": "stdout",
     "output_type": "stream",
     "text": [
      "Val Loss: 0.5274293286895751\n",
      "Val Acc (37): 72.97297297297297%\n",
      "------Weighted------\n",
      "Weighted precision: 0.6772\n",
      "Weighted recall: 0.7297\n",
      "Weighted f1-score: 0.6571\n",
      "------Macro------\n",
      "Macro precision: 0.6214\n",
      "Macro recall: 0.5315\n",
      "Macro f1-score: 0.5027\n",
      "Training Loss: 0.07915696647922198, Training Accuracy: 98.5632183908046%\n",
      "Validation Loss: 0.5274293286895751, Validation Accuracy: 72.97297297297297%\n",
      "Epoch 25/100\n"
     ]
    },
    {
     "name": "stderr",
     "output_type": "stream",
     "text": [
      "100%|██████████| 6/6 [00:01<00:00,  3.26it/s]\n"
     ]
    },
    {
     "name": "stdout",
     "output_type": "stream",
     "text": [
      "Train Loss: 0.05545436488747597\n",
      "Train Acc (696): 99.85632183908046%\n",
      "------Weighted------\n",
      "Weighted precision: 0.9986\n",
      "Weighted recall: 0.9986\n",
      "Weighted f1-score: 0.9986\n",
      "------Macro------\n",
      "Macro precision: 0.9990\n",
      "Macro recall: 0.9973\n",
      "Macro f1-score: 0.9981\n"
     ]
    },
    {
     "name": "stderr",
     "output_type": "stream",
     "text": [
      "100%|██████████| 1/1 [00:00<00:00, 11.45it/s]\n"
     ]
    },
    {
     "name": "stdout",
     "output_type": "stream",
     "text": [
      "Val Loss: 0.5232639176940918\n",
      "Val Acc (37): 75.67567567567568%\n",
      "------Weighted------\n",
      "Weighted precision: 0.7382\n",
      "Weighted recall: 0.7568\n",
      "Weighted f1-score: 0.7052\n",
      "------Macro------\n",
      "Macro precision: 0.7157\n",
      "Macro recall: 0.5815\n",
      "Macro f1-score: 0.5801\n",
      "Training Loss: 0.05545436488747597, Training Accuracy: 99.85632183908046%\n",
      "Validation Loss: 0.5232639176940918, Validation Accuracy: 75.67567567567568%\n",
      "|0.07915696647922198 - 0.05545436488747597| < 0.07\n",
      "new rng\n",
      "Epoch 26/100\n"
     ]
    },
    {
     "name": "stderr",
     "output_type": "stream",
     "text": [
      "100%|██████████| 6/6 [00:01<00:00,  3.26it/s]\n"
     ]
    },
    {
     "name": "stdout",
     "output_type": "stream",
     "text": [
      "Train Loss: 0.1949894455289841\n",
      "Train Acc (696): 92.95977011494253%\n",
      "------Weighted------\n",
      "Weighted precision: 0.9288\n",
      "Weighted recall: 0.9296\n",
      "Weighted f1-score: 0.9290\n",
      "------Macro------\n",
      "Macro precision: 0.9148\n",
      "Macro recall: 0.9013\n",
      "Macro f1-score: 0.9077\n"
     ]
    },
    {
     "name": "stderr",
     "output_type": "stream",
     "text": [
      "100%|██████████| 1/1 [00:00<00:00, 13.71it/s]\n"
     ]
    },
    {
     "name": "stdout",
     "output_type": "stream",
     "text": [
      "Val Loss: 0.5592959387397766\n",
      "Val Acc (37): 75.67567567567568%\n",
      "------Weighted------\n",
      "Weighted precision: 0.7382\n",
      "Weighted recall: 0.7568\n",
      "Weighted f1-score: 0.7052\n",
      "------Macro------\n",
      "Macro precision: 0.7157\n",
      "Macro recall: 0.5815\n",
      "Macro f1-score: 0.5801\n",
      "Training Loss: 0.1949894455289841, Training Accuracy: 92.95977011494253%\n",
      "Validation Loss: 0.5592959387397766, Validation Accuracy: 75.67567567567568%\n",
      "Epoch 27/100\n"
     ]
    },
    {
     "name": "stderr",
     "output_type": "stream",
     "text": [
      "100%|██████████| 6/6 [00:01<00:00,  3.29it/s]\n"
     ]
    },
    {
     "name": "stdout",
     "output_type": "stream",
     "text": [
      "Train Loss: 0.08945032976229987\n",
      "Train Acc (696): 97.84482758620689%\n",
      "------Weighted------\n",
      "Weighted precision: 0.9784\n",
      "Weighted recall: 0.9784\n",
      "Weighted f1-score: 0.9784\n",
      "------Macro------\n",
      "Macro precision: 0.9746\n",
      "Macro recall: 0.9696\n",
      "Macro f1-score: 0.9721\n"
     ]
    },
    {
     "name": "stderr",
     "output_type": "stream",
     "text": [
      "100%|██████████| 1/1 [00:00<00:00, 12.23it/s]\n",
      "c:\\Users\\Marcelo\\AppData\\Local\\anaconda3\\envs\\pytorch_env\\Lib\\site-packages\\sklearn\\metrics\\_classification.py:1531: UndefinedMetricWarning: Precision is ill-defined and being set to 0.0 in labels with no predicted samples. Use `zero_division` parameter to control this behavior.\n",
      "  _warn_prf(average, modifier, f\"{metric.capitalize()} is\", len(result))\n",
      "c:\\Users\\Marcelo\\AppData\\Local\\anaconda3\\envs\\pytorch_env\\Lib\\site-packages\\sklearn\\metrics\\_classification.py:1531: UndefinedMetricWarning: Precision is ill-defined and being set to 0.0 in labels with no predicted samples. Use `zero_division` parameter to control this behavior.\n",
      "  _warn_prf(average, modifier, f\"{metric.capitalize()} is\", len(result))\n"
     ]
    },
    {
     "name": "stdout",
     "output_type": "stream",
     "text": [
      "Val Loss: 0.6327341659164428\n",
      "Val Acc (37): 72.97297297297297%\n",
      "------Weighted------\n",
      "Weighted precision: 0.5325\n",
      "Weighted recall: 0.7297\n",
      "Weighted f1-score: 0.6157\n",
      "------Macro------\n",
      "Macro precision: 0.3649\n",
      "Macro recall: 0.5000\n",
      "Macro f1-score: 0.4219\n",
      "Training Loss: 0.08945032976229987, Training Accuracy: 97.84482758620689%\n",
      "Validation Loss: 0.6327341659164428, Validation Accuracy: 72.97297297297297%\n",
      "Epoch 28/100\n"
     ]
    },
    {
     "name": "stderr",
     "output_type": "stream",
     "text": [
      "100%|██████████| 6/6 [00:01<00:00,  3.25it/s]\n"
     ]
    },
    {
     "name": "stdout",
     "output_type": "stream",
     "text": [
      "Train Loss: 0.052960767941276236\n",
      "Train Acc (696): 99.85632183908046%\n",
      "------Weighted------\n",
      "Weighted precision: 0.9986\n",
      "Weighted recall: 0.9986\n",
      "Weighted f1-score: 0.9986\n",
      "------Macro------\n",
      "Macro precision: 0.9990\n",
      "Macro recall: 0.9973\n",
      "Macro f1-score: 0.9981\n"
     ]
    },
    {
     "name": "stderr",
     "output_type": "stream",
     "text": [
      "100%|██████████| 1/1 [00:00<00:00, 10.89it/s]\n",
      "c:\\Users\\Marcelo\\AppData\\Local\\anaconda3\\envs\\pytorch_env\\Lib\\site-packages\\sklearn\\metrics\\_classification.py:1531: UndefinedMetricWarning: Precision is ill-defined and being set to 0.0 in labels with no predicted samples. Use `zero_division` parameter to control this behavior.\n",
      "  _warn_prf(average, modifier, f\"{metric.capitalize()} is\", len(result))\n",
      "c:\\Users\\Marcelo\\AppData\\Local\\anaconda3\\envs\\pytorch_env\\Lib\\site-packages\\sklearn\\metrics\\_classification.py:1531: UndefinedMetricWarning: Precision is ill-defined and being set to 0.0 in labels with no predicted samples. Use `zero_division` parameter to control this behavior.\n",
      "  _warn_prf(average, modifier, f\"{metric.capitalize()} is\", len(result))\n"
     ]
    },
    {
     "name": "stdout",
     "output_type": "stream",
     "text": [
      "Val Loss: 0.5423557622528076\n",
      "Val Acc (37): 72.97297297297297%\n",
      "------Weighted------\n",
      "Weighted precision: 0.5325\n",
      "Weighted recall: 0.7297\n",
      "Weighted f1-score: 0.6157\n",
      "------Macro------\n",
      "Macro precision: 0.3649\n",
      "Macro recall: 0.5000\n",
      "Macro f1-score: 0.4219\n",
      "Training Loss: 0.052960767941276236, Training Accuracy: 99.85632183908046%\n",
      "Validation Loss: 0.5423557622528076, Validation Accuracy: 72.97297297297297%\n",
      "|0.08945032976229987 - 0.052960767941276236| < 0.07\n",
      "new rng\n",
      "Epoch 29/100\n"
     ]
    },
    {
     "name": "stderr",
     "output_type": "stream",
     "text": [
      "100%|██████████| 6/6 [00:01<00:00,  3.23it/s]\n"
     ]
    },
    {
     "name": "stdout",
     "output_type": "stream",
     "text": [
      "Train Loss: 0.23584561320304873\n",
      "Train Acc (696): 92.24137931034483%\n",
      "------Weighted------\n",
      "Weighted precision: 0.9213\n",
      "Weighted recall: 0.9224\n",
      "Weighted f1-score: 0.9212\n",
      "------Macro------\n",
      "Macro precision: 0.9100\n",
      "Macro recall: 0.8859\n",
      "Macro f1-score: 0.8969\n"
     ]
    },
    {
     "name": "stderr",
     "output_type": "stream",
     "text": [
      "100%|██████████| 1/1 [00:00<00:00, 12.99it/s]\n",
      "c:\\Users\\Marcelo\\AppData\\Local\\anaconda3\\envs\\pytorch_env\\Lib\\site-packages\\sklearn\\metrics\\_classification.py:1531: UndefinedMetricWarning: Precision is ill-defined and being set to 0.0 in labels with no predicted samples. Use `zero_division` parameter to control this behavior.\n",
      "  _warn_prf(average, modifier, f\"{metric.capitalize()} is\", len(result))\n",
      "c:\\Users\\Marcelo\\AppData\\Local\\anaconda3\\envs\\pytorch_env\\Lib\\site-packages\\sklearn\\metrics\\_classification.py:1531: UndefinedMetricWarning: Precision is ill-defined and being set to 0.0 in labels with no predicted samples. Use `zero_division` parameter to control this behavior.\n",
      "  _warn_prf(average, modifier, f\"{metric.capitalize()} is\", len(result))\n"
     ]
    },
    {
     "name": "stdout",
     "output_type": "stream",
     "text": [
      "Val Loss: 0.5624168975448608\n",
      "Val Acc (37): 72.97297297297297%\n",
      "------Weighted------\n",
      "Weighted precision: 0.5325\n",
      "Weighted recall: 0.7297\n",
      "Weighted f1-score: 0.6157\n",
      "------Macro------\n",
      "Macro precision: 0.3649\n",
      "Macro recall: 0.5000\n",
      "Macro f1-score: 0.4219\n",
      "Training Loss: 0.23584561320304873, Training Accuracy: 92.24137931034483%\n",
      "Validation Loss: 0.5624168975448608, Validation Accuracy: 72.97297297297297%\n",
      "Epoch 30/100\n"
     ]
    },
    {
     "name": "stderr",
     "output_type": "stream",
     "text": [
      "100%|██████████| 6/6 [00:01<00:00,  3.15it/s]\n"
     ]
    },
    {
     "name": "stdout",
     "output_type": "stream",
     "text": [
      "Train Loss: 0.091439852711161\n",
      "Train Acc (696): 97.84482758620689%\n",
      "------Weighted------\n",
      "Weighted precision: 0.9791\n",
      "Weighted recall: 0.9784\n",
      "Weighted f1-score: 0.9781\n",
      "------Macro------\n",
      "Macro precision: 0.9858\n",
      "Macro recall: 0.9590\n",
      "Macro f1-score: 0.9714\n"
     ]
    },
    {
     "name": "stderr",
     "output_type": "stream",
     "text": [
      "100%|██████████| 1/1 [00:00<00:00, 14.06it/s]\n",
      "c:\\Users\\Marcelo\\AppData\\Local\\anaconda3\\envs\\pytorch_env\\Lib\\site-packages\\sklearn\\metrics\\_classification.py:1531: UndefinedMetricWarning: Precision is ill-defined and being set to 0.0 in labels with no predicted samples. Use `zero_division` parameter to control this behavior.\n",
      "  _warn_prf(average, modifier, f\"{metric.capitalize()} is\", len(result))\n",
      "c:\\Users\\Marcelo\\AppData\\Local\\anaconda3\\envs\\pytorch_env\\Lib\\site-packages\\sklearn\\metrics\\_classification.py:1531: UndefinedMetricWarning: Precision is ill-defined and being set to 0.0 in labels with no predicted samples. Use `zero_division` parameter to control this behavior.\n",
      "  _warn_prf(average, modifier, f\"{metric.capitalize()} is\", len(result))\n"
     ]
    },
    {
     "name": "stdout",
     "output_type": "stream",
     "text": [
      "Val Loss: 0.5496835572814941\n",
      "Val Acc (37): 72.97297297297297%\n",
      "------Weighted------\n",
      "Weighted precision: 0.5325\n",
      "Weighted recall: 0.7297\n",
      "Weighted f1-score: 0.6157\n",
      "------Macro------\n",
      "Macro precision: 0.3649\n",
      "Macro recall: 0.5000\n",
      "Macro f1-score: 0.4219\n",
      "Training Loss: 0.091439852711161, Training Accuracy: 97.84482758620689%\n",
      "Validation Loss: 0.5496835572814941, Validation Accuracy: 72.97297297297297%\n",
      "Epoch 31/100\n"
     ]
    },
    {
     "name": "stderr",
     "output_type": "stream",
     "text": [
      "100%|██████████| 6/6 [00:01<00:00,  3.16it/s]\n"
     ]
    },
    {
     "name": "stdout",
     "output_type": "stream",
     "text": [
      "Train Loss: 0.0605530678943793\n",
      "Train Acc (696): 99.85632183908046%\n",
      "------Weighted------\n",
      "Weighted precision: 0.9986\n",
      "Weighted recall: 0.9986\n",
      "Weighted f1-score: 0.9986\n",
      "------Macro------\n",
      "Macro precision: 0.9990\n",
      "Macro recall: 0.9973\n",
      "Macro f1-score: 0.9981\n"
     ]
    },
    {
     "name": "stderr",
     "output_type": "stream",
     "text": [
      "100%|██████████| 1/1 [00:00<00:00, 13.90it/s]\n",
      "c:\\Users\\Marcelo\\AppData\\Local\\anaconda3\\envs\\pytorch_env\\Lib\\site-packages\\sklearn\\metrics\\_classification.py:1531: UndefinedMetricWarning: Precision is ill-defined and being set to 0.0 in labels with no predicted samples. Use `zero_division` parameter to control this behavior.\n",
      "  _warn_prf(average, modifier, f\"{metric.capitalize()} is\", len(result))\n",
      "c:\\Users\\Marcelo\\AppData\\Local\\anaconda3\\envs\\pytorch_env\\Lib\\site-packages\\sklearn\\metrics\\_classification.py:1531: UndefinedMetricWarning: Precision is ill-defined and being set to 0.0 in labels with no predicted samples. Use `zero_division` parameter to control this behavior.\n",
      "  _warn_prf(average, modifier, f\"{metric.capitalize()} is\", len(result))\n"
     ]
    },
    {
     "name": "stdout",
     "output_type": "stream",
     "text": [
      "Val Loss: 0.5539935095405578\n",
      "Val Acc (37): 72.97297297297297%\n",
      "------Weighted------\n",
      "Weighted precision: 0.5325\n",
      "Weighted recall: 0.7297\n",
      "Weighted f1-score: 0.6157\n",
      "------Macro------\n",
      "Macro precision: 0.3649\n",
      "Macro recall: 0.5000\n",
      "Macro f1-score: 0.4219\n",
      "Training Loss: 0.0605530678943793, Training Accuracy: 99.85632183908046%\n",
      "Validation Loss: 0.5539935095405578, Validation Accuracy: 72.97297297297297%\n",
      "|0.091439852711161 - 0.0605530678943793| < 0.07\n",
      "new rng\n",
      "Epoch 32/100\n"
     ]
    },
    {
     "name": "stderr",
     "output_type": "stream",
     "text": [
      "100%|██████████| 6/6 [00:01<00:00,  3.30it/s]\n"
     ]
    },
    {
     "name": "stdout",
     "output_type": "stream",
     "text": [
      "Train Loss: 0.17398759496370952\n",
      "Train Acc (696): 94.25287356321839%\n",
      "------Weighted------\n",
      "Weighted precision: 0.9421\n",
      "Weighted recall: 0.9425\n",
      "Weighted f1-score: 0.9422\n",
      "------Macro------\n",
      "Macro precision: 0.9298\n",
      "Macro recall: 0.9206\n",
      "Macro f1-score: 0.9251\n"
     ]
    },
    {
     "name": "stderr",
     "output_type": "stream",
     "text": [
      "100%|██████████| 1/1 [00:00<00:00, 12.81it/s]\n",
      "c:\\Users\\Marcelo\\AppData\\Local\\anaconda3\\envs\\pytorch_env\\Lib\\site-packages\\sklearn\\metrics\\_classification.py:1531: UndefinedMetricWarning: Precision is ill-defined and being set to 0.0 in labels with no predicted samples. Use `zero_division` parameter to control this behavior.\n",
      "  _warn_prf(average, modifier, f\"{metric.capitalize()} is\", len(result))\n",
      "c:\\Users\\Marcelo\\AppData\\Local\\anaconda3\\envs\\pytorch_env\\Lib\\site-packages\\sklearn\\metrics\\_classification.py:1531: UndefinedMetricWarning: Precision is ill-defined and being set to 0.0 in labels with no predicted samples. Use `zero_division` parameter to control this behavior.\n",
      "  _warn_prf(average, modifier, f\"{metric.capitalize()} is\", len(result))\n"
     ]
    },
    {
     "name": "stdout",
     "output_type": "stream",
     "text": [
      "Val Loss: 0.5582953555679321\n",
      "Val Acc (37): 72.97297297297297%\n",
      "------Weighted------\n",
      "Weighted precision: 0.5325\n",
      "Weighted recall: 0.7297\n",
      "Weighted f1-score: 0.6157\n",
      "------Macro------\n",
      "Macro precision: 0.3649\n",
      "Macro recall: 0.5000\n",
      "Macro f1-score: 0.4219\n",
      "Training Loss: 0.17398759496370952, Training Accuracy: 94.25287356321839%\n",
      "Validation Loss: 0.5582953555679321, Validation Accuracy: 72.97297297297297%\n",
      "Epoch 33/100\n"
     ]
    },
    {
     "name": "stderr",
     "output_type": "stream",
     "text": [
      "100%|██████████| 6/6 [00:01<00:00,  3.23it/s]\n"
     ]
    },
    {
     "name": "stdout",
     "output_type": "stream",
     "text": [
      "Train Loss: 0.13315217715660732\n",
      "Train Acc (696): 96.12068965517241%\n",
      "------Weighted------\n",
      "Weighted precision: 0.9611\n",
      "Weighted recall: 0.9612\n",
      "Weighted f1-score: 0.9607\n",
      "------Macro------\n",
      "Macro precision: 0.9604\n",
      "Macro recall: 0.9385\n",
      "Macro f1-score: 0.9488\n"
     ]
    },
    {
     "name": "stderr",
     "output_type": "stream",
     "text": [
      "100%|██████████| 1/1 [00:00<00:00, 11.04it/s]\n",
      "c:\\Users\\Marcelo\\AppData\\Local\\anaconda3\\envs\\pytorch_env\\Lib\\site-packages\\sklearn\\metrics\\_classification.py:1531: UndefinedMetricWarning: Precision is ill-defined and being set to 0.0 in labels with no predicted samples. Use `zero_division` parameter to control this behavior.\n",
      "  _warn_prf(average, modifier, f\"{metric.capitalize()} is\", len(result))\n",
      "c:\\Users\\Marcelo\\AppData\\Local\\anaconda3\\envs\\pytorch_env\\Lib\\site-packages\\sklearn\\metrics\\_classification.py:1531: UndefinedMetricWarning: Precision is ill-defined and being set to 0.0 in labels with no predicted samples. Use `zero_division` parameter to control this behavior.\n",
      "  _warn_prf(average, modifier, f\"{metric.capitalize()} is\", len(result))\n"
     ]
    },
    {
     "name": "stdout",
     "output_type": "stream",
     "text": [
      "Val Loss: 0.5605884058570861\n",
      "Val Acc (37): 72.97297297297297%\n",
      "------Weighted------\n",
      "Weighted precision: 0.5325\n",
      "Weighted recall: 0.7297\n",
      "Weighted f1-score: 0.6157\n",
      "------Macro------\n",
      "Macro precision: 0.3649\n",
      "Macro recall: 0.5000\n",
      "Macro f1-score: 0.4219\n",
      "Training Loss: 0.13315217715660732, Training Accuracy: 96.12068965517241%\n",
      "Validation Loss: 0.5605884058570861, Validation Accuracy: 72.97297297297297%\n",
      "|0.17398759496370952 - 0.13315217715660732| < 0.07\n",
      "new rng\n",
      "Epoch 34/100\n"
     ]
    },
    {
     "name": "stderr",
     "output_type": "stream",
     "text": [
      "100%|██████████| 6/6 [00:01<00:00,  3.29it/s]\n"
     ]
    },
    {
     "name": "stdout",
     "output_type": "stream",
     "text": [
      "Train Loss: 0.1619879729763667\n",
      "Train Acc (696): 94.39655172413794%\n",
      "------Weighted------\n",
      "Weighted precision: 0.9442\n",
      "Weighted recall: 0.9440\n",
      "Weighted f1-score: 0.9427\n",
      "------Macro------\n",
      "Macro precision: 0.9461\n",
      "Macro recall: 0.9075\n",
      "Macro f1-score: 0.9246\n"
     ]
    },
    {
     "name": "stderr",
     "output_type": "stream",
     "text": [
      "100%|██████████| 1/1 [00:00<00:00, 12.59it/s]\n",
      "c:\\Users\\Marcelo\\AppData\\Local\\anaconda3\\envs\\pytorch_env\\Lib\\site-packages\\sklearn\\metrics\\_classification.py:1531: UndefinedMetricWarning: Precision is ill-defined and being set to 0.0 in labels with no predicted samples. Use `zero_division` parameter to control this behavior.\n",
      "  _warn_prf(average, modifier, f\"{metric.capitalize()} is\", len(result))\n",
      "c:\\Users\\Marcelo\\AppData\\Local\\anaconda3\\envs\\pytorch_env\\Lib\\site-packages\\sklearn\\metrics\\_classification.py:1531: UndefinedMetricWarning: Precision is ill-defined and being set to 0.0 in labels with no predicted samples. Use `zero_division` parameter to control this behavior.\n",
      "  _warn_prf(average, modifier, f\"{metric.capitalize()} is\", len(result))\n"
     ]
    },
    {
     "name": "stdout",
     "output_type": "stream",
     "text": [
      "Val Loss: 0.5627477033233642\n",
      "Val Acc (37): 72.97297297297297%\n",
      "------Weighted------\n",
      "Weighted precision: 0.5325\n",
      "Weighted recall: 0.7297\n",
      "Weighted f1-score: 0.6157\n",
      "------Macro------\n",
      "Macro precision: 0.3649\n",
      "Macro recall: 0.5000\n",
      "Macro f1-score: 0.4219\n",
      "Training Loss: 0.1619879729763667, Training Accuracy: 94.39655172413794%\n",
      "Validation Loss: 0.5627477033233642, Validation Accuracy: 72.97297297297297%\n",
      "|0.13315217715660732 - 0.1619879729763667| < 0.07\n",
      "new rng\n",
      "Epoch 35/100\n"
     ]
    },
    {
     "name": "stderr",
     "output_type": "stream",
     "text": [
      "100%|██████████| 6/6 [00:01<00:00,  3.11it/s]\n"
     ]
    },
    {
     "name": "stdout",
     "output_type": "stream",
     "text": [
      "Train Loss: 0.1645360740240415\n",
      "Train Acc (696): 94.10919540229885%\n",
      "------Weighted------\n",
      "Weighted precision: 0.9407\n",
      "Weighted recall: 0.9411\n",
      "Weighted f1-score: 0.9401\n",
      "------Macro------\n",
      "Macro precision: 0.9365\n",
      "Macro recall: 0.9091\n",
      "Macro f1-score: 0.9216\n"
     ]
    },
    {
     "name": "stderr",
     "output_type": "stream",
     "text": [
      "100%|██████████| 1/1 [00:00<00:00,  9.55it/s]\n",
      "c:\\Users\\Marcelo\\AppData\\Local\\anaconda3\\envs\\pytorch_env\\Lib\\site-packages\\sklearn\\metrics\\_classification.py:1531: UndefinedMetricWarning: Precision is ill-defined and being set to 0.0 in labels with no predicted samples. Use `zero_division` parameter to control this behavior.\n",
      "  _warn_prf(average, modifier, f\"{metric.capitalize()} is\", len(result))\n",
      "c:\\Users\\Marcelo\\AppData\\Local\\anaconda3\\envs\\pytorch_env\\Lib\\site-packages\\sklearn\\metrics\\_classification.py:1531: UndefinedMetricWarning: Precision is ill-defined and being set to 0.0 in labels with no predicted samples. Use `zero_division` parameter to control this behavior.\n",
      "  _warn_prf(average, modifier, f\"{metric.capitalize()} is\", len(result))\n"
     ]
    },
    {
     "name": "stdout",
     "output_type": "stream",
     "text": [
      "Val Loss: 0.5553353889083862\n",
      "Val Acc (37): 72.97297297297297%\n",
      "------Weighted------\n",
      "Weighted precision: 0.5325\n",
      "Weighted recall: 0.7297\n",
      "Weighted f1-score: 0.6157\n",
      "------Macro------\n",
      "Macro precision: 0.3649\n",
      "Macro recall: 0.5000\n",
      "Macro f1-score: 0.4219\n",
      "Training Loss: 0.1645360740240415, Training Accuracy: 94.10919540229885%\n",
      "Validation Loss: 0.5553353889083862, Validation Accuracy: 72.97297297297297%\n",
      "|0.1619879729763667 - 0.1645360740240415| < 0.07\n",
      "new rng\n",
      "Epoch 36/100\n"
     ]
    },
    {
     "name": "stderr",
     "output_type": "stream",
     "text": [
      "100%|██████████| 6/6 [00:02<00:00,  2.90it/s]\n"
     ]
    },
    {
     "name": "stdout",
     "output_type": "stream",
     "text": [
      "Train Loss: 0.14630777783354124\n",
      "Train Acc (696): 95.11494252873563%\n",
      "------Weighted------\n",
      "Weighted precision: 0.9514\n",
      "Weighted recall: 0.9511\n",
      "Weighted f1-score: 0.9502\n",
      "------Macro------\n",
      "Macro precision: 0.9532\n",
      "Macro recall: 0.9194\n",
      "Macro f1-score: 0.9346\n"
     ]
    },
    {
     "name": "stderr",
     "output_type": "stream",
     "text": [
      "100%|██████████| 1/1 [00:00<00:00,  9.10it/s]\n"
     ]
    },
    {
     "name": "stdout",
     "output_type": "stream",
     "text": [
      "Val Loss: 0.5407640202140808\n",
      "Val Acc (37): 75.67567567567568%\n",
      "------Weighted------\n",
      "Weighted precision: 0.8176\n",
      "Weighted recall: 0.7568\n",
      "Weighted f1-score: 0.6746\n",
      "------Macro------\n",
      "Macro precision: 0.8750\n",
      "Macro recall: 0.5500\n",
      "Macro f1-score: 0.5195\n",
      "Training Loss: 0.14630777783354124, Training Accuracy: 95.11494252873563%\n",
      "Validation Loss: 0.5407640202140808, Validation Accuracy: 75.67567567567568%\n",
      "|0.1645360740240415 - 0.14630777783354124| < 0.07\n",
      "new rng\n",
      "Epoch 37/100\n"
     ]
    },
    {
     "name": "stderr",
     "output_type": "stream",
     "text": [
      "100%|██████████| 6/6 [00:02<00:00,  2.80it/s]\n"
     ]
    },
    {
     "name": "stdout",
     "output_type": "stream",
     "text": [
      "Train Loss: 0.13356396577914556\n",
      "Train Acc (696): 95.11494252873563%\n",
      "------Weighted------\n",
      "Weighted precision: 0.9509\n",
      "Weighted recall: 0.9511\n",
      "Weighted f1-score: 0.9505\n",
      "------Macro------\n",
      "Macro precision: 0.9476\n",
      "Macro recall: 0.9247\n",
      "Macro f1-score: 0.9354\n"
     ]
    },
    {
     "name": "stderr",
     "output_type": "stream",
     "text": [
      "100%|██████████| 1/1 [00:00<00:00, 15.21it/s]\n"
     ]
    },
    {
     "name": "stdout",
     "output_type": "stream",
     "text": [
      "Val Loss: 0.5057870013809204\n",
      "Val Acc (37): 75.67567567567568%\n",
      "------Weighted------\n",
      "Weighted precision: 0.8176\n",
      "Weighted recall: 0.7568\n",
      "Weighted f1-score: 0.6746\n",
      "------Macro------\n",
      "Macro precision: 0.8750\n",
      "Macro recall: 0.5500\n",
      "Macro f1-score: 0.5195\n",
      "Training Loss: 0.13356396577914556, Training Accuracy: 95.11494252873563%\n",
      "Validation Loss: 0.5057870013809204, Validation Accuracy: 75.67567567567568%\n",
      "|0.14630777783354124 - 0.13356396577914556| < 0.07\n",
      "new rng\n",
      "Epoch 38/100\n"
     ]
    },
    {
     "name": "stderr",
     "output_type": "stream",
     "text": [
      "100%|██████████| 6/6 [00:01<00:00,  3.21it/s]\n"
     ]
    },
    {
     "name": "stdout",
     "output_type": "stream",
     "text": [
      "Train Loss: 0.15022836275060972\n",
      "Train Acc (696): 93.82183908045977%\n",
      "------Weighted------\n",
      "Weighted precision: 0.9376\n",
      "Weighted recall: 0.9382\n",
      "Weighted f1-score: 0.9376\n",
      "------Macro------\n",
      "Macro precision: 0.9277\n",
      "Macro recall: 0.9106\n",
      "Macro f1-score: 0.9187\n"
     ]
    },
    {
     "name": "stderr",
     "output_type": "stream",
     "text": [
      "100%|██████████| 1/1 [00:00<00:00, 12.57it/s]\n"
     ]
    },
    {
     "name": "stdout",
     "output_type": "stream",
     "text": [
      "Val Loss: 0.47735013199806214\n",
      "Val Acc (37): 75.67567567567568%\n",
      "------Weighted------\n",
      "Weighted precision: 0.8176\n",
      "Weighted recall: 0.7568\n",
      "Weighted f1-score: 0.6746\n",
      "------Macro------\n",
      "Macro precision: 0.8750\n",
      "Macro recall: 0.5500\n",
      "Macro f1-score: 0.5195\n",
      "Training Loss: 0.15022836275060972, Training Accuracy: 93.82183908045977%\n",
      "Validation Loss: 0.47735013199806214, Validation Accuracy: 75.67567567567568%\n",
      "|0.13356396577914556 - 0.15022836275060972| < 0.07\n",
      "new rng\n",
      "Epoch 39/100\n"
     ]
    },
    {
     "name": "stderr",
     "output_type": "stream",
     "text": [
      "100%|██████████| 6/6 [00:01<00:00,  3.09it/s]\n"
     ]
    },
    {
     "name": "stdout",
     "output_type": "stream",
     "text": [
      "Train Loss: 0.15357572110652926\n",
      "Train Acc (696): 94.54022988505747%\n",
      "------Weighted------\n",
      "Weighted precision: 0.9450\n",
      "Weighted recall: 0.9454\n",
      "Weighted f1-score: 0.9447\n",
      "------Macro------\n",
      "Macro precision: 0.9398\n",
      "Macro recall: 0.9173\n",
      "Macro f1-score: 0.9278\n"
     ]
    },
    {
     "name": "stderr",
     "output_type": "stream",
     "text": [
      "100%|██████████| 1/1 [00:00<00:00, 13.11it/s]\n"
     ]
    },
    {
     "name": "stdout",
     "output_type": "stream",
     "text": [
      "Val Loss: 0.45253522826194764\n",
      "Val Acc (37): 78.37837837837837%\n",
      "------Weighted------\n",
      "Weighted precision: 0.8332\n",
      "Weighted recall: 0.7838\n",
      "Weighted f1-score: 0.7257\n",
      "------Macro------\n",
      "Macro precision: 0.8857\n",
      "Macro recall: 0.6000\n",
      "Macro f1-score: 0.6022\n",
      "Training Loss: 0.15357572110652926, Training Accuracy: 94.54022988505747%\n",
      "Validation Loss: 0.45253522826194764, Validation Accuracy: 78.37837837837837%\n",
      "|0.15022836275060972 - 0.15357572110652926| < 0.07\n",
      "new rng\n",
      "Epoch 40/100\n"
     ]
    },
    {
     "name": "stderr",
     "output_type": "stream",
     "text": [
      "100%|██████████| 6/6 [00:01<00:00,  3.16it/s]\n"
     ]
    },
    {
     "name": "stdout",
     "output_type": "stream",
     "text": [
      "Train Loss: 0.1261615469769637\n",
      "Train Acc (696): 96.26436781609195%\n",
      "------Weighted------\n",
      "Weighted precision: 0.9627\n",
      "Weighted recall: 0.9626\n",
      "Weighted f1-score: 0.9622\n",
      "------Macro------\n",
      "Macro precision: 0.9633\n",
      "Macro recall: 0.9395\n",
      "Macro f1-score: 0.9506\n"
     ]
    },
    {
     "name": "stderr",
     "output_type": "stream",
     "text": [
      "100%|██████████| 1/1 [00:00<00:00, 10.41it/s]\n"
     ]
    },
    {
     "name": "stdout",
     "output_type": "stream",
     "text": [
      "Val Loss: 0.42193789912223817\n",
      "Val Acc (37): 81.08108108108108%\n",
      "------Weighted------\n",
      "Weighted precision: 0.8498\n",
      "Weighted recall: 0.8108\n",
      "Weighted f1-score: 0.7707\n",
      "------Macro------\n",
      "Macro precision: 0.8971\n",
      "Macro recall: 0.6500\n",
      "Macro f1-score: 0.6734\n",
      "Training Loss: 0.1261615469769637, Training Accuracy: 96.26436781609195%\n",
      "Validation Loss: 0.42193789912223817, Validation Accuracy: 81.08108108108108%\n",
      "|0.15357572110652926 - 0.1261615469769637| < 0.07\n",
      "new rng\n",
      "Epoch 41/100\n"
     ]
    },
    {
     "name": "stderr",
     "output_type": "stream",
     "text": [
      "100%|██████████| 6/6 [00:01<00:00,  3.23it/s]\n"
     ]
    },
    {
     "name": "stdout",
     "output_type": "stream",
     "text": [
      "Train Loss: 0.1340604016896089\n",
      "Train Acc (696): 94.97126436781609%\n",
      "------Weighted------\n",
      "Weighted precision: 0.9503\n",
      "Weighted recall: 0.9497\n",
      "Weighted f1-score: 0.9486\n",
      "------Macro------\n",
      "Macro precision: 0.9542\n",
      "Macro recall: 0.9149\n",
      "Macro f1-score: 0.9323\n"
     ]
    },
    {
     "name": "stderr",
     "output_type": "stream",
     "text": [
      "100%|██████████| 1/1 [00:00<00:00, 12.52it/s]\n"
     ]
    },
    {
     "name": "stdout",
     "output_type": "stream",
     "text": [
      "Val Loss: 0.3896843357181549\n",
      "Val Acc (37): 81.08108108108108%\n",
      "------Weighted------\n",
      "Weighted precision: 0.8498\n",
      "Weighted recall: 0.8108\n",
      "Weighted f1-score: 0.7707\n",
      "------Macro------\n",
      "Macro precision: 0.8971\n",
      "Macro recall: 0.6500\n",
      "Macro f1-score: 0.6734\n",
      "Training Loss: 0.1340604016896089, Training Accuracy: 94.97126436781609%\n",
      "Validation Loss: 0.3896843357181549, Validation Accuracy: 81.08108108108108%\n",
      "|0.1261615469769637 - 0.1340604016896089| < 0.07\n",
      "new rng\n",
      "Epoch 42/100\n"
     ]
    },
    {
     "name": "stderr",
     "output_type": "stream",
     "text": [
      "100%|██████████| 6/6 [00:01<00:00,  3.20it/s]\n"
     ]
    },
    {
     "name": "stdout",
     "output_type": "stream",
     "text": [
      "Train Loss: 0.14894922099669775\n",
      "Train Acc (696): 94.683908045977%\n",
      "------Weighted------\n",
      "Weighted precision: 0.9466\n",
      "Weighted recall: 0.9468\n",
      "Weighted f1-score: 0.9460\n",
      "------Macro------\n",
      "Macro precision: 0.9444\n",
      "Macro recall: 0.9165\n",
      "Macro f1-score: 0.9293\n"
     ]
    },
    {
     "name": "stderr",
     "output_type": "stream",
     "text": [
      "100%|██████████| 1/1 [00:00<00:00, 10.95it/s]\n"
     ]
    },
    {
     "name": "stdout",
     "output_type": "stream",
     "text": [
      "Val Loss: 0.3610085113143921\n",
      "Val Acc (37): 83.78378378378379%\n",
      "------Weighted------\n",
      "Weighted precision: 0.8673\n",
      "Weighted recall: 0.8378\n",
      "Weighted f1-score: 0.8112\n",
      "------Macro------\n",
      "Macro precision: 0.9091\n",
      "Macro recall: 0.7000\n",
      "Macro f1-score: 0.7357\n",
      "Training Loss: 0.14894922099669775, Training Accuracy: 94.683908045977%\n",
      "Validation Loss: 0.3610085113143921, Validation Accuracy: 83.78378378378379%\n",
      "|0.1340604016896089 - 0.14894922099669775| < 0.07\n",
      "new rng\n",
      "Epoch 43/100\n"
     ]
    },
    {
     "name": "stderr",
     "output_type": "stream",
     "text": [
      "100%|██████████| 6/6 [00:01<00:00,  3.13it/s]\n"
     ]
    },
    {
     "name": "stdout",
     "output_type": "stream",
     "text": [
      "Train Loss: 0.15082030144492786\n",
      "Train Acc (696): 95.40229885057471%\n",
      "------Weighted------\n",
      "Weighted precision: 0.9538\n",
      "Weighted recall: 0.9540\n",
      "Weighted f1-score: 0.9534\n",
      "------Macro------\n",
      "Macro precision: 0.9516\n",
      "Macro recall: 0.9284\n",
      "Macro f1-score: 0.9392\n"
     ]
    },
    {
     "name": "stderr",
     "output_type": "stream",
     "text": [
      "100%|██████████| 1/1 [00:00<00:00, 12.03it/s]\n"
     ]
    },
    {
     "name": "stdout",
     "output_type": "stream",
     "text": [
      "Val Loss: 0.33916892243385316\n",
      "Val Acc (37): 86.48648648648648%\n",
      "------Weighted------\n",
      "Weighted precision: 0.8860\n",
      "Weighted recall: 0.8649\n",
      "Weighted f1-score: 0.8481\n",
      "------Macro------\n",
      "Macro precision: 0.9219\n",
      "Macro recall: 0.7500\n",
      "Macro f1-score: 0.7910\n",
      "Training Loss: 0.15082030144492786, Training Accuracy: 95.40229885057471%\n",
      "Validation Loss: 0.33916892243385316, Validation Accuracy: 86.48648648648648%\n",
      "|0.14894922099669775 - 0.15082030144492786| < 0.07\n",
      "new rng\n",
      "Epoch 44/100\n"
     ]
    },
    {
     "name": "stderr",
     "output_type": "stream",
     "text": [
      "100%|██████████| 6/6 [00:01<00:00,  3.01it/s]\n"
     ]
    },
    {
     "name": "stdout",
     "output_type": "stream",
     "text": [
      "Train Loss: 0.1659715500688553\n",
      "Train Acc (696): 94.25287356321839%\n",
      "------Weighted------\n",
      "Weighted precision: 0.9420\n",
      "Weighted recall: 0.9425\n",
      "Weighted f1-score: 0.9419\n",
      "------Macro------\n",
      "Macro precision: 0.9343\n",
      "Macro recall: 0.9153\n",
      "Macro f1-score: 0.9242\n"
     ]
    },
    {
     "name": "stderr",
     "output_type": "stream",
     "text": [
      "100%|██████████| 1/1 [00:00<00:00,  9.57it/s]\n"
     ]
    },
    {
     "name": "stdout",
     "output_type": "stream",
     "text": [
      "Val Loss: 0.3199693424797058\n",
      "Val Acc (37): 89.1891891891892%\n",
      "------Weighted------\n",
      "Weighted precision: 0.9058\n",
      "Weighted recall: 0.8919\n",
      "Weighted f1-score: 0.8821\n",
      "------Macro------\n",
      "Macro precision: 0.9355\n",
      "Macro recall: 0.8000\n",
      "Macro f1-score: 0.8405\n",
      "Training Loss: 0.1659715500688553, Training Accuracy: 94.25287356321839%\n",
      "Validation Loss: 0.3199693424797058, Validation Accuracy: 89.1891891891892%\n",
      "|0.15082030144492786 - 0.1659715500688553| < 0.07\n",
      "new rng\n",
      "Epoch 45/100\n"
     ]
    },
    {
     "name": "stderr",
     "output_type": "stream",
     "text": [
      "100%|██████████| 6/6 [00:02<00:00,  2.97it/s]\n"
     ]
    },
    {
     "name": "stdout",
     "output_type": "stream",
     "text": [
      "Train Loss: 0.13966356488227846\n",
      "Train Acc (696): 95.97701149425288%\n",
      "------Weighted------\n",
      "Weighted precision: 0.9599\n",
      "Weighted recall: 0.9598\n",
      "Weighted f1-score: 0.9592\n",
      "------Macro------\n",
      "Macro precision: 0.9612\n",
      "Macro recall: 0.9340\n",
      "Macro f1-score: 0.9466\n"
     ]
    },
    {
     "name": "stderr",
     "output_type": "stream",
     "text": [
      "100%|██████████| 1/1 [00:00<00:00, 13.46it/s]\n"
     ]
    },
    {
     "name": "stdout",
     "output_type": "stream",
     "text": [
      "Val Loss: 0.2950958771800995\n",
      "Val Acc (37): 89.1891891891892%\n",
      "------Weighted------\n",
      "Weighted precision: 0.9058\n",
      "Weighted recall: 0.8919\n",
      "Weighted f1-score: 0.8821\n",
      "------Macro------\n",
      "Macro precision: 0.9355\n",
      "Macro recall: 0.8000\n",
      "Macro f1-score: 0.8405\n",
      "Training Loss: 0.13966356488227846, Training Accuracy: 95.97701149425288%\n",
      "Validation Loss: 0.2950958771800995, Validation Accuracy: 89.1891891891892%\n",
      "|0.1659715500688553 - 0.13966356488227846| < 0.07\n",
      "new rng\n",
      "Epoch 46/100\n"
     ]
    },
    {
     "name": "stderr",
     "output_type": "stream",
     "text": [
      "100%|██████████| 6/6 [00:01<00:00,  3.25it/s]\n"
     ]
    },
    {
     "name": "stdout",
     "output_type": "stream",
     "text": [
      "Train Loss: 0.13754055671056112\n",
      "Train Acc (696): 94.97126436781609%\n",
      "------Weighted------\n",
      "Weighted precision: 0.9495\n",
      "Weighted recall: 0.9497\n",
      "Weighted f1-score: 0.9490\n",
      "------Macro------\n",
      "Macro precision: 0.9466\n",
      "Macro recall: 0.9219\n",
      "Macro f1-score: 0.9333\n"
     ]
    },
    {
     "name": "stderr",
     "output_type": "stream",
     "text": [
      "100%|██████████| 1/1 [00:00<00:00, 15.59it/s]\n"
     ]
    },
    {
     "name": "stdout",
     "output_type": "stream",
     "text": [
      "Val Loss: 0.2846709652042389\n",
      "Val Acc (37): 89.1891891891892%\n",
      "------Weighted------\n",
      "Weighted precision: 0.9058\n",
      "Weighted recall: 0.8919\n",
      "Weighted f1-score: 0.8821\n",
      "------Macro------\n",
      "Macro precision: 0.9355\n",
      "Macro recall: 0.8000\n",
      "Macro f1-score: 0.8405\n",
      "Training Loss: 0.13754055671056112, Training Accuracy: 94.97126436781609%\n",
      "Validation Loss: 0.2846709652042389, Validation Accuracy: 89.1891891891892%\n",
      "|0.13966356488227846 - 0.13754055671056112| < 0.07\n",
      "new rng\n",
      "Epoch 47/100\n"
     ]
    },
    {
     "name": "stderr",
     "output_type": "stream",
     "text": [
      "100%|██████████| 6/6 [00:01<00:00,  3.19it/s]\n"
     ]
    },
    {
     "name": "stdout",
     "output_type": "stream",
     "text": [
      "Train Loss: 0.16481246324539187\n",
      "Train Acc (696): 94.25287356321839%\n",
      "------Weighted------\n",
      "Weighted precision: 0.9421\n",
      "Weighted recall: 0.9425\n",
      "Weighted f1-score: 0.9417\n",
      "------Macro------\n",
      "Macro precision: 0.9376\n",
      "Macro recall: 0.9118\n",
      "Macro f1-score: 0.9237\n"
     ]
    },
    {
     "name": "stderr",
     "output_type": "stream",
     "text": [
      "100%|██████████| 1/1 [00:00<00:00, 12.33it/s]\n"
     ]
    },
    {
     "name": "stdout",
     "output_type": "stream",
     "text": [
      "Val Loss: 0.27785720063209535\n",
      "Val Acc (37): 89.1891891891892%\n",
      "------Weighted------\n",
      "Weighted precision: 0.9058\n",
      "Weighted recall: 0.8919\n",
      "Weighted f1-score: 0.8821\n",
      "------Macro------\n",
      "Macro precision: 0.9355\n",
      "Macro recall: 0.8000\n",
      "Macro f1-score: 0.8405\n",
      "Training Loss: 0.16481246324539187, Training Accuracy: 94.25287356321839%\n",
      "Validation Loss: 0.27785720063209535, Validation Accuracy: 89.1891891891892%\n",
      "|0.13754055671056112 - 0.16481246324539187| < 0.07\n",
      "new rng\n",
      "Epoch 48/100\n"
     ]
    },
    {
     "name": "stderr",
     "output_type": "stream",
     "text": [
      "100%|██████████| 6/6 [00:01<00:00,  3.12it/s]\n"
     ]
    },
    {
     "name": "stdout",
     "output_type": "stream",
     "text": [
      "Train Loss: 0.1355853989438216\n",
      "Train Acc (696): 95.6896551724138%\n",
      "------Weighted------\n",
      "Weighted precision: 0.9567\n",
      "Weighted recall: 0.9569\n",
      "Weighted f1-score: 0.9564\n",
      "------Macro------\n",
      "Macro precision: 0.9537\n",
      "Macro recall: 0.9339\n",
      "Macro f1-score: 0.9432\n"
     ]
    },
    {
     "name": "stderr",
     "output_type": "stream",
     "text": [
      "100%|██████████| 1/1 [00:00<00:00, 12.07it/s]\n"
     ]
    },
    {
     "name": "stdout",
     "output_type": "stream",
     "text": [
      "Val Loss: 0.2663464112377167\n",
      "Val Acc (37): 89.1891891891892%\n",
      "------Weighted------\n",
      "Weighted precision: 0.9058\n",
      "Weighted recall: 0.8919\n",
      "Weighted f1-score: 0.8821\n",
      "------Macro------\n",
      "Macro precision: 0.9355\n",
      "Macro recall: 0.8000\n",
      "Macro f1-score: 0.8405\n",
      "Training Loss: 0.1355853989438216, Training Accuracy: 95.6896551724138%\n",
      "Validation Loss: 0.2663464112377167, Validation Accuracy: 89.1891891891892%\n",
      "|0.16481246324539187 - 0.1355853989438216| < 0.07\n",
      "new rng\n",
      "Epoch 49/100\n"
     ]
    },
    {
     "name": "stderr",
     "output_type": "stream",
     "text": [
      "100%|██████████| 6/6 [00:01<00:00,  3.01it/s]\n"
     ]
    },
    {
     "name": "stdout",
     "output_type": "stream",
     "text": [
      "Train Loss: 0.13888327054341634\n",
      "Train Acc (696): 96.26436781609195%\n",
      "------Weighted------\n",
      "Weighted precision: 0.9629\n",
      "Weighted recall: 0.9626\n",
      "Weighted f1-score: 0.9621\n",
      "------Macro------\n",
      "Macro precision: 0.9652\n",
      "Macro recall: 0.9377\n",
      "Macro f1-score: 0.9504\n"
     ]
    },
    {
     "name": "stderr",
     "output_type": "stream",
     "text": [
      "100%|██████████| 1/1 [00:00<00:00, 10.54it/s]\n"
     ]
    },
    {
     "name": "stdout",
     "output_type": "stream",
     "text": [
      "Val Loss: 0.26373092962265016\n",
      "Val Acc (37): 89.1891891891892%\n",
      "------Weighted------\n",
      "Weighted precision: 0.9058\n",
      "Weighted recall: 0.8919\n",
      "Weighted f1-score: 0.8821\n",
      "------Macro------\n",
      "Macro precision: 0.9355\n",
      "Macro recall: 0.8000\n",
      "Macro f1-score: 0.8405\n",
      "Training Loss: 0.13888327054341634, Training Accuracy: 96.26436781609195%\n",
      "Validation Loss: 0.26373092962265016, Validation Accuracy: 89.1891891891892%\n",
      "|0.1355853989438216 - 0.13888327054341634| < 0.07\n",
      "new rng\n",
      "Epoch 50/100\n"
     ]
    },
    {
     "name": "stderr",
     "output_type": "stream",
     "text": [
      "100%|██████████| 6/6 [00:02<00:00,  2.95it/s]\n"
     ]
    },
    {
     "name": "stdout",
     "output_type": "stream",
     "text": [
      "Train Loss: 0.12418657935818038\n",
      "Train Acc (696): 95.83333333333333%\n",
      "------Weighted------\n",
      "Weighted precision: 0.9581\n",
      "Weighted recall: 0.9583\n",
      "Weighted f1-score: 0.9579\n",
      "------Macro------\n",
      "Macro precision: 0.9548\n",
      "Macro recall: 0.9366\n",
      "Macro f1-score: 0.9452\n"
     ]
    },
    {
     "name": "stderr",
     "output_type": "stream",
     "text": [
      "100%|██████████| 1/1 [00:00<00:00, 13.02it/s]\n"
     ]
    },
    {
     "name": "stdout",
     "output_type": "stream",
     "text": [
      "Val Loss: 0.2597114009952545\n",
      "Val Acc (37): 89.1891891891892%\n",
      "------Weighted------\n",
      "Weighted precision: 0.9058\n",
      "Weighted recall: 0.8919\n",
      "Weighted f1-score: 0.8821\n",
      "------Macro------\n",
      "Macro precision: 0.9355\n",
      "Macro recall: 0.8000\n",
      "Macro f1-score: 0.8405\n",
      "Training Loss: 0.12418657935818038, Training Accuracy: 95.83333333333333%\n",
      "Validation Loss: 0.2597114009952545, Validation Accuracy: 89.1891891891892%\n",
      "|0.13888327054341634 - 0.12418657935818038| < 0.07\n",
      "new rng\n",
      "Epoch 51/100\n"
     ]
    },
    {
     "name": "stderr",
     "output_type": "stream",
     "text": [
      "100%|██████████| 6/6 [00:01<00:00,  3.18it/s]\n"
     ]
    },
    {
     "name": "stdout",
     "output_type": "stream",
     "text": [
      "Train Loss: 0.15956978770256044\n",
      "Train Acc (696): 94.25287356321839%\n",
      "------Weighted------\n",
      "Weighted precision: 0.9421\n",
      "Weighted recall: 0.9425\n",
      "Weighted f1-score: 0.9417\n",
      "------Macro------\n",
      "Macro precision: 0.9376\n",
      "Macro recall: 0.9118\n",
      "Macro f1-score: 0.9237\n"
     ]
    },
    {
     "name": "stderr",
     "output_type": "stream",
     "text": [
      "100%|██████████| 1/1 [00:00<00:00,  7.80it/s]\n"
     ]
    },
    {
     "name": "stdout",
     "output_type": "stream",
     "text": [
      "Val Loss: 0.2549623711204529\n",
      "Val Acc (37): 89.1891891891892%\n",
      "------Weighted------\n",
      "Weighted precision: 0.9058\n",
      "Weighted recall: 0.8919\n",
      "Weighted f1-score: 0.8821\n",
      "------Macro------\n",
      "Macro precision: 0.9355\n",
      "Macro recall: 0.8000\n",
      "Macro f1-score: 0.8405\n",
      "Training Loss: 0.15956978770256044, Training Accuracy: 94.25287356321839%\n",
      "Validation Loss: 0.2549623711204529, Validation Accuracy: 89.1891891891892%\n",
      "|0.12418657935818038 - 0.15956978770256044| < 0.07\n",
      "new rng\n",
      "Epoch 52/100\n"
     ]
    },
    {
     "name": "stderr",
     "output_type": "stream",
     "text": [
      "100%|██████████| 6/6 [00:02<00:00,  2.85it/s]\n"
     ]
    },
    {
     "name": "stdout",
     "output_type": "stream",
     "text": [
      "Train Loss: 0.14104347946405413\n",
      "Train Acc (696): 95.40229885057471%\n",
      "------Weighted------\n",
      "Weighted precision: 0.9537\n",
      "Weighted recall: 0.9540\n",
      "Weighted f1-score: 0.9536\n",
      "------Macro------\n",
      "Macro precision: 0.9481\n",
      "Macro recall: 0.9319\n",
      "Macro f1-score: 0.9396\n"
     ]
    },
    {
     "name": "stderr",
     "output_type": "stream",
     "text": [
      "100%|██████████| 1/1 [00:00<00:00, 13.26it/s]\n"
     ]
    },
    {
     "name": "stdout",
     "output_type": "stream",
     "text": [
      "Val Loss: 0.24931456280708314\n",
      "Val Acc (37): 89.1891891891892%\n",
      "------Weighted------\n",
      "Weighted precision: 0.9058\n",
      "Weighted recall: 0.8919\n",
      "Weighted f1-score: 0.8821\n",
      "------Macro------\n",
      "Macro precision: 0.9355\n",
      "Macro recall: 0.8000\n",
      "Macro f1-score: 0.8405\n",
      "Training Loss: 0.14104347946405413, Training Accuracy: 95.40229885057471%\n",
      "Validation Loss: 0.24931456280708314, Validation Accuracy: 89.1891891891892%\n",
      "|0.15956978770256044 - 0.14104347946405413| < 0.07\n",
      "new rng\n",
      "Epoch 53/100\n"
     ]
    },
    {
     "name": "stderr",
     "output_type": "stream",
     "text": [
      "100%|██████████| 6/6 [00:02<00:00,  2.80it/s]\n"
     ]
    },
    {
     "name": "stdout",
     "output_type": "stream",
     "text": [
      "Train Loss: 0.1416273231025537\n",
      "Train Acc (696): 95.54597701149426%\n",
      "------Weighted------\n",
      "Weighted precision: 0.9553\n",
      "Weighted recall: 0.9555\n",
      "Weighted f1-score: 0.9549\n",
      "------Macro------\n",
      "Macro precision: 0.9526\n",
      "Macro recall: 0.9311\n",
      "Macro f1-score: 0.9412\n"
     ]
    },
    {
     "name": "stderr",
     "output_type": "stream",
     "text": [
      "100%|██████████| 1/1 [00:00<00:00,  9.35it/s]\n"
     ]
    },
    {
     "name": "stdout",
     "output_type": "stream",
     "text": [
      "Val Loss: 0.2522912783718109\n",
      "Val Acc (37): 89.1891891891892%\n",
      "------Weighted------\n",
      "Weighted precision: 0.9058\n",
      "Weighted recall: 0.8919\n",
      "Weighted f1-score: 0.8821\n",
      "------Macro------\n",
      "Macro precision: 0.9355\n",
      "Macro recall: 0.8000\n",
      "Macro f1-score: 0.8405\n",
      "Training Loss: 0.1416273231025537, Training Accuracy: 95.54597701149426%\n",
      "Validation Loss: 0.2522912783718109, Validation Accuracy: 89.1891891891892%\n",
      "|0.14104347946405413 - 0.1416273231025537| < 0.07\n",
      "new rng\n",
      "Epoch 54/100\n"
     ]
    },
    {
     "name": "stderr",
     "output_type": "stream",
     "text": [
      "100%|██████████| 6/6 [00:01<00:00,  3.11it/s]\n"
     ]
    },
    {
     "name": "stdout",
     "output_type": "stream",
     "text": [
      "Train Loss: 0.12816745809872945\n",
      "Train Acc (696): 95.6896551724138%\n",
      "------Weighted------\n",
      "Weighted precision: 0.9567\n",
      "Weighted recall: 0.9569\n",
      "Weighted f1-score: 0.9564\n",
      "------Macro------\n",
      "Macro precision: 0.9537\n",
      "Macro recall: 0.9339\n",
      "Macro f1-score: 0.9432\n"
     ]
    },
    {
     "name": "stderr",
     "output_type": "stream",
     "text": [
      "100%|██████████| 1/1 [00:00<00:00, 13.06it/s]\n"
     ]
    },
    {
     "name": "stdout",
     "output_type": "stream",
     "text": [
      "Val Loss: 0.2573521001434326\n",
      "Val Acc (37): 89.1891891891892%\n",
      "------Weighted------\n",
      "Weighted precision: 0.9058\n",
      "Weighted recall: 0.8919\n",
      "Weighted f1-score: 0.8821\n",
      "------Macro------\n",
      "Macro precision: 0.9355\n",
      "Macro recall: 0.8000\n",
      "Macro f1-score: 0.8405\n",
      "Training Loss: 0.12816745809872945, Training Accuracy: 95.6896551724138%\n",
      "Validation Loss: 0.2573521001434326, Validation Accuracy: 89.1891891891892%\n",
      "|0.1416273231025537 - 0.12816745809872945| < 0.07\n",
      "new rng\n",
      "Epoch 55/100\n"
     ]
    },
    {
     "name": "stderr",
     "output_type": "stream",
     "text": [
      "100%|██████████| 6/6 [00:01<00:00,  3.17it/s]\n"
     ]
    },
    {
     "name": "stdout",
     "output_type": "stream",
     "text": [
      "Train Loss: 0.12022900479197503\n",
      "Train Acc (696): 95.97701149425288%\n",
      "------Weighted------\n",
      "Weighted precision: 0.9599\n",
      "Weighted recall: 0.9598\n",
      "Weighted f1-score: 0.9592\n",
      "------Macro------\n",
      "Macro precision: 0.9612\n",
      "Macro recall: 0.9340\n",
      "Macro f1-score: 0.9466\n"
     ]
    },
    {
     "name": "stderr",
     "output_type": "stream",
     "text": [
      "100%|██████████| 1/1 [00:00<00:00, 13.35it/s]\n"
     ]
    },
    {
     "name": "stdout",
     "output_type": "stream",
     "text": [
      "Val Loss: 0.2567332847213745\n",
      "Val Acc (37): 89.1891891891892%\n",
      "------Weighted------\n",
      "Weighted precision: 0.9058\n",
      "Weighted recall: 0.8919\n",
      "Weighted f1-score: 0.8821\n",
      "------Macro------\n",
      "Macro precision: 0.9355\n",
      "Macro recall: 0.8000\n",
      "Macro f1-score: 0.8405\n",
      "Training Loss: 0.12022900479197503, Training Accuracy: 95.97701149425288%\n",
      "Validation Loss: 0.2567332847213745, Validation Accuracy: 89.1891891891892%\n",
      "|0.12816745809872945 - 0.12022900479197503| < 0.07\n",
      "new rng\n",
      "Epoch 56/100\n"
     ]
    },
    {
     "name": "stderr",
     "output_type": "stream",
     "text": [
      "100%|██████████| 6/6 [00:01<00:00,  3.21it/s]\n"
     ]
    },
    {
     "name": "stdout",
     "output_type": "stream",
     "text": [
      "Train Loss: 0.14088723333835604\n",
      "Train Acc (696): 95.25862068965517%\n",
      "------Weighted------\n",
      "Weighted precision: 0.9522\n",
      "Weighted recall: 0.9526\n",
      "Weighted f1-score: 0.9522\n",
      "------Macro------\n",
      "Macro precision: 0.9454\n",
      "Macro recall: 0.9309\n",
      "Macro f1-score: 0.9378\n"
     ]
    },
    {
     "name": "stderr",
     "output_type": "stream",
     "text": [
      "100%|██████████| 1/1 [00:00<00:00, 10.47it/s]\n"
     ]
    },
    {
     "name": "stdout",
     "output_type": "stream",
     "text": [
      "Val Loss: 0.26437835527420045\n",
      "Val Acc (37): 89.1891891891892%\n",
      "------Weighted------\n",
      "Weighted precision: 0.9058\n",
      "Weighted recall: 0.8919\n",
      "Weighted f1-score: 0.8821\n",
      "------Macro------\n",
      "Macro precision: 0.9355\n",
      "Macro recall: 0.8000\n",
      "Macro f1-score: 0.8405\n",
      "Training Loss: 0.14088723333835604, Training Accuracy: 95.25862068965517%\n",
      "Validation Loss: 0.26437835527420045, Validation Accuracy: 89.1891891891892%\n",
      "|0.12022900479197503 - 0.14088723333835604| < 0.07\n",
      "new rng\n",
      "Epoch 57/100\n"
     ]
    },
    {
     "name": "stderr",
     "output_type": "stream",
     "text": [
      "100%|██████████| 6/6 [00:01<00:00,  3.17it/s]\n"
     ]
    },
    {
     "name": "stdout",
     "output_type": "stream",
     "text": [
      "Train Loss: 0.13221453276435535\n",
      "Train Acc (696): 95.40229885057471%\n",
      "------Weighted------\n",
      "Weighted precision: 0.9540\n",
      "Weighted recall: 0.9540\n",
      "Weighted f1-score: 0.9533\n",
      "------Macro------\n",
      "Macro precision: 0.9534\n",
      "Macro recall: 0.9266\n",
      "Macro f1-score: 0.9389\n"
     ]
    },
    {
     "name": "stderr",
     "output_type": "stream",
     "text": [
      "100%|██████████| 1/1 [00:00<00:00, 13.28it/s]\n"
     ]
    },
    {
     "name": "stdout",
     "output_type": "stream",
     "text": [
      "Val Loss: 0.25247533751487733\n",
      "Val Acc (37): 89.1891891891892%\n",
      "------Weighted------\n",
      "Weighted precision: 0.9058\n",
      "Weighted recall: 0.8919\n",
      "Weighted f1-score: 0.8821\n",
      "------Macro------\n",
      "Macro precision: 0.9355\n",
      "Macro recall: 0.8000\n",
      "Macro f1-score: 0.8405\n",
      "Training Loss: 0.13221453276435535, Training Accuracy: 95.40229885057471%\n",
      "Validation Loss: 0.25247533751487733, Validation Accuracy: 89.1891891891892%\n",
      "|0.14088723333835604 - 0.13221453276435535| < 0.07\n",
      "new rng\n",
      "Epoch 58/100\n"
     ]
    },
    {
     "name": "stderr",
     "output_type": "stream",
     "text": [
      "100%|██████████| 6/6 [00:01<00:00,  3.18it/s]\n"
     ]
    },
    {
     "name": "stdout",
     "output_type": "stream",
     "text": [
      "Train Loss: 0.14439414463599523\n",
      "Train Acc (696): 94.10919540229885%\n",
      "------Weighted------\n",
      "Weighted precision: 0.9405\n",
      "Weighted recall: 0.9411\n",
      "Weighted f1-score: 0.9405\n",
      "------Macro------\n",
      "Macro precision: 0.9316\n",
      "Macro recall: 0.9143\n",
      "Macro f1-score: 0.9225\n"
     ]
    },
    {
     "name": "stderr",
     "output_type": "stream",
     "text": [
      "100%|██████████| 1/1 [00:00<00:00, 14.22it/s]\n"
     ]
    },
    {
     "name": "stdout",
     "output_type": "stream",
     "text": [
      "Val Loss: 0.246320755610466\n",
      "Val Acc (37): 89.1891891891892%\n",
      "------Weighted------\n",
      "Weighted precision: 0.9058\n",
      "Weighted recall: 0.8919\n",
      "Weighted f1-score: 0.8821\n",
      "------Macro------\n",
      "Macro precision: 0.9355\n",
      "Macro recall: 0.8000\n",
      "Macro f1-score: 0.8405\n",
      "Training Loss: 0.14439414463599523, Training Accuracy: 94.10919540229885%\n",
      "Validation Loss: 0.246320755610466, Validation Accuracy: 89.1891891891892%\n",
      "|0.13221453276435535 - 0.14439414463599523| < 0.07\n",
      "new rng\n",
      "Epoch 59/100\n"
     ]
    },
    {
     "name": "stderr",
     "output_type": "stream",
     "text": [
      "100%|██████████| 6/6 [00:01<00:00,  3.07it/s]\n"
     ]
    },
    {
     "name": "stdout",
     "output_type": "stream",
     "text": [
      "Train Loss: 0.14061614893039068\n",
      "Train Acc (696): 94.97126436781609%\n",
      "------Weighted------\n",
      "Weighted precision: 0.9494\n",
      "Weighted recall: 0.9497\n",
      "Weighted f1-score: 0.9491\n",
      "------Macro------\n",
      "Macro precision: 0.9448\n",
      "Macro recall: 0.9237\n",
      "Macro f1-score: 0.9336\n"
     ]
    },
    {
     "name": "stderr",
     "output_type": "stream",
     "text": [
      "100%|██████████| 1/1 [00:00<00:00, 13.96it/s]\n"
     ]
    },
    {
     "name": "stdout",
     "output_type": "stream",
     "text": [
      "Val Loss: 0.2521362764930725\n",
      "Val Acc (37): 91.89189189189189%\n",
      "------Weighted------\n",
      "Weighted precision: 0.9270\n",
      "Weighted recall: 0.9189\n",
      "Weighted f1-score: 0.9139\n",
      "------Macro------\n",
      "Macro precision: 0.9500\n",
      "Macro recall: 0.8500\n",
      "Macro f1-score: 0.8854\n",
      "Training Loss: 0.14061614893039068, Training Accuracy: 94.97126436781609%\n",
      "Validation Loss: 0.2521362764930725, Validation Accuracy: 91.89189189189189%\n",
      "|0.14439414463599523 - 0.14061614893039068| < 0.07\n",
      "new rng\n",
      "Epoch 60/100\n"
     ]
    },
    {
     "name": "stderr",
     "output_type": "stream",
     "text": [
      "100%|██████████| 6/6 [00:01<00:00,  3.14it/s]\n"
     ]
    },
    {
     "name": "stdout",
     "output_type": "stream",
     "text": [
      "Train Loss: 0.14831143763820331\n",
      "Train Acc (696): 95.25862068965517%\n",
      "------Weighted------\n",
      "Weighted precision: 0.9522\n",
      "Weighted recall: 0.9526\n",
      "Weighted f1-score: 0.9521\n",
      "------Macro------\n",
      "Macro precision: 0.9470\n",
      "Macro recall: 0.9292\n",
      "Macro f1-score: 0.9376\n"
     ]
    },
    {
     "name": "stderr",
     "output_type": "stream",
     "text": [
      "100%|██████████| 1/1 [00:00<00:00, 12.59it/s]\n"
     ]
    },
    {
     "name": "stdout",
     "output_type": "stream",
     "text": [
      "Val Loss: 0.25033660365104676\n",
      "Val Acc (37): 91.89189189189189%\n",
      "------Weighted------\n",
      "Weighted precision: 0.9270\n",
      "Weighted recall: 0.9189\n",
      "Weighted f1-score: 0.9139\n",
      "------Macro------\n",
      "Macro precision: 0.9500\n",
      "Macro recall: 0.8500\n",
      "Macro f1-score: 0.8854\n",
      "Training Loss: 0.14831143763820331, Training Accuracy: 95.25862068965517%\n",
      "Validation Loss: 0.25033660365104676, Validation Accuracy: 91.89189189189189%\n",
      "|0.14061614893039068 - 0.14831143763820331| < 0.07\n",
      "new rng\n",
      "Epoch 61/100\n"
     ]
    },
    {
     "name": "stderr",
     "output_type": "stream",
     "text": [
      "100%|██████████| 6/6 [00:01<00:00,  3.21it/s]\n"
     ]
    },
    {
     "name": "stdout",
     "output_type": "stream",
     "text": [
      "Train Loss: 0.13187237602631252\n",
      "Train Acc (696): 95.83333333333333%\n",
      "------Weighted------\n",
      "Weighted precision: 0.9582\n",
      "Weighted recall: 0.9583\n",
      "Weighted f1-score: 0.9578\n",
      "------Macro------\n",
      "Macro precision: 0.9565\n",
      "Macro recall: 0.9348\n",
      "Macro f1-score: 0.9450\n"
     ]
    },
    {
     "name": "stderr",
     "output_type": "stream",
     "text": [
      "100%|██████████| 1/1 [00:00<00:00, 12.69it/s]\n"
     ]
    },
    {
     "name": "stdout",
     "output_type": "stream",
     "text": [
      "Val Loss: 0.2510081989860535\n",
      "Val Acc (37): 89.1891891891892%\n",
      "------Weighted------\n",
      "Weighted precision: 0.9058\n",
      "Weighted recall: 0.8919\n",
      "Weighted f1-score: 0.8821\n",
      "------Macro------\n",
      "Macro precision: 0.9355\n",
      "Macro recall: 0.8000\n",
      "Macro f1-score: 0.8405\n",
      "Training Loss: 0.13187237602631252, Training Accuracy: 95.83333333333333%\n",
      "Validation Loss: 0.2510081989860535, Validation Accuracy: 89.1891891891892%\n",
      "|0.14831143763820331 - 0.13187237602631252| < 0.07\n",
      "new rng\n",
      "Epoch 62/100\n"
     ]
    },
    {
     "name": "stderr",
     "output_type": "stream",
     "text": [
      "100%|██████████| 6/6 [00:01<00:00,  3.17it/s]\n"
     ]
    },
    {
     "name": "stdout",
     "output_type": "stream",
     "text": [
      "Train Loss: 0.14832113953590395\n",
      "Train Acc (696): 94.683908045977%\n",
      "------Weighted------\n",
      "Weighted precision: 0.9464\n",
      "Weighted recall: 0.9468\n",
      "Weighted f1-score: 0.9462\n",
      "------Macro------\n",
      "Macro precision: 0.9409\n",
      "Macro recall: 0.9200\n",
      "Macro f1-score: 0.9298\n"
     ]
    },
    {
     "name": "stderr",
     "output_type": "stream",
     "text": [
      "100%|██████████| 1/1 [00:00<00:00, 13.29it/s]\n"
     ]
    },
    {
     "name": "stdout",
     "output_type": "stream",
     "text": [
      "Val Loss: 0.25062777234077455\n",
      "Val Acc (37): 91.89189189189189%\n",
      "------Weighted------\n",
      "Weighted precision: 0.9270\n",
      "Weighted recall: 0.9189\n",
      "Weighted f1-score: 0.9139\n",
      "------Macro------\n",
      "Macro precision: 0.9500\n",
      "Macro recall: 0.8500\n",
      "Macro f1-score: 0.8854\n",
      "Training Loss: 0.14832113953590395, Training Accuracy: 94.683908045977%\n",
      "Validation Loss: 0.25062777234077455, Validation Accuracy: 91.89189189189189%\n",
      "|0.13187237602631252 - 0.14832113953590395| < 0.07\n",
      "new rng\n",
      "Epoch 63/100\n"
     ]
    },
    {
     "name": "stderr",
     "output_type": "stream",
     "text": [
      "100%|██████████| 6/6 [00:01<00:00,  3.22it/s]\n"
     ]
    },
    {
     "name": "stdout",
     "output_type": "stream",
     "text": [
      "Train Loss: 0.13502393188238146\n",
      "Train Acc (696): 95.6896551724138%\n",
      "------Weighted------\n",
      "Weighted precision: 0.9566\n",
      "Weighted recall: 0.9569\n",
      "Weighted f1-score: 0.9565\n",
      "------Macro------\n",
      "Macro precision: 0.9520\n",
      "Macro recall: 0.9356\n",
      "Macro f1-score: 0.9434\n"
     ]
    },
    {
     "name": "stderr",
     "output_type": "stream",
     "text": [
      "100%|██████████| 1/1 [00:00<00:00, 12.69it/s]\n"
     ]
    },
    {
     "name": "stdout",
     "output_type": "stream",
     "text": [
      "Val Loss: 0.25168277455329896\n",
      "Val Acc (37): 89.1891891891892%\n",
      "------Weighted------\n",
      "Weighted precision: 0.9058\n",
      "Weighted recall: 0.8919\n",
      "Weighted f1-score: 0.8821\n",
      "------Macro------\n",
      "Macro precision: 0.9355\n",
      "Macro recall: 0.8000\n",
      "Macro f1-score: 0.8405\n",
      "Training Loss: 0.13502393188238146, Training Accuracy: 95.6896551724138%\n",
      "Validation Loss: 0.25168277455329896, Validation Accuracy: 89.1891891891892%\n",
      "|0.14832113953590395 - 0.13502393188238146| < 0.07\n",
      "new rng\n",
      "Epoch 64/100\n"
     ]
    },
    {
     "name": "stderr",
     "output_type": "stream",
     "text": [
      "100%|██████████| 6/6 [00:01<00:00,  3.22it/s]\n"
     ]
    },
    {
     "name": "stdout",
     "output_type": "stream",
     "text": [
      "Train Loss: 0.1283223668452104\n",
      "Train Acc (696): 96.26436781609195%\n",
      "------Weighted------\n",
      "Weighted precision: 0.9624\n",
      "Weighted recall: 0.9626\n",
      "Weighted f1-score: 0.9624\n",
      "------Macro------\n",
      "Macro precision: 0.9580\n",
      "Macro recall: 0.9448\n",
      "Macro f1-score: 0.9511\n"
     ]
    },
    {
     "name": "stderr",
     "output_type": "stream",
     "text": [
      "100%|██████████| 1/1 [00:00<00:00, 13.07it/s]\n"
     ]
    },
    {
     "name": "stdout",
     "output_type": "stream",
     "text": [
      "Val Loss: 0.2522606415843964\n",
      "Val Acc (37): 89.1891891891892%\n",
      "------Weighted------\n",
      "Weighted precision: 0.9058\n",
      "Weighted recall: 0.8919\n",
      "Weighted f1-score: 0.8821\n",
      "------Macro------\n",
      "Macro precision: 0.9355\n",
      "Macro recall: 0.8000\n",
      "Macro f1-score: 0.8405\n",
      "Training Loss: 0.1283223668452104, Training Accuracy: 96.26436781609195%\n",
      "Validation Loss: 0.2522606415843964, Validation Accuracy: 89.1891891891892%\n",
      "|0.13502393188238146 - 0.1283223668452104| < 0.07\n",
      "new rng\n",
      "Epoch 65/100\n"
     ]
    },
    {
     "name": "stderr",
     "output_type": "stream",
     "text": [
      "100%|██████████| 6/6 [00:01<00:00,  3.13it/s]\n"
     ]
    },
    {
     "name": "stdout",
     "output_type": "stream",
     "text": [
      "Train Loss: 0.12622166571180027\n",
      "Train Acc (696): 96.26436781609195%\n",
      "------Weighted------\n",
      "Weighted precision: 0.9627\n",
      "Weighted recall: 0.9626\n",
      "Weighted f1-score: 0.9622\n",
      "------Macro------\n",
      "Macro precision: 0.9633\n",
      "Macro recall: 0.9395\n",
      "Macro f1-score: 0.9506\n"
     ]
    },
    {
     "name": "stderr",
     "output_type": "stream",
     "text": [
      "100%|██████████| 1/1 [00:00<00:00, 13.68it/s]\n"
     ]
    },
    {
     "name": "stdout",
     "output_type": "stream",
     "text": [
      "Val Loss: 0.25227545333862306\n",
      "Val Acc (37): 89.1891891891892%\n",
      "------Weighted------\n",
      "Weighted precision: 0.9058\n",
      "Weighted recall: 0.8919\n",
      "Weighted f1-score: 0.8821\n",
      "------Macro------\n",
      "Macro precision: 0.9355\n",
      "Macro recall: 0.8000\n",
      "Macro f1-score: 0.8405\n",
      "Training Loss: 0.12622166571180027, Training Accuracy: 96.26436781609195%\n",
      "Validation Loss: 0.25227545333862306, Validation Accuracy: 89.1891891891892%\n",
      "|0.1283223668452104 - 0.12622166571180027| < 0.07\n",
      "new rng\n",
      "Epoch 66/100\n"
     ]
    },
    {
     "name": "stderr",
     "output_type": "stream",
     "text": [
      "100%|██████████| 6/6 [00:01<00:00,  3.20it/s]\n"
     ]
    },
    {
     "name": "stdout",
     "output_type": "stream",
     "text": [
      "Train Loss: 0.14539176247676214\n",
      "Train Acc (696): 94.25287356321839%\n",
      "------Weighted------\n",
      "Weighted precision: 0.9420\n",
      "Weighted recall: 0.9425\n",
      "Weighted f1-score: 0.9419\n",
      "------Macro------\n",
      "Macro precision: 0.9343\n",
      "Macro recall: 0.9153\n",
      "Macro f1-score: 0.9242\n"
     ]
    },
    {
     "name": "stderr",
     "output_type": "stream",
     "text": [
      "100%|██████████| 1/1 [00:00<00:00, 13.65it/s]\n"
     ]
    },
    {
     "name": "stdout",
     "output_type": "stream",
     "text": [
      "Val Loss: 0.2520915134048462\n",
      "Val Acc (37): 89.1891891891892%\n",
      "------Weighted------\n",
      "Weighted precision: 0.9058\n",
      "Weighted recall: 0.8919\n",
      "Weighted f1-score: 0.8821\n",
      "------Macro------\n",
      "Macro precision: 0.9355\n",
      "Macro recall: 0.8000\n",
      "Macro f1-score: 0.8405\n",
      "Training Loss: 0.14539176247676214, Training Accuracy: 94.25287356321839%\n",
      "Validation Loss: 0.2520915134048462, Validation Accuracy: 89.1891891891892%\n",
      "|0.12622166571180027 - 0.14539176247676214| < 0.07\n",
      "new rng\n",
      "Epoch 67/100\n"
     ]
    },
    {
     "name": "stderr",
     "output_type": "stream",
     "text": [
      "100%|██████████| 6/6 [00:01<00:00,  3.07it/s]\n"
     ]
    },
    {
     "name": "stdout",
     "output_type": "stream",
     "text": [
      "Train Loss: 0.1365714770770073\n",
      "Train Acc (696): 94.97126436781609%\n",
      "------Weighted------\n",
      "Weighted precision: 0.9493\n",
      "Weighted recall: 0.9497\n",
      "Weighted f1-score: 0.9492\n",
      "------Macro------\n",
      "Macro precision: 0.9432\n",
      "Macro recall: 0.9255\n",
      "Macro f1-score: 0.9338\n"
     ]
    },
    {
     "name": "stderr",
     "output_type": "stream",
     "text": [
      "100%|██████████| 1/1 [00:00<00:00,  8.43it/s]\n"
     ]
    },
    {
     "name": "stdout",
     "output_type": "stream",
     "text": [
      "Val Loss: 0.2526239318943024\n",
      "Val Acc (37): 89.1891891891892%\n",
      "------Weighted------\n",
      "Weighted precision: 0.9058\n",
      "Weighted recall: 0.8919\n",
      "Weighted f1-score: 0.8821\n",
      "------Macro------\n",
      "Macro precision: 0.9355\n",
      "Macro recall: 0.8000\n",
      "Macro f1-score: 0.8405\n",
      "Training Loss: 0.1365714770770073, Training Accuracy: 94.97126436781609%\n",
      "Validation Loss: 0.2526239318943024, Validation Accuracy: 89.1891891891892%\n",
      "|0.14539176247676214 - 0.1365714770770073| < 0.07\n",
      "new rng\n",
      "Epoch 68/100\n"
     ]
    },
    {
     "name": "stderr",
     "output_type": "stream",
     "text": [
      "100%|██████████| 6/6 [00:02<00:00,  2.85it/s]\n"
     ]
    },
    {
     "name": "stdout",
     "output_type": "stream",
     "text": [
      "Train Loss: 0.13164605594833692\n",
      "Train Acc (696): 96.12068965517241%\n",
      "------Weighted------\n",
      "Weighted precision: 0.9613\n",
      "Weighted recall: 0.9612\n",
      "Weighted f1-score: 0.9607\n",
      "------Macro------\n",
      "Macro precision: 0.9623\n",
      "Macro recall: 0.9368\n",
      "Macro f1-score: 0.9486\n"
     ]
    },
    {
     "name": "stderr",
     "output_type": "stream",
     "text": [
      "100%|██████████| 1/1 [00:00<00:00, 11.13it/s]\n"
     ]
    },
    {
     "name": "stdout",
     "output_type": "stream",
     "text": [
      "Val Loss: 0.2515153451061249\n",
      "Val Acc (37): 89.1891891891892%\n",
      "------Weighted------\n",
      "Weighted precision: 0.9058\n",
      "Weighted recall: 0.8919\n",
      "Weighted f1-score: 0.8821\n",
      "------Macro------\n",
      "Macro precision: 0.9355\n",
      "Macro recall: 0.8000\n",
      "Macro f1-score: 0.8405\n",
      "Training Loss: 0.13164605594833692, Training Accuracy: 96.12068965517241%\n",
      "Validation Loss: 0.2515153451061249, Validation Accuracy: 89.1891891891892%\n",
      "|0.1365714770770073 - 0.13164605594833692| < 0.07\n",
      "new rng\n",
      "Epoch 69/100\n"
     ]
    },
    {
     "name": "stderr",
     "output_type": "stream",
     "text": [
      "100%|██████████| 6/6 [00:02<00:00,  2.92it/s]\n"
     ]
    },
    {
     "name": "stdout",
     "output_type": "stream",
     "text": [
      "Train Loss: 0.1431066420888901\n",
      "Train Acc (696): 94.683908045977%\n",
      "------Weighted------\n",
      "Weighted precision: 0.9468\n",
      "Weighted recall: 0.9468\n",
      "Weighted f1-score: 0.9459\n",
      "------Macro------\n",
      "Macro precision: 0.9462\n",
      "Macro recall: 0.9147\n",
      "Macro f1-score: 0.9290\n"
     ]
    },
    {
     "name": "stderr",
     "output_type": "stream",
     "text": [
      "100%|██████████| 1/1 [00:00<00:00, 10.29it/s]\n"
     ]
    },
    {
     "name": "stdout",
     "output_type": "stream",
     "text": [
      "Val Loss: 0.2505561573600769\n",
      "Val Acc (37): 89.1891891891892%\n",
      "------Weighted------\n",
      "Weighted precision: 0.9058\n",
      "Weighted recall: 0.8919\n",
      "Weighted f1-score: 0.8821\n",
      "------Macro------\n",
      "Macro precision: 0.9355\n",
      "Macro recall: 0.8000\n",
      "Macro f1-score: 0.8405\n",
      "Training Loss: 0.1431066420888901, Training Accuracy: 94.683908045977%\n",
      "Validation Loss: 0.2505561573600769, Validation Accuracy: 89.1891891891892%\n",
      "|0.13164605594833692 - 0.1431066420888901| < 0.07\n",
      "new rng\n",
      "Epoch 70/100\n"
     ]
    },
    {
     "name": "stderr",
     "output_type": "stream",
     "text": [
      "100%|██████████| 6/6 [00:01<00:00,  3.09it/s]\n"
     ]
    },
    {
     "name": "stdout",
     "output_type": "stream",
     "text": [
      "Train Loss: 0.14378929036021235\n",
      "Train Acc (696): 95.6896551724138%\n",
      "------Weighted------\n",
      "Weighted precision: 0.9571\n",
      "Weighted recall: 0.9569\n",
      "Weighted f1-score: 0.9562\n",
      "------Macro------\n",
      "Macro precision: 0.9592\n",
      "Macro recall: 0.9286\n",
      "Macro f1-score: 0.9425\n"
     ]
    },
    {
     "name": "stderr",
     "output_type": "stream",
     "text": [
      "100%|██████████| 1/1 [00:00<00:00,  9.18it/s]\n"
     ]
    },
    {
     "name": "stdout",
     "output_type": "stream",
     "text": [
      "Val Loss: 0.25054885579109193\n",
      "Val Acc (37): 89.1891891891892%\n",
      "------Weighted------\n",
      "Weighted precision: 0.9058\n",
      "Weighted recall: 0.8919\n",
      "Weighted f1-score: 0.8821\n",
      "------Macro------\n",
      "Macro precision: 0.9355\n",
      "Macro recall: 0.8000\n",
      "Macro f1-score: 0.8405\n",
      "Training Loss: 0.14378929036021235, Training Accuracy: 95.6896551724138%\n",
      "Validation Loss: 0.25054885579109193, Validation Accuracy: 89.1891891891892%\n",
      "|0.1431066420888901 - 0.14378929036021235| < 0.07\n",
      "new rng\n",
      "Epoch 71/100\n"
     ]
    },
    {
     "name": "stderr",
     "output_type": "stream",
     "text": [
      "100%|██████████| 6/6 [00:01<00:00,  3.22it/s]\n"
     ]
    },
    {
     "name": "stdout",
     "output_type": "stream",
     "text": [
      "Train Loss: 0.12345621632695199\n",
      "Train Acc (696): 96.26436781609195%\n",
      "------Weighted------\n",
      "Weighted precision: 0.9631\n",
      "Weighted recall: 0.9626\n",
      "Weighted f1-score: 0.9620\n",
      "------Macro------\n",
      "Macro precision: 0.9672\n",
      "Macro recall: 0.9360\n",
      "Macro f1-score: 0.9502\n"
     ]
    },
    {
     "name": "stderr",
     "output_type": "stream",
     "text": [
      "100%|██████████| 1/1 [00:00<00:00, 11.33it/s]\n"
     ]
    },
    {
     "name": "stdout",
     "output_type": "stream",
     "text": [
      "Val Loss: 0.2505663795566559\n",
      "Val Acc (37): 89.1891891891892%\n",
      "------Weighted------\n",
      "Weighted precision: 0.9058\n",
      "Weighted recall: 0.8919\n",
      "Weighted f1-score: 0.8821\n",
      "------Macro------\n",
      "Macro precision: 0.9355\n",
      "Macro recall: 0.8000\n",
      "Macro f1-score: 0.8405\n",
      "Training Loss: 0.12345621632695199, Training Accuracy: 96.26436781609195%\n",
      "Validation Loss: 0.2505663795566559, Validation Accuracy: 89.1891891891892%\n",
      "|0.14378929036021235 - 0.12345621632695199| < 0.07\n",
      "new rng\n",
      "Epoch 72/100\n"
     ]
    },
    {
     "name": "stderr",
     "output_type": "stream",
     "text": [
      "100%|██████████| 6/6 [00:01<00:00,  3.20it/s]\n"
     ]
    },
    {
     "name": "stdout",
     "output_type": "stream",
     "text": [
      "Train Loss: 0.12650222104946773\n",
      "Train Acc (696): 95.6896551724138%\n",
      "------Weighted------\n",
      "Weighted precision: 0.9566\n",
      "Weighted recall: 0.9569\n",
      "Weighted f1-score: 0.9566\n",
      "------Macro------\n",
      "Macro precision: 0.9503\n",
      "Macro recall: 0.9374\n",
      "Macro f1-score: 0.9436\n"
     ]
    },
    {
     "name": "stderr",
     "output_type": "stream",
     "text": [
      "100%|██████████| 1/1 [00:00<00:00, 10.16it/s]\n"
     ]
    },
    {
     "name": "stdout",
     "output_type": "stream",
     "text": [
      "Val Loss: 0.2504598362541199\n",
      "Val Acc (37): 89.1891891891892%\n",
      "------Weighted------\n",
      "Weighted precision: 0.9058\n",
      "Weighted recall: 0.8919\n",
      "Weighted f1-score: 0.8821\n",
      "------Macro------\n",
      "Macro precision: 0.9355\n",
      "Macro recall: 0.8000\n",
      "Macro f1-score: 0.8405\n",
      "Training Loss: 0.12650222104946773, Training Accuracy: 95.6896551724138%\n",
      "Validation Loss: 0.2504598362541199, Validation Accuracy: 89.1891891891892%\n",
      "|0.12345621632695199 - 0.12650222104946773| < 0.07\n",
      "new rng\n",
      "Epoch 73/100\n"
     ]
    },
    {
     "name": "stderr",
     "output_type": "stream",
     "text": [
      "100%|██████████| 6/6 [00:01<00:00,  3.22it/s]\n"
     ]
    },
    {
     "name": "stdout",
     "output_type": "stream",
     "text": [
      "Train Loss: 0.12522780793070795\n",
      "Train Acc (696): 95.83333333333333%\n",
      "------Weighted------\n",
      "Weighted precision: 0.9581\n",
      "Weighted recall: 0.9583\n",
      "Weighted f1-score: 0.9579\n",
      "------Macro------\n",
      "Macro precision: 0.9548\n",
      "Macro recall: 0.9366\n",
      "Macro f1-score: 0.9452\n"
     ]
    },
    {
     "name": "stderr",
     "output_type": "stream",
     "text": [
      "100%|██████████| 1/1 [00:00<00:00, 12.41it/s]\n"
     ]
    },
    {
     "name": "stdout",
     "output_type": "stream",
     "text": [
      "Val Loss: 0.25184260440826417\n",
      "Val Acc (37): 89.1891891891892%\n",
      "------Weighted------\n",
      "Weighted precision: 0.9058\n",
      "Weighted recall: 0.8919\n",
      "Weighted f1-score: 0.8821\n",
      "------Macro------\n",
      "Macro precision: 0.9355\n",
      "Macro recall: 0.8000\n",
      "Macro f1-score: 0.8405\n",
      "Training Loss: 0.12522780793070795, Training Accuracy: 95.83333333333333%\n",
      "Validation Loss: 0.25184260440826417, Validation Accuracy: 89.1891891891892%\n",
      "|0.12650222104946773 - 0.12522780793070795| < 0.07\n",
      "new rng\n",
      "Epoch 74/100\n"
     ]
    },
    {
     "name": "stderr",
     "output_type": "stream",
     "text": [
      "100%|██████████| 6/6 [00:01<00:00,  3.28it/s]\n"
     ]
    },
    {
     "name": "stdout",
     "output_type": "stream",
     "text": [
      "Train Loss: 0.15208276134888332\n",
      "Train Acc (696): 94.97126436781609%\n",
      "------Weighted------\n",
      "Weighted precision: 0.9495\n",
      "Weighted recall: 0.9497\n",
      "Weighted f1-score: 0.9490\n",
      "------Macro------\n",
      "Macro precision: 0.9466\n",
      "Macro recall: 0.9219\n",
      "Macro f1-score: 0.9333\n"
     ]
    },
    {
     "name": "stderr",
     "output_type": "stream",
     "text": [
      "100%|██████████| 1/1 [00:00<00:00, 11.66it/s]\n"
     ]
    },
    {
     "name": "stdout",
     "output_type": "stream",
     "text": [
      "Val Loss: 0.2509547932243347\n",
      "Val Acc (37): 89.1891891891892%\n",
      "------Weighted------\n",
      "Weighted precision: 0.9058\n",
      "Weighted recall: 0.8919\n",
      "Weighted f1-score: 0.8821\n",
      "------Macro------\n",
      "Macro precision: 0.9355\n",
      "Macro recall: 0.8000\n",
      "Macro f1-score: 0.8405\n",
      "Training Loss: 0.15208276134888332, Training Accuracy: 94.97126436781609%\n",
      "Validation Loss: 0.2509547932243347, Validation Accuracy: 89.1891891891892%\n",
      "|0.12522780793070795 - 0.15208276134888332| < 0.07\n",
      "new rng\n",
      "Epoch 75/100\n"
     ]
    },
    {
     "name": "stderr",
     "output_type": "stream",
     "text": [
      "100%|██████████| 6/6 [00:01<00:00,  3.19it/s]\n"
     ]
    },
    {
     "name": "stdout",
     "output_type": "stream",
     "text": [
      "Train Loss: 0.12280307235479355\n",
      "Train Acc (696): 96.55172413793103%\n",
      "------Weighted------\n",
      "Weighted precision: 0.9656\n",
      "Weighted recall: 0.9655\n",
      "Weighted f1-score: 0.9651\n",
      "------Macro------\n",
      "Macro precision: 0.9672\n",
      "Macro recall: 0.9432\n",
      "Macro f1-score: 0.9544\n"
     ]
    },
    {
     "name": "stderr",
     "output_type": "stream",
     "text": [
      "100%|██████████| 1/1 [00:00<00:00, 13.31it/s]\n"
     ]
    },
    {
     "name": "stdout",
     "output_type": "stream",
     "text": [
      "Val Loss: 0.25097270442008973\n",
      "Val Acc (37): 89.1891891891892%\n",
      "------Weighted------\n",
      "Weighted precision: 0.9058\n",
      "Weighted recall: 0.8919\n",
      "Weighted f1-score: 0.8821\n",
      "------Macro------\n",
      "Macro precision: 0.9355\n",
      "Macro recall: 0.8000\n",
      "Macro f1-score: 0.8405\n",
      "Training Loss: 0.12280307235479355, Training Accuracy: 96.55172413793103%\n",
      "Validation Loss: 0.25097270442008973, Validation Accuracy: 89.1891891891892%\n",
      "|0.15208276134888332 - 0.12280307235479355| < 0.07\n",
      "new rng\n",
      "Epoch 76/100\n"
     ]
    },
    {
     "name": "stderr",
     "output_type": "stream",
     "text": [
      "100%|██████████| 6/6 [00:01<00:00,  3.19it/s]\n"
     ]
    },
    {
     "name": "stdout",
     "output_type": "stream",
     "text": [
      "Train Loss: 0.12670627879261973\n",
      "Train Acc (696): 95.6896551724138%\n",
      "------Weighted------\n",
      "Weighted precision: 0.9567\n",
      "Weighted recall: 0.9569\n",
      "Weighted f1-score: 0.9564\n",
      "------Macro------\n",
      "Macro precision: 0.9537\n",
      "Macro recall: 0.9339\n",
      "Macro f1-score: 0.9432\n"
     ]
    },
    {
     "name": "stderr",
     "output_type": "stream",
     "text": [
      "100%|██████████| 1/1 [00:00<00:00, 13.16it/s]\n"
     ]
    },
    {
     "name": "stdout",
     "output_type": "stream",
     "text": [
      "Val Loss: 0.25103218985557557\n",
      "Val Acc (37): 89.1891891891892%\n",
      "------Weighted------\n",
      "Weighted precision: 0.9058\n",
      "Weighted recall: 0.8919\n",
      "Weighted f1-score: 0.8821\n",
      "------Macro------\n",
      "Macro precision: 0.9355\n",
      "Macro recall: 0.8000\n",
      "Macro f1-score: 0.8405\n",
      "Training Loss: 0.12670627879261973, Training Accuracy: 95.6896551724138%\n",
      "Validation Loss: 0.25103218985557557, Validation Accuracy: 89.1891891891892%\n",
      "|0.12280307235479355 - 0.12670627879261973| < 0.07\n",
      "new rng\n",
      "Epoch 77/100\n"
     ]
    },
    {
     "name": "stderr",
     "output_type": "stream",
     "text": [
      "100%|██████████| 6/6 [00:01<00:00,  3.17it/s]\n"
     ]
    },
    {
     "name": "stdout",
     "output_type": "stream",
     "text": [
      "Train Loss: 0.15308564675013225\n",
      "Train Acc (696): 94.683908045977%\n",
      "------Weighted------\n",
      "Weighted precision: 0.9470\n",
      "Weighted recall: 0.9468\n",
      "Weighted f1-score: 0.9458\n",
      "------Macro------\n",
      "Macro precision: 0.9482\n",
      "Macro recall: 0.9130\n",
      "Macro f1-score: 0.9287\n"
     ]
    },
    {
     "name": "stderr",
     "output_type": "stream",
     "text": [
      "100%|██████████| 1/1 [00:00<00:00, 11.20it/s]\n"
     ]
    },
    {
     "name": "stdout",
     "output_type": "stream",
     "text": [
      "Val Loss: 0.25031553340911866\n",
      "Val Acc (37): 89.1891891891892%\n",
      "------Weighted------\n",
      "Weighted precision: 0.9058\n",
      "Weighted recall: 0.8919\n",
      "Weighted f1-score: 0.8821\n",
      "------Macro------\n",
      "Macro precision: 0.9355\n",
      "Macro recall: 0.8000\n",
      "Macro f1-score: 0.8405\n",
      "Training Loss: 0.15308564675013225, Training Accuracy: 94.683908045977%\n",
      "Validation Loss: 0.25031553340911866, Validation Accuracy: 89.1891891891892%\n",
      "|0.12670627879261973 - 0.15308564675013225| < 0.07\n",
      "new rng\n",
      "Epoch 78/100\n"
     ]
    },
    {
     "name": "stderr",
     "output_type": "stream",
     "text": [
      "100%|██████████| 6/6 [00:01<00:00,  3.22it/s]\n"
     ]
    },
    {
     "name": "stdout",
     "output_type": "stream",
     "text": [
      "Train Loss: 0.1443346219476064\n",
      "Train Acc (696): 95.97701149425288%\n",
      "------Weighted------\n",
      "Weighted precision: 0.9595\n",
      "Weighted recall: 0.9598\n",
      "Weighted f1-score: 0.9595\n",
      "------Macro------\n",
      "Macro precision: 0.9542\n",
      "Macro recall: 0.9411\n",
      "Macro f1-score: 0.9474\n"
     ]
    },
    {
     "name": "stderr",
     "output_type": "stream",
     "text": [
      "100%|██████████| 1/1 [00:00<00:00, 13.78it/s]\n"
     ]
    },
    {
     "name": "stdout",
     "output_type": "stream",
     "text": [
      "Val Loss: 0.2504857344722748\n",
      "Val Acc (37): 89.1891891891892%\n",
      "------Weighted------\n",
      "Weighted precision: 0.9058\n",
      "Weighted recall: 0.8919\n",
      "Weighted f1-score: 0.8821\n",
      "------Macro------\n",
      "Macro precision: 0.9355\n",
      "Macro recall: 0.8000\n",
      "Macro f1-score: 0.8405\n",
      "Training Loss: 0.1443346219476064, Training Accuracy: 95.97701149425288%\n",
      "Validation Loss: 0.2504857344722748, Validation Accuracy: 89.1891891891892%\n",
      "|0.15308564675013225 - 0.1443346219476064| < 0.07\n",
      "new rng\n",
      "Epoch 79/100\n"
     ]
    },
    {
     "name": "stderr",
     "output_type": "stream",
     "text": [
      "100%|██████████| 6/6 [00:01<00:00,  3.20it/s]\n"
     ]
    },
    {
     "name": "stdout",
     "output_type": "stream",
     "text": [
      "Train Loss: 0.1345128146028519\n",
      "Train Acc (696): 95.40229885057471%\n",
      "------Weighted------\n",
      "Weighted precision: 0.9544\n",
      "Weighted recall: 0.9540\n",
      "Weighted f1-score: 0.9531\n",
      "------Macro------\n",
      "Macro precision: 0.9572\n",
      "Macro recall: 0.9231\n",
      "Macro f1-score: 0.9385\n"
     ]
    },
    {
     "name": "stderr",
     "output_type": "stream",
     "text": [
      "100%|██████████| 1/1 [00:00<00:00, 12.49it/s]\n"
     ]
    },
    {
     "name": "stdout",
     "output_type": "stream",
     "text": [
      "Val Loss: 0.2510524256324768\n",
      "Val Acc (37): 89.1891891891892%\n",
      "------Weighted------\n",
      "Weighted precision: 0.9058\n",
      "Weighted recall: 0.8919\n",
      "Weighted f1-score: 0.8821\n",
      "------Macro------\n",
      "Macro precision: 0.9355\n",
      "Macro recall: 0.8000\n",
      "Macro f1-score: 0.8405\n",
      "Training Loss: 0.1345128146028519, Training Accuracy: 95.40229885057471%\n",
      "Validation Loss: 0.2510524256324768, Validation Accuracy: 89.1891891891892%\n",
      "|0.1443346219476064 - 0.1345128146028519| < 0.07\n",
      "new rng\n",
      "Epoch 80/100\n"
     ]
    },
    {
     "name": "stderr",
     "output_type": "stream",
     "text": [
      "100%|██████████| 6/6 [00:01<00:00,  3.12it/s]\n"
     ]
    },
    {
     "name": "stdout",
     "output_type": "stream",
     "text": [
      "Train Loss: 0.12526066002408665\n",
      "Train Acc (696): 96.26436781609195%\n",
      "------Weighted------\n",
      "Weighted precision: 0.9626\n",
      "Weighted recall: 0.9626\n",
      "Weighted f1-score: 0.9622\n",
      "------Macro------\n",
      "Macro precision: 0.9614\n",
      "Macro recall: 0.9413\n",
      "Macro f1-score: 0.9508\n"
     ]
    },
    {
     "name": "stderr",
     "output_type": "stream",
     "text": [
      "100%|██████████| 1/1 [00:00<00:00, 12.87it/s]\n"
     ]
    },
    {
     "name": "stdout",
     "output_type": "stream",
     "text": [
      "Val Loss: 0.24944383038043977\n",
      "Val Acc (37): 89.1891891891892%\n",
      "------Weighted------\n",
      "Weighted precision: 0.9058\n",
      "Weighted recall: 0.8919\n",
      "Weighted f1-score: 0.8821\n",
      "------Macro------\n",
      "Macro precision: 0.9355\n",
      "Macro recall: 0.8000\n",
      "Macro f1-score: 0.8405\n",
      "Training Loss: 0.12526066002408665, Training Accuracy: 96.26436781609195%\n",
      "Validation Loss: 0.24944383038043977, Validation Accuracy: 89.1891891891892%\n",
      "|0.1345128146028519 - 0.12526066002408665| < 0.07\n",
      "new rng\n",
      "Epoch 81/100\n"
     ]
    },
    {
     "name": "stderr",
     "output_type": "stream",
     "text": [
      "100%|██████████| 6/6 [00:01<00:00,  3.26it/s]\n"
     ]
    },
    {
     "name": "stdout",
     "output_type": "stream",
     "text": [
      "Train Loss: 0.1298326194004218\n",
      "Train Acc (696): 95.54597701149426%\n",
      "------Weighted------\n",
      "Weighted precision: 0.9560\n",
      "Weighted recall: 0.9555\n",
      "Weighted f1-score: 0.9546\n",
      "------Macro------\n",
      "Macro precision: 0.9602\n",
      "Macro recall: 0.9241\n",
      "Macro f1-score: 0.9403\n"
     ]
    },
    {
     "name": "stderr",
     "output_type": "stream",
     "text": [
      "100%|██████████| 1/1 [00:00<00:00, 14.77it/s]\n"
     ]
    },
    {
     "name": "stdout",
     "output_type": "stream",
     "text": [
      "Val Loss: 0.24859178198337556\n",
      "Val Acc (37): 89.1891891891892%\n",
      "------Weighted------\n",
      "Weighted precision: 0.9058\n",
      "Weighted recall: 0.8919\n",
      "Weighted f1-score: 0.8821\n",
      "------Macro------\n",
      "Macro precision: 0.9355\n",
      "Macro recall: 0.8000\n",
      "Macro f1-score: 0.8405\n",
      "Training Loss: 0.1298326194004218, Training Accuracy: 95.54597701149426%\n",
      "Validation Loss: 0.24859178198337556, Validation Accuracy: 89.1891891891892%\n",
      "|0.12526066002408665 - 0.1298326194004218| < 0.07\n",
      "new rng\n",
      "Epoch 82/100\n"
     ]
    },
    {
     "name": "stderr",
     "output_type": "stream",
     "text": [
      "100%|██████████| 6/6 [00:01<00:00,  3.23it/s]\n"
     ]
    },
    {
     "name": "stdout",
     "output_type": "stream",
     "text": [
      "Train Loss: 0.14492712812781336\n",
      "Train Acc (696): 94.82758620689656%\n",
      "------Weighted------\n",
      "Weighted precision: 0.9480\n",
      "Weighted recall: 0.9483\n",
      "Weighted f1-score: 0.9475\n",
      "------Macro------\n",
      "Macro precision: 0.9455\n",
      "Macro recall: 0.9192\n",
      "Macro f1-score: 0.9313\n"
     ]
    },
    {
     "name": "stderr",
     "output_type": "stream",
     "text": [
      "100%|██████████| 1/1 [00:00<00:00, 11.91it/s]\n"
     ]
    },
    {
     "name": "stdout",
     "output_type": "stream",
     "text": [
      "Val Loss: 0.24713572991847993\n",
      "Val Acc (37): 89.1891891891892%\n",
      "------Weighted------\n",
      "Weighted precision: 0.9058\n",
      "Weighted recall: 0.8919\n",
      "Weighted f1-score: 0.8821\n",
      "------Macro------\n",
      "Macro precision: 0.9355\n",
      "Macro recall: 0.8000\n",
      "Macro f1-score: 0.8405\n",
      "Training Loss: 0.14492712812781336, Training Accuracy: 94.82758620689656%\n",
      "Validation Loss: 0.24713572991847993, Validation Accuracy: 89.1891891891892%\n",
      "|0.1298326194004218 - 0.14492712812781336| < 0.07\n",
      "new rng\n",
      "Epoch 83/100\n"
     ]
    },
    {
     "name": "stderr",
     "output_type": "stream",
     "text": [
      "100%|██████████| 6/6 [00:01<00:00,  3.23it/s]\n"
     ]
    },
    {
     "name": "stdout",
     "output_type": "stream",
     "text": [
      "Train Loss: 0.15160149978756907\n",
      "Train Acc (696): 94.39655172413794%\n",
      "------Weighted------\n",
      "Weighted precision: 0.9436\n",
      "Weighted recall: 0.9440\n",
      "Weighted f1-score: 0.9431\n",
      "------Macro------\n",
      "Macro precision: 0.9405\n",
      "Macro recall: 0.9128\n",
      "Macro f1-score: 0.9254\n"
     ]
    },
    {
     "name": "stderr",
     "output_type": "stream",
     "text": [
      "100%|██████████| 1/1 [00:00<00:00, 14.84it/s]\n"
     ]
    },
    {
     "name": "stdout",
     "output_type": "stream",
     "text": [
      "Val Loss: 0.24630572033882142\n",
      "Val Acc (37): 89.1891891891892%\n",
      "------Weighted------\n",
      "Weighted precision: 0.9058\n",
      "Weighted recall: 0.8919\n",
      "Weighted f1-score: 0.8821\n",
      "------Macro------\n",
      "Macro precision: 0.9355\n",
      "Macro recall: 0.8000\n",
      "Macro f1-score: 0.8405\n",
      "Training Loss: 0.15160149978756907, Training Accuracy: 94.39655172413794%\n",
      "Validation Loss: 0.24630572033882142, Validation Accuracy: 89.1891891891892%\n",
      "|0.14492712812781336 - 0.15160149978756907| < 0.07\n",
      "new rng\n",
      "Epoch 84/100\n"
     ]
    },
    {
     "name": "stderr",
     "output_type": "stream",
     "text": [
      "100%|██████████| 6/6 [00:01<00:00,  3.07it/s]\n"
     ]
    },
    {
     "name": "stdout",
     "output_type": "stream",
     "text": [
      "Train Loss: 0.1037595187342167\n",
      "Train Acc (696): 97.27011494252874%\n",
      "------Weighted------\n",
      "Weighted precision: 0.9727\n",
      "Weighted recall: 0.9727\n",
      "Weighted f1-score: 0.9725\n",
      "------Macro------\n",
      "Macro precision: 0.9722\n",
      "Macro recall: 0.9569\n",
      "Macro f1-score: 0.9642\n"
     ]
    },
    {
     "name": "stderr",
     "output_type": "stream",
     "text": [
      "100%|██████████| 1/1 [00:00<00:00, 12.00it/s]\n"
     ]
    },
    {
     "name": "stdout",
     "output_type": "stream",
     "text": [
      "Val Loss: 0.24626334143638612\n",
      "Val Acc (37): 89.1891891891892%\n",
      "------Weighted------\n",
      "Weighted precision: 0.9058\n",
      "Weighted recall: 0.8919\n",
      "Weighted f1-score: 0.8821\n",
      "------Macro------\n",
      "Macro precision: 0.9355\n",
      "Macro recall: 0.8000\n",
      "Macro f1-score: 0.8405\n",
      "Training Loss: 0.1037595187342167, Training Accuracy: 97.27011494252874%\n",
      "Validation Loss: 0.24626334143638612, Validation Accuracy: 89.1891891891892%\n",
      "|0.15160149978756907 - 0.1037595187342167| < 0.07\n",
      "new rng\n",
      "Epoch 85/100\n"
     ]
    },
    {
     "name": "stderr",
     "output_type": "stream",
     "text": [
      "100%|██████████| 6/6 [00:01<00:00,  3.21it/s]\n"
     ]
    },
    {
     "name": "stdout",
     "output_type": "stream",
     "text": [
      "Train Loss: 0.1277465201632182\n",
      "Train Acc (696): 95.25862068965517%\n",
      "------Weighted------\n",
      "Weighted precision: 0.9522\n",
      "Weighted recall: 0.9526\n",
      "Weighted f1-score: 0.9521\n",
      "------Macro------\n",
      "Macro precision: 0.9470\n",
      "Macro recall: 0.9292\n",
      "Macro f1-score: 0.9376\n"
     ]
    },
    {
     "name": "stderr",
     "output_type": "stream",
     "text": [
      "100%|██████████| 1/1 [00:00<00:00, 14.56it/s]\n"
     ]
    },
    {
     "name": "stdout",
     "output_type": "stream",
     "text": [
      "Val Loss: 0.2457266910171509\n",
      "Val Acc (37): 89.1891891891892%\n",
      "------Weighted------\n",
      "Weighted precision: 0.9058\n",
      "Weighted recall: 0.8919\n",
      "Weighted f1-score: 0.8821\n",
      "------Macro------\n",
      "Macro precision: 0.9355\n",
      "Macro recall: 0.8000\n",
      "Macro f1-score: 0.8405\n",
      "Training Loss: 0.1277465201632182, Training Accuracy: 95.25862068965517%\n",
      "Validation Loss: 0.2457266910171509, Validation Accuracy: 89.1891891891892%\n",
      "|0.1037595187342167 - 0.1277465201632182| < 0.07\n",
      "new rng\n",
      "Epoch 86/100\n"
     ]
    },
    {
     "name": "stderr",
     "output_type": "stream",
     "text": [
      "100%|██████████| 6/6 [00:01<00:00,  3.21it/s]\n"
     ]
    },
    {
     "name": "stdout",
     "output_type": "stream",
     "text": [
      "Train Loss: 0.1280917900021871\n",
      "Train Acc (696): 95.25862068965517%\n",
      "------Weighted------\n",
      "Weighted precision: 0.9522\n",
      "Weighted recall: 0.9526\n",
      "Weighted f1-score: 0.9521\n",
      "------Macro------\n",
      "Macro precision: 0.9470\n",
      "Macro recall: 0.9292\n",
      "Macro f1-score: 0.9376\n"
     ]
    },
    {
     "name": "stderr",
     "output_type": "stream",
     "text": [
      "100%|██████████| 1/1 [00:00<00:00, 11.75it/s]\n"
     ]
    },
    {
     "name": "stdout",
     "output_type": "stream",
     "text": [
      "Val Loss: 0.24575968218803407\n",
      "Val Acc (37): 89.1891891891892%\n",
      "------Weighted------\n",
      "Weighted precision: 0.9058\n",
      "Weighted recall: 0.8919\n",
      "Weighted f1-score: 0.8821\n",
      "------Macro------\n",
      "Macro precision: 0.9355\n",
      "Macro recall: 0.8000\n",
      "Macro f1-score: 0.8405\n",
      "Training Loss: 0.1280917900021871, Training Accuracy: 95.25862068965517%\n",
      "Validation Loss: 0.24575968218803407, Validation Accuracy: 89.1891891891892%\n",
      "|0.1277465201632182 - 0.1280917900021871| < 0.07\n",
      "new rng\n",
      "Epoch 87/100\n"
     ]
    },
    {
     "name": "stderr",
     "output_type": "stream",
     "text": [
      "100%|██████████| 6/6 [00:01<00:00,  3.26it/s]\n"
     ]
    },
    {
     "name": "stdout",
     "output_type": "stream",
     "text": [
      "Train Loss: 0.1201555544849237\n",
      "Train Acc (696): 96.4080459770115%\n",
      "------Weighted------\n",
      "Weighted precision: 0.9643\n",
      "Weighted recall: 0.9641\n",
      "Weighted f1-score: 0.9636\n",
      "------Macro------\n",
      "Macro precision: 0.9662\n",
      "Macro recall: 0.9405\n",
      "Macro f1-score: 0.9524\n"
     ]
    },
    {
     "name": "stderr",
     "output_type": "stream",
     "text": [
      "100%|██████████| 1/1 [00:00<00:00, 15.03it/s]\n"
     ]
    },
    {
     "name": "stdout",
     "output_type": "stream",
     "text": [
      "Val Loss: 0.24548925591468812\n",
      "Val Acc (37): 89.1891891891892%\n",
      "------Weighted------\n",
      "Weighted precision: 0.9058\n",
      "Weighted recall: 0.8919\n",
      "Weighted f1-score: 0.8821\n",
      "------Macro------\n",
      "Macro precision: 0.9355\n",
      "Macro recall: 0.8000\n",
      "Macro f1-score: 0.8405\n",
      "Training Loss: 0.1201555544849237, Training Accuracy: 96.4080459770115%\n",
      "Validation Loss: 0.24548925591468812, Validation Accuracy: 89.1891891891892%\n",
      "|0.1280917900021871 - 0.1201555544849237| < 0.07\n",
      "new rng\n",
      "Epoch 88/100\n"
     ]
    },
    {
     "name": "stderr",
     "output_type": "stream",
     "text": [
      "100%|██████████| 6/6 [00:01<00:00,  3.21it/s]\n"
     ]
    },
    {
     "name": "stdout",
     "output_type": "stream",
     "text": [
      "Train Loss: 0.13371637982288997\n",
      "Train Acc (696): 95.25862068965517%\n",
      "------Weighted------\n",
      "Weighted precision: 0.9523\n",
      "Weighted recall: 0.9526\n",
      "Weighted f1-score: 0.9520\n",
      "------Macro------\n",
      "Macro precision: 0.9487\n",
      "Macro recall: 0.9274\n"
     ]
    },
    {
     "ename": "KeyboardInterrupt",
     "evalue": "",
     "output_type": "error",
     "traceback": [
      "\u001b[1;31m---------------------------------------------------------------------------\u001b[0m",
      "\u001b[1;31mKeyboardInterrupt\u001b[0m                         Traceback (most recent call last)",
      "Cell \u001b[1;32mIn[10], line 172\u001b[0m\n\u001b[0;32m    170\u001b[0m settings\u001b[38;5;241m.\u001b[39mstep(train_loss)\n\u001b[0;32m    171\u001b[0m \u001b[38;5;28mprint\u001b[39m(\u001b[38;5;124mf\u001b[39m\u001b[38;5;124m'\u001b[39m\u001b[38;5;124mEpoch \u001b[39m\u001b[38;5;132;01m{\u001b[39;00mepoch\u001b[38;5;250m \u001b[39m\u001b[38;5;241m+\u001b[39m\u001b[38;5;250m \u001b[39m\u001b[38;5;241m1\u001b[39m\u001b[38;5;132;01m}\u001b[39;00m\u001b[38;5;124m/\u001b[39m\u001b[38;5;132;01m{\u001b[39;00mnum_epochs\u001b[38;5;132;01m}\u001b[39;00m\u001b[38;5;124m'\u001b[39m)\n\u001b[1;32m--> 172\u001b[0m train_loss, train_acc \u001b[38;5;241m=\u001b[39m \u001b[43mtrain\u001b[49m\u001b[43m(\u001b[49m\u001b[43m)\u001b[49m\n\u001b[0;32m    173\u001b[0m val_loss, val_acc, _, _ \u001b[38;5;241m=\u001b[39m val()\n\u001b[0;32m    174\u001b[0m scheduler\u001b[38;5;241m.\u001b[39mstep()\n",
      "Cell \u001b[1;32mIn[10], line 80\u001b[0m, in \u001b[0;36mtrain\u001b[1;34m()\u001b[0m\n\u001b[0;32m     78\u001b[0m \u001b[38;5;28mprint\u001b[39m(\u001b[38;5;124mf\u001b[39m\u001b[38;5;124m'\u001b[39m\u001b[38;5;124mTrain Loss: \u001b[39m\u001b[38;5;132;01m{\u001b[39;00mloss\u001b[38;5;132;01m}\u001b[39;00m\u001b[38;5;124m'\u001b[39m)\n\u001b[0;32m     79\u001b[0m \u001b[38;5;28mprint\u001b[39m(\u001b[38;5;124mf\u001b[39m\u001b[38;5;124m'\u001b[39m\u001b[38;5;124mTrain Acc (\u001b[39m\u001b[38;5;132;01m{\u001b[39;00mtotal\u001b[38;5;132;01m}\u001b[39;00m\u001b[38;5;124m): \u001b[39m\u001b[38;5;132;01m{\u001b[39;00mtrain_acc\u001b[38;5;132;01m}\u001b[39;00m\u001b[38;5;124m%\u001b[39m\u001b[38;5;124m'\u001b[39m)\n\u001b[1;32m---> 80\u001b[0m \u001b[43mprint_score\u001b[49m\u001b[43m(\u001b[49m\u001b[43my_total\u001b[49m\u001b[38;5;241;43m.\u001b[39;49m\u001b[43mflatten\u001b[49m\u001b[43m(\u001b[49m\u001b[43m)\u001b[49m\u001b[38;5;241;43m.\u001b[39;49m\u001b[43mcpu\u001b[49m\u001b[43m(\u001b[49m\u001b[43m)\u001b[49m\u001b[43m,\u001b[49m\u001b[43m \u001b[49m\u001b[43mpred_total\u001b[49m\u001b[38;5;241;43m.\u001b[39;49m\u001b[43mflatten\u001b[49m\u001b[43m(\u001b[49m\u001b[43m)\u001b[49m\u001b[38;5;241;43m.\u001b[39;49m\u001b[43mcpu\u001b[49m\u001b[43m(\u001b[49m\u001b[43m)\u001b[49m\u001b[43m)\u001b[49m\n\u001b[0;32m     81\u001b[0m \u001b[38;5;28;01mreturn\u001b[39;00m loss, train_acc\n",
      "Cell \u001b[1;32mIn[10], line 10\u001b[0m, in \u001b[0;36mprint_score\u001b[1;34m(y_true, y_pred)\u001b[0m\n\u001b[0;32m      8\u001b[0m tqdm\u001b[38;5;241m.\u001b[39mwrite(\u001b[38;5;124mf\u001b[39m\u001b[38;5;124m'\u001b[39m\u001b[38;5;124mMacro precision: \u001b[39m\u001b[38;5;132;01m{\u001b[39;00mprecision_score(y_true,\u001b[38;5;250m \u001b[39my_pred,\u001b[38;5;250m \u001b[39maverage\u001b[38;5;241m=\u001b[39m\u001b[38;5;124m\"\u001b[39m\u001b[38;5;124mmacro\u001b[39m\u001b[38;5;124m\"\u001b[39m)\u001b[38;5;132;01m:\u001b[39;00m\u001b[38;5;124m.4f\u001b[39m\u001b[38;5;132;01m}\u001b[39;00m\u001b[38;5;124m'\u001b[39m)\n\u001b[0;32m      9\u001b[0m tqdm\u001b[38;5;241m.\u001b[39mwrite(\u001b[38;5;124mf\u001b[39m\u001b[38;5;124m'\u001b[39m\u001b[38;5;124mMacro recall: \u001b[39m\u001b[38;5;132;01m{\u001b[39;00mrecall_score(y_true,\u001b[38;5;250m \u001b[39my_pred,\u001b[38;5;250m \u001b[39maverage\u001b[38;5;241m=\u001b[39m\u001b[38;5;124m\"\u001b[39m\u001b[38;5;124mmacro\u001b[39m\u001b[38;5;124m\"\u001b[39m)\u001b[38;5;132;01m:\u001b[39;00m\u001b[38;5;124m.4f\u001b[39m\u001b[38;5;132;01m}\u001b[39;00m\u001b[38;5;124m'\u001b[39m)\n\u001b[1;32m---> 10\u001b[0m maf1 \u001b[38;5;241m=\u001b[39m \u001b[43mf1_score\u001b[49m\u001b[43m(\u001b[49m\u001b[43my_true\u001b[49m\u001b[43m,\u001b[49m\u001b[43m \u001b[49m\u001b[43my_pred\u001b[49m\u001b[43m,\u001b[49m\u001b[43m \u001b[49m\u001b[43maverage\u001b[49m\u001b[38;5;241;43m=\u001b[39;49m\u001b[38;5;124;43m'\u001b[39;49m\u001b[38;5;124;43mmacro\u001b[39;49m\u001b[38;5;124;43m'\u001b[39;49m\u001b[43m)\u001b[49m\n\u001b[0;32m     11\u001b[0m tqdm\u001b[38;5;241m.\u001b[39mwrite(\u001b[38;5;124mf\u001b[39m\u001b[38;5;124m'\u001b[39m\u001b[38;5;124mMacro f1-score: \u001b[39m\u001b[38;5;132;01m{\u001b[39;00mmaf1\u001b[38;5;132;01m:\u001b[39;00m\u001b[38;5;124m.4f\u001b[39m\u001b[38;5;132;01m}\u001b[39;00m\u001b[38;5;124m'\u001b[39m)\n\u001b[0;32m     12\u001b[0m \u001b[38;5;28;01mreturn\u001b[39;00m wf1, maf1\n",
      "File \u001b[1;32mc:\\Users\\Marcelo\\AppData\\Local\\anaconda3\\envs\\pytorch_env\\Lib\\site-packages\\sklearn\\utils\\_param_validation.py:213\u001b[0m, in \u001b[0;36mvalidate_params.<locals>.decorator.<locals>.wrapper\u001b[1;34m(*args, **kwargs)\u001b[0m\n\u001b[0;32m    207\u001b[0m \u001b[38;5;28;01mtry\u001b[39;00m:\n\u001b[0;32m    208\u001b[0m     \u001b[38;5;28;01mwith\u001b[39;00m config_context(\n\u001b[0;32m    209\u001b[0m         skip_parameter_validation\u001b[38;5;241m=\u001b[39m(\n\u001b[0;32m    210\u001b[0m             prefer_skip_nested_validation \u001b[38;5;129;01mor\u001b[39;00m global_skip_validation\n\u001b[0;32m    211\u001b[0m         )\n\u001b[0;32m    212\u001b[0m     ):\n\u001b[1;32m--> 213\u001b[0m         \u001b[38;5;28;01mreturn\u001b[39;00m \u001b[43mfunc\u001b[49m\u001b[43m(\u001b[49m\u001b[38;5;241;43m*\u001b[39;49m\u001b[43margs\u001b[49m\u001b[43m,\u001b[49m\u001b[43m \u001b[49m\u001b[38;5;241;43m*\u001b[39;49m\u001b[38;5;241;43m*\u001b[39;49m\u001b[43mkwargs\u001b[49m\u001b[43m)\u001b[49m\n\u001b[0;32m    214\u001b[0m \u001b[38;5;28;01mexcept\u001b[39;00m InvalidParameterError \u001b[38;5;28;01mas\u001b[39;00m e:\n\u001b[0;32m    215\u001b[0m     \u001b[38;5;66;03m# When the function is just a wrapper around an estimator, we allow\u001b[39;00m\n\u001b[0;32m    216\u001b[0m     \u001b[38;5;66;03m# the function to delegate validation to the estimator, but we replace\u001b[39;00m\n\u001b[0;32m    217\u001b[0m     \u001b[38;5;66;03m# the name of the estimator by the name of the function in the error\u001b[39;00m\n\u001b[0;32m    218\u001b[0m     \u001b[38;5;66;03m# message to avoid confusion.\u001b[39;00m\n\u001b[0;32m    219\u001b[0m     msg \u001b[38;5;241m=\u001b[39m re\u001b[38;5;241m.\u001b[39msub(\n\u001b[0;32m    220\u001b[0m         \u001b[38;5;124mr\u001b[39m\u001b[38;5;124m\"\u001b[39m\u001b[38;5;124mparameter of \u001b[39m\u001b[38;5;124m\\\u001b[39m\u001b[38;5;124mw+ must be\u001b[39m\u001b[38;5;124m\"\u001b[39m,\n\u001b[0;32m    221\u001b[0m         \u001b[38;5;124mf\u001b[39m\u001b[38;5;124m\"\u001b[39m\u001b[38;5;124mparameter of \u001b[39m\u001b[38;5;132;01m{\u001b[39;00mfunc\u001b[38;5;241m.\u001b[39m\u001b[38;5;18m__qualname__\u001b[39m\u001b[38;5;132;01m}\u001b[39;00m\u001b[38;5;124m must be\u001b[39m\u001b[38;5;124m\"\u001b[39m,\n\u001b[0;32m    222\u001b[0m         \u001b[38;5;28mstr\u001b[39m(e),\n\u001b[0;32m    223\u001b[0m     )\n",
      "File \u001b[1;32mc:\\Users\\Marcelo\\AppData\\Local\\anaconda3\\envs\\pytorch_env\\Lib\\site-packages\\sklearn\\metrics\\_classification.py:1293\u001b[0m, in \u001b[0;36mf1_score\u001b[1;34m(y_true, y_pred, labels, pos_label, average, sample_weight, zero_division)\u001b[0m\n\u001b[0;32m   1113\u001b[0m \u001b[38;5;129m@validate_params\u001b[39m(\n\u001b[0;32m   1114\u001b[0m     {\n\u001b[0;32m   1115\u001b[0m         \u001b[38;5;124m\"\u001b[39m\u001b[38;5;124my_true\u001b[39m\u001b[38;5;124m\"\u001b[39m: [\u001b[38;5;124m\"\u001b[39m\u001b[38;5;124marray-like\u001b[39m\u001b[38;5;124m\"\u001b[39m, \u001b[38;5;124m\"\u001b[39m\u001b[38;5;124msparse matrix\u001b[39m\u001b[38;5;124m\"\u001b[39m],\n\u001b[1;32m   (...)\u001b[0m\n\u001b[0;32m   1140\u001b[0m     zero_division\u001b[38;5;241m=\u001b[39m\u001b[38;5;124m\"\u001b[39m\u001b[38;5;124mwarn\u001b[39m\u001b[38;5;124m\"\u001b[39m,\n\u001b[0;32m   1141\u001b[0m ):\n\u001b[0;32m   1142\u001b[0m \u001b[38;5;250m    \u001b[39m\u001b[38;5;124;03m\"\"\"Compute the F1 score, also known as balanced F-score or F-measure.\u001b[39;00m\n\u001b[0;32m   1143\u001b[0m \n\u001b[0;32m   1144\u001b[0m \u001b[38;5;124;03m    The F1 score can be interpreted as a harmonic mean of the precision and\u001b[39;00m\n\u001b[1;32m   (...)\u001b[0m\n\u001b[0;32m   1291\u001b[0m \u001b[38;5;124;03m    array([0.66666667, 1.        , 0.66666667])\u001b[39;00m\n\u001b[0;32m   1292\u001b[0m \u001b[38;5;124;03m    \"\"\"\u001b[39;00m\n\u001b[1;32m-> 1293\u001b[0m     \u001b[38;5;28;01mreturn\u001b[39;00m \u001b[43mfbeta_score\u001b[49m\u001b[43m(\u001b[49m\n\u001b[0;32m   1294\u001b[0m \u001b[43m        \u001b[49m\u001b[43my_true\u001b[49m\u001b[43m,\u001b[49m\n\u001b[0;32m   1295\u001b[0m \u001b[43m        \u001b[49m\u001b[43my_pred\u001b[49m\u001b[43m,\u001b[49m\n\u001b[0;32m   1296\u001b[0m \u001b[43m        \u001b[49m\u001b[43mbeta\u001b[49m\u001b[38;5;241;43m=\u001b[39;49m\u001b[38;5;241;43m1\u001b[39;49m\u001b[43m,\u001b[49m\n\u001b[0;32m   1297\u001b[0m \u001b[43m        \u001b[49m\u001b[43mlabels\u001b[49m\u001b[38;5;241;43m=\u001b[39;49m\u001b[43mlabels\u001b[49m\u001b[43m,\u001b[49m\n\u001b[0;32m   1298\u001b[0m \u001b[43m        \u001b[49m\u001b[43mpos_label\u001b[49m\u001b[38;5;241;43m=\u001b[39;49m\u001b[43mpos_label\u001b[49m\u001b[43m,\u001b[49m\n\u001b[0;32m   1299\u001b[0m \u001b[43m        \u001b[49m\u001b[43maverage\u001b[49m\u001b[38;5;241;43m=\u001b[39;49m\u001b[43maverage\u001b[49m\u001b[43m,\u001b[49m\n\u001b[0;32m   1300\u001b[0m \u001b[43m        \u001b[49m\u001b[43msample_weight\u001b[49m\u001b[38;5;241;43m=\u001b[39;49m\u001b[43msample_weight\u001b[49m\u001b[43m,\u001b[49m\n\u001b[0;32m   1301\u001b[0m \u001b[43m        \u001b[49m\u001b[43mzero_division\u001b[49m\u001b[38;5;241;43m=\u001b[39;49m\u001b[43mzero_division\u001b[49m\u001b[43m,\u001b[49m\n\u001b[0;32m   1302\u001b[0m \u001b[43m    \u001b[49m\u001b[43m)\u001b[49m\n",
      "File \u001b[1;32mc:\\Users\\Marcelo\\AppData\\Local\\anaconda3\\envs\\pytorch_env\\Lib\\site-packages\\sklearn\\utils\\_param_validation.py:186\u001b[0m, in \u001b[0;36mvalidate_params.<locals>.decorator.<locals>.wrapper\u001b[1;34m(*args, **kwargs)\u001b[0m\n\u001b[0;32m    184\u001b[0m global_skip_validation \u001b[38;5;241m=\u001b[39m get_config()[\u001b[38;5;124m\"\u001b[39m\u001b[38;5;124mskip_parameter_validation\u001b[39m\u001b[38;5;124m\"\u001b[39m]\n\u001b[0;32m    185\u001b[0m \u001b[38;5;28;01mif\u001b[39;00m global_skip_validation:\n\u001b[1;32m--> 186\u001b[0m     \u001b[38;5;28;01mreturn\u001b[39;00m \u001b[43mfunc\u001b[49m\u001b[43m(\u001b[49m\u001b[38;5;241;43m*\u001b[39;49m\u001b[43margs\u001b[49m\u001b[43m,\u001b[49m\u001b[43m \u001b[49m\u001b[38;5;241;43m*\u001b[39;49m\u001b[38;5;241;43m*\u001b[39;49m\u001b[43mkwargs\u001b[49m\u001b[43m)\u001b[49m\n\u001b[0;32m    188\u001b[0m func_sig \u001b[38;5;241m=\u001b[39m signature(func)\n\u001b[0;32m    190\u001b[0m \u001b[38;5;66;03m# Map *args/**kwargs to the function signature\u001b[39;00m\n",
      "File \u001b[1;32mc:\\Users\\Marcelo\\AppData\\Local\\anaconda3\\envs\\pytorch_env\\Lib\\site-packages\\sklearn\\metrics\\_classification.py:1485\u001b[0m, in \u001b[0;36mfbeta_score\u001b[1;34m(y_true, y_pred, beta, labels, pos_label, average, sample_weight, zero_division)\u001b[0m\n\u001b[0;32m   1305\u001b[0m \u001b[38;5;129m@validate_params\u001b[39m(\n\u001b[0;32m   1306\u001b[0m     {\n\u001b[0;32m   1307\u001b[0m         \u001b[38;5;124m\"\u001b[39m\u001b[38;5;124my_true\u001b[39m\u001b[38;5;124m\"\u001b[39m: [\u001b[38;5;124m\"\u001b[39m\u001b[38;5;124marray-like\u001b[39m\u001b[38;5;124m\"\u001b[39m, \u001b[38;5;124m\"\u001b[39m\u001b[38;5;124msparse matrix\u001b[39m\u001b[38;5;124m\"\u001b[39m],\n\u001b[1;32m   (...)\u001b[0m\n\u001b[0;32m   1334\u001b[0m     zero_division\u001b[38;5;241m=\u001b[39m\u001b[38;5;124m\"\u001b[39m\u001b[38;5;124mwarn\u001b[39m\u001b[38;5;124m\"\u001b[39m,\n\u001b[0;32m   1335\u001b[0m ):\n\u001b[0;32m   1336\u001b[0m \u001b[38;5;250m    \u001b[39m\u001b[38;5;124;03m\"\"\"Compute the F-beta score.\u001b[39;00m\n\u001b[0;32m   1337\u001b[0m \n\u001b[0;32m   1338\u001b[0m \u001b[38;5;124;03m    The F-beta score is the weighted harmonic mean of precision and recall,\u001b[39;00m\n\u001b[1;32m   (...)\u001b[0m\n\u001b[0;32m   1482\u001b[0m \u001b[38;5;124;03m    np.float64(0.12...)\u001b[39;00m\n\u001b[0;32m   1483\u001b[0m \u001b[38;5;124;03m    \"\"\"\u001b[39;00m\n\u001b[1;32m-> 1485\u001b[0m     _, _, f, _ \u001b[38;5;241m=\u001b[39m \u001b[43mprecision_recall_fscore_support\u001b[49m\u001b[43m(\u001b[49m\n\u001b[0;32m   1486\u001b[0m \u001b[43m        \u001b[49m\u001b[43my_true\u001b[49m\u001b[43m,\u001b[49m\n\u001b[0;32m   1487\u001b[0m \u001b[43m        \u001b[49m\u001b[43my_pred\u001b[49m\u001b[43m,\u001b[49m\n\u001b[0;32m   1488\u001b[0m \u001b[43m        \u001b[49m\u001b[43mbeta\u001b[49m\u001b[38;5;241;43m=\u001b[39;49m\u001b[43mbeta\u001b[49m\u001b[43m,\u001b[49m\n\u001b[0;32m   1489\u001b[0m \u001b[43m        \u001b[49m\u001b[43mlabels\u001b[49m\u001b[38;5;241;43m=\u001b[39;49m\u001b[43mlabels\u001b[49m\u001b[43m,\u001b[49m\n\u001b[0;32m   1490\u001b[0m \u001b[43m        \u001b[49m\u001b[43mpos_label\u001b[49m\u001b[38;5;241;43m=\u001b[39;49m\u001b[43mpos_label\u001b[49m\u001b[43m,\u001b[49m\n\u001b[0;32m   1491\u001b[0m \u001b[43m        \u001b[49m\u001b[43maverage\u001b[49m\u001b[38;5;241;43m=\u001b[39;49m\u001b[43maverage\u001b[49m\u001b[43m,\u001b[49m\n\u001b[0;32m   1492\u001b[0m \u001b[43m        \u001b[49m\u001b[43mwarn_for\u001b[49m\u001b[38;5;241;43m=\u001b[39;49m\u001b[43m(\u001b[49m\u001b[38;5;124;43m\"\u001b[39;49m\u001b[38;5;124;43mf-score\u001b[39;49m\u001b[38;5;124;43m\"\u001b[39;49m\u001b[43m,\u001b[49m\u001b[43m)\u001b[49m\u001b[43m,\u001b[49m\n\u001b[0;32m   1493\u001b[0m \u001b[43m        \u001b[49m\u001b[43msample_weight\u001b[49m\u001b[38;5;241;43m=\u001b[39;49m\u001b[43msample_weight\u001b[49m\u001b[43m,\u001b[49m\n\u001b[0;32m   1494\u001b[0m \u001b[43m        \u001b[49m\u001b[43mzero_division\u001b[49m\u001b[38;5;241;43m=\u001b[39;49m\u001b[43mzero_division\u001b[49m\u001b[43m,\u001b[49m\n\u001b[0;32m   1495\u001b[0m \u001b[43m    \u001b[49m\u001b[43m)\u001b[49m\n\u001b[0;32m   1496\u001b[0m     \u001b[38;5;28;01mreturn\u001b[39;00m f\n",
      "File \u001b[1;32mc:\\Users\\Marcelo\\AppData\\Local\\anaconda3\\envs\\pytorch_env\\Lib\\site-packages\\sklearn\\utils\\_param_validation.py:186\u001b[0m, in \u001b[0;36mvalidate_params.<locals>.decorator.<locals>.wrapper\u001b[1;34m(*args, **kwargs)\u001b[0m\n\u001b[0;32m    184\u001b[0m global_skip_validation \u001b[38;5;241m=\u001b[39m get_config()[\u001b[38;5;124m\"\u001b[39m\u001b[38;5;124mskip_parameter_validation\u001b[39m\u001b[38;5;124m\"\u001b[39m]\n\u001b[0;32m    185\u001b[0m \u001b[38;5;28;01mif\u001b[39;00m global_skip_validation:\n\u001b[1;32m--> 186\u001b[0m     \u001b[38;5;28;01mreturn\u001b[39;00m \u001b[43mfunc\u001b[49m\u001b[43m(\u001b[49m\u001b[38;5;241;43m*\u001b[39;49m\u001b[43margs\u001b[49m\u001b[43m,\u001b[49m\u001b[43m \u001b[49m\u001b[38;5;241;43m*\u001b[39;49m\u001b[38;5;241;43m*\u001b[39;49m\u001b[43mkwargs\u001b[49m\u001b[43m)\u001b[49m\n\u001b[0;32m    188\u001b[0m func_sig \u001b[38;5;241m=\u001b[39m signature(func)\n\u001b[0;32m    190\u001b[0m \u001b[38;5;66;03m# Map *args/**kwargs to the function signature\u001b[39;00m\n",
      "File \u001b[1;32mc:\\Users\\Marcelo\\AppData\\Local\\anaconda3\\envs\\pytorch_env\\Lib\\site-packages\\sklearn\\metrics\\_classification.py:1789\u001b[0m, in \u001b[0;36mprecision_recall_fscore_support\u001b[1;34m(y_true, y_pred, beta, labels, pos_label, average, warn_for, sample_weight, zero_division)\u001b[0m\n\u001b[0;32m   1626\u001b[0m \u001b[38;5;250m\u001b[39m\u001b[38;5;124;03m\"\"\"Compute precision, recall, F-measure and support for each class.\u001b[39;00m\n\u001b[0;32m   1627\u001b[0m \n\u001b[0;32m   1628\u001b[0m \u001b[38;5;124;03mThe precision is the ratio ``tp / (tp + fp)`` where ``tp`` is the number of\u001b[39;00m\n\u001b[1;32m   (...)\u001b[0m\n\u001b[0;32m   1786\u001b[0m \u001b[38;5;124;03m array([2, 2, 2]))\u001b[39;00m\n\u001b[0;32m   1787\u001b[0m \u001b[38;5;124;03m\"\"\"\u001b[39;00m\n\u001b[0;32m   1788\u001b[0m _check_zero_division(zero_division)\n\u001b[1;32m-> 1789\u001b[0m labels \u001b[38;5;241m=\u001b[39m \u001b[43m_check_set_wise_labels\u001b[49m\u001b[43m(\u001b[49m\u001b[43my_true\u001b[49m\u001b[43m,\u001b[49m\u001b[43m \u001b[49m\u001b[43my_pred\u001b[49m\u001b[43m,\u001b[49m\u001b[43m \u001b[49m\u001b[43maverage\u001b[49m\u001b[43m,\u001b[49m\u001b[43m \u001b[49m\u001b[43mlabels\u001b[49m\u001b[43m,\u001b[49m\u001b[43m \u001b[49m\u001b[43mpos_label\u001b[49m\u001b[43m)\u001b[49m\n\u001b[0;32m   1791\u001b[0m \u001b[38;5;66;03m# Calculate tp_sum, pred_sum, true_sum ###\u001b[39;00m\n\u001b[0;32m   1792\u001b[0m samplewise \u001b[38;5;241m=\u001b[39m average \u001b[38;5;241m==\u001b[39m \u001b[38;5;124m\"\u001b[39m\u001b[38;5;124msamples\u001b[39m\u001b[38;5;124m\"\u001b[39m\n",
      "File \u001b[1;32mc:\\Users\\Marcelo\\AppData\\Local\\anaconda3\\envs\\pytorch_env\\Lib\\site-packages\\sklearn\\metrics\\_classification.py:1561\u001b[0m, in \u001b[0;36m_check_set_wise_labels\u001b[1;34m(y_true, y_pred, average, labels, pos_label)\u001b[0m\n\u001b[0;32m   1558\u001b[0m \u001b[38;5;28;01mif\u001b[39;00m average \u001b[38;5;129;01mnot\u001b[39;00m \u001b[38;5;129;01min\u001b[39;00m average_options \u001b[38;5;129;01mand\u001b[39;00m average \u001b[38;5;241m!=\u001b[39m \u001b[38;5;124m\"\u001b[39m\u001b[38;5;124mbinary\u001b[39m\u001b[38;5;124m\"\u001b[39m:\n\u001b[0;32m   1559\u001b[0m     \u001b[38;5;28;01mraise\u001b[39;00m \u001b[38;5;167;01mValueError\u001b[39;00m(\u001b[38;5;124m\"\u001b[39m\u001b[38;5;124maverage has to be one of \u001b[39m\u001b[38;5;124m\"\u001b[39m \u001b[38;5;241m+\u001b[39m \u001b[38;5;28mstr\u001b[39m(average_options))\n\u001b[1;32m-> 1561\u001b[0m y_type, y_true, y_pred \u001b[38;5;241m=\u001b[39m \u001b[43m_check_targets\u001b[49m\u001b[43m(\u001b[49m\u001b[43my_true\u001b[49m\u001b[43m,\u001b[49m\u001b[43m \u001b[49m\u001b[43my_pred\u001b[49m\u001b[43m)\u001b[49m\n\u001b[0;32m   1562\u001b[0m \u001b[38;5;66;03m# Convert to Python primitive type to avoid NumPy type / Python str\u001b[39;00m\n\u001b[0;32m   1563\u001b[0m \u001b[38;5;66;03m# comparison. See https://github.com/numpy/numpy/issues/6784\u001b[39;00m\n\u001b[0;32m   1564\u001b[0m present_labels \u001b[38;5;241m=\u001b[39m unique_labels(y_true, y_pred)\u001b[38;5;241m.\u001b[39mtolist()\n",
      "File \u001b[1;32mc:\\Users\\Marcelo\\AppData\\Local\\anaconda3\\envs\\pytorch_env\\Lib\\site-packages\\sklearn\\metrics\\_classification.py:131\u001b[0m, in \u001b[0;36m_check_targets\u001b[1;34m(y_true, y_pred)\u001b[0m\n\u001b[0;32m    129\u001b[0m \u001b[38;5;28;01mif\u001b[39;00m y_type \u001b[38;5;241m==\u001b[39m \u001b[38;5;124m\"\u001b[39m\u001b[38;5;124mbinary\u001b[39m\u001b[38;5;124m\"\u001b[39m:\n\u001b[0;32m    130\u001b[0m     \u001b[38;5;28;01mtry\u001b[39;00m:\n\u001b[1;32m--> 131\u001b[0m         unique_values \u001b[38;5;241m=\u001b[39m \u001b[43m_union1d\u001b[49m\u001b[43m(\u001b[49m\u001b[43my_true\u001b[49m\u001b[43m,\u001b[49m\u001b[43m \u001b[49m\u001b[43my_pred\u001b[49m\u001b[43m,\u001b[49m\u001b[43m \u001b[49m\u001b[43mxp\u001b[49m\u001b[43m)\u001b[49m\n\u001b[0;32m    132\u001b[0m     \u001b[38;5;28;01mexcept\u001b[39;00m \u001b[38;5;167;01mTypeError\u001b[39;00m \u001b[38;5;28;01mas\u001b[39;00m e:\n\u001b[0;32m    133\u001b[0m         \u001b[38;5;66;03m# We expect y_true and y_pred to be of the same data type.\u001b[39;00m\n\u001b[0;32m    134\u001b[0m         \u001b[38;5;66;03m# If `y_true` was provided to the classifier as strings,\u001b[39;00m\n\u001b[0;32m    135\u001b[0m         \u001b[38;5;66;03m# `y_pred` given by the classifier will also be encoded with\u001b[39;00m\n\u001b[0;32m    136\u001b[0m         \u001b[38;5;66;03m# strings. So we raise a meaningful error\u001b[39;00m\n\u001b[0;32m    137\u001b[0m         \u001b[38;5;28;01mraise\u001b[39;00m \u001b[38;5;167;01mTypeError\u001b[39;00m(\n\u001b[0;32m    138\u001b[0m             \u001b[38;5;124m\"\u001b[39m\u001b[38;5;124mLabels in y_true and y_pred should be of the same type. \u001b[39m\u001b[38;5;124m\"\u001b[39m\n\u001b[0;32m    139\u001b[0m             \u001b[38;5;124mf\u001b[39m\u001b[38;5;124m\"\u001b[39m\u001b[38;5;124mGot y_true=\u001b[39m\u001b[38;5;132;01m{\u001b[39;00mxp\u001b[38;5;241m.\u001b[39munique(y_true)\u001b[38;5;132;01m}\u001b[39;00m\u001b[38;5;124m and \u001b[39m\u001b[38;5;124m\"\u001b[39m\n\u001b[1;32m   (...)\u001b[0m\n\u001b[0;32m    142\u001b[0m             \u001b[38;5;124m\"\u001b[39m\u001b[38;5;124mthe true labels.\u001b[39m\u001b[38;5;124m\"\u001b[39m\n\u001b[0;32m    143\u001b[0m         ) \u001b[38;5;28;01mfrom\u001b[39;00m \u001b[38;5;21;01me\u001b[39;00m\n",
      "File \u001b[1;32mc:\\Users\\Marcelo\\AppData\\Local\\anaconda3\\envs\\pytorch_env\\Lib\\site-packages\\sklearn\\utils\\_array_api.py:184\u001b[0m, in \u001b[0;36m_union1d\u001b[1;34m(a, b, xp)\u001b[0m\n\u001b[0;32m    182\u001b[0m \u001b[38;5;28;01mdef\u001b[39;00m \u001b[38;5;21m_union1d\u001b[39m(a, b, xp):\n\u001b[0;32m    183\u001b[0m     \u001b[38;5;28;01mif\u001b[39;00m _is_numpy_namespace(xp):\n\u001b[1;32m--> 184\u001b[0m         \u001b[38;5;28;01mreturn\u001b[39;00m xp\u001b[38;5;241m.\u001b[39masarray(\u001b[43mnumpy\u001b[49m\u001b[38;5;241;43m.\u001b[39;49m\u001b[43munion1d\u001b[49m\u001b[43m(\u001b[49m\u001b[43ma\u001b[49m\u001b[43m,\u001b[49m\u001b[43m \u001b[49m\u001b[43mb\u001b[49m\u001b[43m)\u001b[49m)\n\u001b[0;32m    185\u001b[0m     \u001b[38;5;28;01massert\u001b[39;00m a\u001b[38;5;241m.\u001b[39mndim \u001b[38;5;241m==\u001b[39m b\u001b[38;5;241m.\u001b[39mndim \u001b[38;5;241m==\u001b[39m \u001b[38;5;241m1\u001b[39m\n\u001b[0;32m    186\u001b[0m     \u001b[38;5;28;01mreturn\u001b[39;00m xp\u001b[38;5;241m.\u001b[39munique_values(xp\u001b[38;5;241m.\u001b[39mconcat([xp\u001b[38;5;241m.\u001b[39munique_values(a), xp\u001b[38;5;241m.\u001b[39munique_values(b)]))\n",
      "File \u001b[1;32mc:\\Users\\Marcelo\\AppData\\Local\\anaconda3\\envs\\pytorch_env\\Lib\\site-packages\\numpy\\lib\\_arraysetops_impl.py:1142\u001b[0m, in \u001b[0;36munion1d\u001b[1;34m(ar1, ar2)\u001b[0m\n\u001b[0;32m   1113\u001b[0m \u001b[38;5;129m@array_function_dispatch\u001b[39m(_union1d_dispatcher)\n\u001b[0;32m   1114\u001b[0m \u001b[38;5;28;01mdef\u001b[39;00m \u001b[38;5;21munion1d\u001b[39m(ar1, ar2):\n\u001b[0;32m   1115\u001b[0m \u001b[38;5;250m    \u001b[39m\u001b[38;5;124;03m\"\"\"\u001b[39;00m\n\u001b[0;32m   1116\u001b[0m \u001b[38;5;124;03m    Find the union of two arrays.\u001b[39;00m\n\u001b[0;32m   1117\u001b[0m \n\u001b[1;32m   (...)\u001b[0m\n\u001b[0;32m   1140\u001b[0m \u001b[38;5;124;03m    array([1, 2, 3, 4, 6])\u001b[39;00m\n\u001b[0;32m   1141\u001b[0m \u001b[38;5;124;03m    \"\"\"\u001b[39;00m\n\u001b[1;32m-> 1142\u001b[0m     \u001b[38;5;28;01mreturn\u001b[39;00m \u001b[43munique\u001b[49m\u001b[43m(\u001b[49m\u001b[43mnp\u001b[49m\u001b[38;5;241;43m.\u001b[39;49m\u001b[43mconcatenate\u001b[49m\u001b[43m(\u001b[49m\u001b[43m(\u001b[49m\u001b[43mar1\u001b[49m\u001b[43m,\u001b[49m\u001b[43m \u001b[49m\u001b[43mar2\u001b[49m\u001b[43m)\u001b[49m\u001b[43m,\u001b[49m\u001b[43m \u001b[49m\u001b[43maxis\u001b[49m\u001b[38;5;241;43m=\u001b[39;49m\u001b[38;5;28;43;01mNone\u001b[39;49;00m\u001b[43m)\u001b[49m\u001b[43m)\u001b[49m\n",
      "File \u001b[1;32mc:\\Users\\Marcelo\\AppData\\Local\\anaconda3\\envs\\pytorch_env\\Lib\\site-packages\\numpy\\lib\\_arraysetops_impl.py:289\u001b[0m, in \u001b[0;36munique\u001b[1;34m(ar, return_index, return_inverse, return_counts, axis, equal_nan)\u001b[0m\n\u001b[0;32m    287\u001b[0m ar \u001b[38;5;241m=\u001b[39m np\u001b[38;5;241m.\u001b[39masanyarray(ar)\n\u001b[0;32m    288\u001b[0m \u001b[38;5;28;01mif\u001b[39;00m axis \u001b[38;5;129;01mis\u001b[39;00m \u001b[38;5;28;01mNone\u001b[39;00m:\n\u001b[1;32m--> 289\u001b[0m     ret \u001b[38;5;241m=\u001b[39m \u001b[43m_unique1d\u001b[49m\u001b[43m(\u001b[49m\u001b[43mar\u001b[49m\u001b[43m,\u001b[49m\u001b[43m \u001b[49m\u001b[43mreturn_index\u001b[49m\u001b[43m,\u001b[49m\u001b[43m \u001b[49m\u001b[43mreturn_inverse\u001b[49m\u001b[43m,\u001b[49m\u001b[43m \u001b[49m\u001b[43mreturn_counts\u001b[49m\u001b[43m,\u001b[49m\u001b[43m \u001b[49m\n\u001b[0;32m    290\u001b[0m \u001b[43m                    \u001b[49m\u001b[43mequal_nan\u001b[49m\u001b[38;5;241;43m=\u001b[39;49m\u001b[43mequal_nan\u001b[49m\u001b[43m,\u001b[49m\u001b[43m \u001b[49m\u001b[43minverse_shape\u001b[49m\u001b[38;5;241;43m=\u001b[39;49m\u001b[43mar\u001b[49m\u001b[38;5;241;43m.\u001b[39;49m\u001b[43mshape\u001b[49m\u001b[43m,\u001b[49m\u001b[43m \u001b[49m\u001b[43maxis\u001b[49m\u001b[38;5;241;43m=\u001b[39;49m\u001b[38;5;28;43;01mNone\u001b[39;49;00m\u001b[43m)\u001b[49m\n\u001b[0;32m    291\u001b[0m     \u001b[38;5;28;01mreturn\u001b[39;00m _unpack_tuple(ret)\n\u001b[0;32m    293\u001b[0m \u001b[38;5;66;03m# axis was specified and not None\u001b[39;00m\n",
      "File \u001b[1;32mc:\\Users\\Marcelo\\AppData\\Local\\anaconda3\\envs\\pytorch_env\\Lib\\site-packages\\numpy\\lib\\_arraysetops_impl.py:356\u001b[0m, in \u001b[0;36m_unique1d\u001b[1;34m(ar, return_index, return_inverse, return_counts, equal_nan, inverse_shape, axis)\u001b[0m\n\u001b[0;32m    354\u001b[0m     aux \u001b[38;5;241m=\u001b[39m ar[perm]\n\u001b[0;32m    355\u001b[0m \u001b[38;5;28;01melse\u001b[39;00m:\n\u001b[1;32m--> 356\u001b[0m     \u001b[43mar\u001b[49m\u001b[38;5;241;43m.\u001b[39;49m\u001b[43msort\u001b[49m\u001b[43m(\u001b[49m\u001b[43m)\u001b[49m\n\u001b[0;32m    357\u001b[0m     aux \u001b[38;5;241m=\u001b[39m ar\n\u001b[0;32m    358\u001b[0m mask \u001b[38;5;241m=\u001b[39m np\u001b[38;5;241m.\u001b[39mempty(aux\u001b[38;5;241m.\u001b[39mshape, dtype\u001b[38;5;241m=\u001b[39mnp\u001b[38;5;241m.\u001b[39mbool)\n",
      "\u001b[1;31mKeyboardInterrupt\u001b[0m: "
     ]
    }
   ],
   "source": [
    "def print_score(y_true, y_pred):\n",
    "    tqdm.write('------Weighted------')\n",
    "    tqdm.write(f'Weighted precision: {precision_score(y_true, y_pred, average=\"weighted\"):.4f}')\n",
    "    tqdm.write(f'Weighted recall: {recall_score(y_true, y_pred, average=\"weighted\"):.4f}')\n",
    "    wf1 = f1_score(y_true, y_pred, average='weighted')\n",
    "    tqdm.write(f'Weighted f1-score: {wf1:.4f}')\n",
    "    tqdm.write('------Macro------')\n",
    "    tqdm.write(f'Macro precision: {precision_score(y_true, y_pred, average=\"macro\"):.4f}')\n",
    "    tqdm.write(f'Macro recall: {recall_score(y_true, y_pred, average=\"macro\"):.4f}')\n",
    "    maf1 = f1_score(y_true, y_pred, average='macro')\n",
    "    tqdm.write(f'Macro f1-score: {maf1:.4f}')\n",
    "    return wf1, maf1\n",
    "\n",
    "\n",
    "def is_image_file(filename):\n",
    "    return filename.lower().endswith(('.bmp', '.png', '.jpg', '.jpeg'))\n",
    "\n",
    "\n",
    "def find_classes(dir):\n",
    "    classes = [d.name for d in os.scandir(dir) if d.is_dir()]\n",
    "    classes.sort()\n",
    "    class_to_idx = {cls_name: i for i, cls_name in enumerate(classes)}\n",
    "    return classes, class_to_idx\n",
    "\n",
    "\n",
    "data_transforms = {\n",
    "    'train': transforms.Compose([\n",
    "        transforms.Resize((96, 96)),\n",
    "        transforms.RandomApply([\n",
    "            transforms.RandomHorizontalFlip(),\n",
    "            transforms.RandomVerticalFlip(),\n",
    "            transforms.RandomRotation(270),\n",
    "            transforms.RandomAffine(degrees=270, translate=(0.1, 0.1), shear=0.1, scale=(0.98, 1.02)),\n",
    "            transforms.ColorJitter(brightness=0.2, contrast=0.2)\n",
    "        ], p=0.5),\n",
    "        transforms.ToTensor(),\n",
    "        transforms.Normalize(mean=[0.5, 0.5, 0.5], std=[0.5, 0.5, 0.5])\n",
    "    ]),\n",
    "    'val': transforms.Compose([\n",
    "        transforms.Resize((96, 96)),\n",
    "        transforms.ToTensor(),\n",
    "        transforms.Normalize(mean=[0.5, 0.5, 0.5], std=[0.5, 0.5, 0.5])\n",
    "    ]),\n",
    "}\n",
    "\n",
    "\n",
    "def train():\n",
    "    model.train()\n",
    "    loss, correct, total = 1e-5, 0, 0\n",
    "    pred_total = None\n",
    "    y_total = None\n",
    "    for batch_idx, (data, targets) in enumerate(tqdm(train_loader)):\n",
    "        data = data.to(device)\n",
    "        targets = targets.to(device)\n",
    "\n",
    "        with torch.amp.autocast('cuda'):\n",
    "            scores = model(data)\n",
    "            current_loss = criterion(scores, targets)\n",
    "\n",
    "        optimizer.zero_grad()\n",
    "        scaler.scale(current_loss).backward()\n",
    "        scaler.step(optimizer)\n",
    "        scaler.update()\n",
    "\n",
    "        _, predictions = torch.max(scores, dim=1)\n",
    "        loss += current_loss.item()\n",
    "        total += targets.size(0)\n",
    "        correct += (predictions == targets).sum().item()\n",
    "        if pred_total is None:\n",
    "            pred_total = predictions\n",
    "            y_total = targets\n",
    "        else:\n",
    "            pred_total = torch.concat([pred_total, predictions], dim=0)\n",
    "            y_total = torch.concat([y_total, targets], dim=0)\n",
    "    batch_idx += 1\n",
    "    loss /= batch_idx\n",
    "    train_acc = 100 * correct / total\n",
    "    print(f'Train Loss: {loss}')\n",
    "    print(f'Train Acc ({total}): {train_acc}%')\n",
    "    print_score(y_total.flatten().cpu(), pred_total.flatten().cpu())\n",
    "    return loss, train_acc\n",
    "\n",
    "\n",
    "def val():\n",
    "    model.eval()\n",
    "    loss, correct, total = 1e-5, 0, 0\n",
    "    pred_total = []\n",
    "    y_total = []\n",
    "    with torch.no_grad():\n",
    "        for batch_idx, (data, targets) in enumerate(tqdm(val_loader)):\n",
    "            data = data.to(device)\n",
    "            targets = targets.to(device)\n",
    "\n",
    "            scores = model(data)\n",
    "            val_loss = criterion(scores, targets)\n",
    "            _, predictions = torch.max(scores, dim=1)\n",
    "            loss += val_loss.item()\n",
    "            total += targets.size(0)\n",
    "            correct += (predictions == targets).sum().item()\n",
    "            pred_total.extend(predictions.cpu().numpy())\n",
    "            y_total.extend(targets.cpu().numpy())\n",
    "    batch_idx += 1\n",
    "    loss /= batch_idx\n",
    "    accuracy = 100 * correct / total\n",
    "    print(f'Val Loss: {loss}')\n",
    "    print(f'Val Acc ({total}): {accuracy}%')\n",
    "    print_score(np.array(y_total), np.array(pred_total))\n",
    "    return loss, accuracy, y_total, pred_total\n",
    "\n",
    "if __name__ == \"__main__\":\n",
    "    dir = r'D:\\Pesquisa\\herlev_mestrado\\Herlev\\images_png'\n",
    "    classes, class_to_idx = find_classes(dir)\n",
    "    class_to_idx = {k: (0 if k.startswith('normal') else 1) for k in class_to_idx}\n",
    "    num_classes = 2\n",
    "    imgs = []\n",
    "    labels = []\n",
    "    for target_class in sorted(class_to_idx.keys()):\n",
    "        class_index = class_to_idx[target_class]\n",
    "        target_dir = os.path.join(dir, target_class)\n",
    "        if not os.path.isdir(target_dir):\n",
    "            continue\n",
    "        for root, _, fnames in sorted(os.walk(target_dir, followlinks=True)):\n",
    "            for fname in sorted(fnames):\n",
    "                path = os.path.join(root, fname)\n",
    "                if is_image_file(path):\n",
    "                    imgs.append(path)\n",
    "                    labels.append(class_index)\n",
    "\n",
    "    skf = StratifiedKFold(n_splits=5)\n",
    "    test_accuracies = []\n",
    "    test_losses = []\n",
    "    train_loss_list = []\n",
    "    val_loss_list = []\n",
    "    train_accuracy_list = []\n",
    "    val_accuracy_list = []\n",
    "    all_preds = []\n",
    "    all_labels = []\n",
    "    all_precisions = []\n",
    "    all_recalls = []\n",
    "    all_f1s = []\n",
    "\n",
    "    for fold, (train_idx, val_idx) in enumerate(skf.split(imgs, labels)):\n",
    "        print(f'Fold {fold + 1}')\n",
    "        train_imgs, val_imgs = np.array(imgs)[train_idx], np.array(imgs)[val_idx]\n",
    "        train_labels, val_labels = np.array(labels)[train_idx], np.array(labels)[val_idx]\n",
    "\n",
    "        # Further split train set to create a small validation set\n",
    "        train_imgs, val_imgs_inner, train_labels, val_labels_inner = train_test_split(\n",
    "            train_imgs, train_labels, test_size=0.05, stratify=train_labels\n",
    "        )\n",
    "        settings = TolerateLossEpochsPeriod(7e-2)\n",
    "        train_dataset = MyDataset(train_imgs, train_labels, transform=data_transforms['train'])\n",
    "        val_dataset = MyDataset(val_imgs_inner, val_labels_inner, transform=data_transforms['val'])\n",
    "        train_loader = DataLoader(train_dataset, batch_size=batch_size, shuffle=True)\n",
    "        val_loader = DataLoader(val_dataset, batch_size=batch_size, shuffle=True)\n",
    "        device = torch.device('cuda:0' if torch.cuda.is_available() else 'cpu')\n",
    "        model = VTCNet(num_classes).to(device)\n",
    "        initialize_weights(model)\n",
    "        model = nn.DataParallel(model)\n",
    "\n",
    "        criterion = nn.CrossEntropyLoss()\n",
    "        optimizer = torch.optim.AdamW(model.parameters(), lr=learning_rate, weight_decay=3e-2)\n",
    "        scaler = torch.amp.GradScaler()\n",
    "        train_loss = 1e5\n",
    "        scheduler = torch.optim.lr_scheduler.StepLR(optimizer, step_size=30, gamma=0.1)\n",
    "        best_acc = 0.0\n",
    "        best_model_wts = None\n",
    "\n",
    "        for epoch in range(num_epochs):\n",
    "            settings.step(train_loss)\n",
    "            print(f'Epoch {epoch + 1}/{num_epochs}')\n",
    "            train_loss, train_acc = train()\n",
    "            val_loss, val_acc, _, _ = val()\n",
    "            scheduler.step()\n",
    "            print(f'Training Loss: {train_loss}, Training Accuracy: {train_acc}%')\n",
    "            print(f'Validation Loss: {val_loss}, Validation Accuracy: {val_acc}%')\n",
    "            if val_acc > best_acc:\n",
    "                best_acc = val_acc\n",
    "                best_model_wts = model.state_dict()\n",
    "\n",
    "            train_loss_list.append(train_loss)\n",
    "            val_loss_list.append(val_loss)\n",
    "            train_accuracy_list.append(train_acc)\n",
    "            val_accuracy_list.append(val_acc)\n",
    "        \n",
    "        # Load best model weights from the validation phase\n",
    "        model.load_state_dict(best_model_wts)\n",
    "\n",
    "        # Evaluate the model on the final validation set (which serves as the test set for this fold)\n",
    "        final_val_dataset = MyDataset(val_imgs, val_labels, transform=data_transforms['val'])\n",
    "        final_val_dataloader = DataLoader(final_val_dataset, batch_size=batch_size, shuffle=False)\n",
    "        test_loss, test_acc, y_true, y_pred = val()\n",
    "\n",
    "        # Record the test accuracy and loss\n",
    "        test_accuracies.append(test_acc)\n",
    "        test_losses.append(test_loss)\n",
    "\n",
    "        all_preds.extend(y_pred)\n",
    "        all_labels.extend(y_true)\n",
    "\n",
    "        precision = precision_score(y_true, y_pred, average='macro',zero_division=0)\n",
    "        recall = recall_score(y_true, y_pred, average='macro',zero_division=0)\n",
    "        f1 = f1_score(y_true, y_pred, average='macro',zero_division=0)\n",
    "\n",
    "        all_precisions.append(precision)\n",
    "        all_recalls.append(recall)\n",
    "        all_f1s.append(f1)\n",
    "\n",
    "        print(f'Fold {fold + 1}, Test Accuracy: {test_acc:.2f}%, Test Loss: {test_loss:.4f}')\n",
    "        print(f'Precision: {precision:.4f}, Recall: {recall:.4f}, F1-score: {f1:.4f}')\n",
    "        \n",
    "\n",
    "    # Calculate the average test accuracy, loss, precision, recall, and f1-score across all folds\n",
    "    average_test_acc = np.mean(test_accuracies)\n",
    "    average_test_loss = np.mean(test_losses)\n",
    "    average_precision = np.mean(all_precisions)\n",
    "    average_recall = np.mean(all_recalls)\n",
    "    average_f1 = np.mean(all_f1s)\n",
    "\n",
    "    print(f'Average Test Accuracy: {average_test_acc:.2f}%, Average Test Loss: {average_test_loss:.4f}')\n",
    "    print(f'Average Precision: {average_precision:.4f}, Average Recall: {average_recall:.4f}, Average F1-score: {average_f1:.4f}')\n",
    "\n",
    "    # Plot training and validation loss and accuracy\n",
    "    epochs = range(1, len(train_loss_list) + 1)\n",
    "    plt.figure(figsize=(14, 6))\n",
    "    plt.subplot(1, 2, 1)\n",
    "    plt.plot(epochs, train_loss_list, label='Training loss')\n",
    "    plt.plot(epochs, val_loss_list, label='Validation loss')\n",
    "    plt.title('Training and Validation Loss')\n",
    "    plt.xlabel('Epochs')\n",
    "    plt.ylabel('Loss')\n",
    "    plt.legend()\n",
    "\n",
    "    plt.subplot(1, 2, 2)\n",
    "    plt.plot(epochs, train_accuracy_list, label='Training Accuracy')\n",
    "    plt.plot(epochs, val_accuracy_list, label='Validation Accuracy')\n",
    "    plt.title('Training and Validation Accuracy')\n",
    "    plt.xlabel('Epochs')\n",
    "    plt.ylabel('Accuracy (%)')\n",
    "    plt.legend()\n",
    "\n",
    "    plt.tight_layout()\n",
    "    plt.show()\n",
    "\n",
    "    # Plot confusion matrix\n",
    "    cm = confusion_matrix(all_labels, all_preds)\n",
    "    plt.figure(figsize=(10, 8))\n",
    "    sns.heatmap(cm, annot=True, fmt=\"d\", cmap=\"Blues\", xticklabels=classes, yticklabels=classes)\n",
    "    plt.ylabel('Actual')\n",
    "    plt.xlabel('Predicted')\n",
    "    plt.title('Confusion Matrix')\n",
    "    plt.show()\n"
   ]
  },
  {
   "cell_type": "code",
   "execution_count": null,
   "metadata": {},
   "outputs": [],
   "source": [
    "# Load best model weights from the validation phase\n",
    "model.load_state_dict(best_model_wts)\n",
    "\n",
    "# Evaluate the model on the final validation set (which serves as the test set for this fold)\n",
    "final_val_dataset = MyDataset(val_imgs, val_labels, transform=data_transforms['val'])\n",
    "final_val_dataloader = DataLoader(final_val_dataset, batch_size=batch_size, shuffle=False)\n",
    "test_loss, test_acc, y_true, y_pred = val()\n",
    "\n",
    "# Record the test accuracy and loss\n",
    "test_accuracies.append(test_acc)\n",
    "test_losses.append(test_loss)\n",
    "\n",
    "all_preds.extend(y_pred)\n",
    "all_labels.extend(y_true)\n",
    "\n",
    "precision = precision_score(y_true, y_pred, average='macro')\n",
    "recall = recall_score(y_true, y_pred, average='macro')\n",
    "f1 = f1_score(y_true, y_pred, average='macro')\n",
    "\n",
    "all_precisions.append(precision)\n",
    "all_recalls.append(recall)\n",
    "all_f1s.append(f1)\n",
    "\n",
    "print(f'Fold {fold + 1}, Test Accuracy: {test_acc:.2f}%, Test Loss: {test_loss:.4f}')\n",
    "print(f'Precision: {precision:.4f}, Recall: {recall:.4f}, F1-score: {f1:.4f}')\n",
    "\n",
    "# Calculate the average test accuracy, loss, precision, recall, and f1-score across all folds\n",
    "average_test_acc = np.mean(test_accuracies)\n",
    "average_test_loss = np.mean(test_losses)\n",
    "average_precision = np.mean(all_precisions)\n",
    "average_recall = np.mean(all_recalls)\n",
    "average_f1 = np.mean(all_f1s)\n",
    "\n",
    "print(f'Average Test Accuracy: {average_test_acc:.2f}%, Average Test Loss: {average_test_loss:.4f}')\n",
    "print(f'Average Precision: {average_precision:.4f}, Average Recall: {average_recall:.4f}, Average F1-score: {average_f1:.4f}')\n",
    "\n",
    "# Plot training and validation loss and accuracy\n",
    "epochs = range(1, len(train_loss_list) + 1)\n",
    "plt.figure(figsize=(14, 6))\n",
    "plt.subplot(1, 2, 1)\n",
    "plt.plot(epochs, train_loss_list, label='Training loss')\n",
    "plt.plot(epochs, val_loss_list, label='Validation loss')\n",
    "plt.title('Training and Validation Loss')\n",
    "plt.xlabel('Epochs')\n",
    "plt.ylabel('Loss')\n",
    "plt.legend()\n",
    "\n",
    "plt.subplot(1, 2, 2)\n",
    "plt.plot(epochs, train_accuracy_list, label='Training Accuracy')\n",
    "plt.plot(epochs, val_accuracy_list, label='Validation Accuracy')\n",
    "plt.title('Training and Validation Accuracy')\n",
    "plt.xlabel('Epochs')\n",
    "plt.ylabel('Accuracy (%)')\n",
    "plt.legend()\n",
    "\n",
    "plt.tight_layout()\n",
    "plt.show()\n",
    "\n",
    "# Plot confusion matrix\n",
    "cm = confusion_matrix(all_labels, all_preds)\n",
    "plt.figure(figsize=(10, 8))\n",
    "sns.heatmap(cm, annot=True, fmt=\"d\", cmap=\"Blues\", xticklabels=['Normal','Anormal'], yticklabels=['Normal','Anormal'])\n",
    "plt.ylabel('Actual')\n",
    "plt.xlabel('Predicted')\n",
    "plt.title('Confusion Matrix')\n",
    "plt.show()\n"
   ]
  },
  {
   "cell_type": "code",
   "execution_count": null,
   "metadata": {
    "trusted": true
   },
   "outputs": [
    {
     "name": "stdout",
     "output_type": "stream",
     "text": [
      "Average Test Accuracy: 97.30%, Average Test Loss: 0.0705\n",
      "Average Precision: 0.9545, Average Recall: 0.9815, Average F1-score: 0.9668\n"
     ]
    },
    {
     "data": {
      "image/png": "[encoded data removed]",
      "text/plain": [
       "<Figure size 1400x600 with 2 Axes>"
      ]
     },
     "metadata": {},
     "output_type": "display_data"
    },
    {
     "data": {
      "image/png": "[encoded data removed]",
      "text/plain": [
       "<Figure size 1000x800 with 2 Axes>"
      ]
     },
     "metadata": {},
     "output_type": "display_data"
    }
   ],
   "source": [
    "\n",
    "print(f'Average Test Accuracy: {average_test_acc:.2f}%, Average Test Loss: {average_test_loss:.4f}')\n",
    "print(f'Average Precision: {average_precision:.4f}, Average Recall: {average_recall:.4f}, Average F1-score: {average_f1:.4f}')\n",
    "\n",
    "# Plot training and validation loss and accuracy\n",
    "epochs = range(1, len(train_loss_list) + 1)\n",
    "plt.figure(figsize=(14, 6))\n",
    "plt.subplot(1, 2, 1)\n",
    "plt.plot(epochs, train_loss_list, label='Training loss')\n",
    "plt.plot(epochs, val_loss_list, label='Validation loss')\n",
    "plt.title('Training and Validation Loss')\n",
    "plt.xlabel('Epochs')\n",
    "plt.ylabel('Loss')\n",
    "plt.legend()\n",
    "\n",
    "plt.subplot(1, 2, 2)\n",
    "plt.plot(epochs, train_accuracy_list, label='Training Accuracy')\n",
    "plt.plot(epochs, val_accuracy_list, label='Validation Accuracy')\n",
    "plt.title('Training and Validation Accuracy')\n",
    "plt.xlabel('Epochs')\n",
    "plt.ylabel('Accuracy (%)')\n",
    "plt.legend()\n",
    "\n",
    "plt.tight_layout()\n",
    "plt.show()\n",
    "\n",
    "# Plot confusion matrix\n",
    "cm = confusion_matrix(all_labels, all_preds)\n",
    "plt.figure(figsize=(10, 8))\n",
    "sns.heatmap(cm, annot=True, fmt=\"d\", cmap=\"Blues\", xticklabels=['Normal','Anormal'], yticklabels=['Normal','Anormal'])\n",
    "plt.ylabel('Actual')\n",
    "plt.xlabel('Predicted')\n",
    "plt.title('Confusion Matrix')\n",
    "plt.show()\n"
   ]
  },
  {
   "cell_type": "code",
   "execution_count": null,
   "metadata": {},
   "outputs": [],
   "source": []
  }
 ],
 "metadata": {
  "kaggle": {
   "accelerator": "none",
   "dataSources": [
    {
     "datasetId": 3751902,
     "sourceId": 6492202,
     "sourceType": "datasetVersion"
    }
   ],
   "dockerImageVersionId": 30698,
   "isGpuEnabled": false,
   "isInternetEnabled": true,
   "language": "python",
   "sourceType": "notebook"
  },
  "kernelspec": {
   "display_name": "pytorch_env",
   "language": "python",
   "name": "python3"
  },
  "language_info": {
   "codemirror_mode": {
    "name": "ipython",
    "version": 3
   },
   "file_extension": ".py",
   "mimetype": "text/x-python",
   "name": "python",
   "nbconvert_exporter": "python",
   "pygments_lexer": "ipython3",
   "version": "3.12.7"
  }
 },
 "nbformat": 4,
 "nbformat_minor": 4
}
